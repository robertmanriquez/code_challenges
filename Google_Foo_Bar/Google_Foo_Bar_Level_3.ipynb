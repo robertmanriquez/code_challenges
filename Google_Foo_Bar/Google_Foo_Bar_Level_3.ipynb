{
 "cells": [
  {
   "cell_type": "markdown",
   "metadata": {},
   "source": [
    "Fuel Injection Perfection\n",
    "=========================\n",
    "\n",
    "Commander Lambda has asked for your help to refine the automatic quantum antimatter fuel injection system for her LAMBCHOP doomsday device. It's a great chance for you to get a closer look at the LAMBCHOP - and maybe sneak in a bit of sabotage while you're at it - so you took the job gladly. \n",
    "\n",
    "Quantum antimatter fuel comes in small pellets, which is convenient since the many moving parts of the LAMBCHOP each need to be fed fuel one pellet at a time. However, minions dump pellets in bulk into the fuel intake. You need to figure out the most efficient way to sort and shift the pellets down to a single pellet at a time. \n",
    "\n",
    "The fuel control mechanisms have three operations: \n",
    "\n",
    "1) Add one fuel pellet\n",
    "2) Remove one fuel pellet\n",
    "3) Divide the entire group of fuel pellets by 2 (due to the destructive energy released when a quantum antimatter pellet is cut in half, the safety controls will only allow this to happen if there is an even number of pellets)\n",
    "\n",
    "Write a function called answer(n) which takes a positive integer as a string and returns the minimum number of operations needed to transform the number of pellets to 1. The fuel intake control panel can only display a number up to 309 digits long, so there won't ever be more pellets than you can express in that many digits.\n",
    "\n",
    "For example:\n",
    "answer(4) returns 2: 4 -> 2 -> 1\n",
    "answer(15) returns 5: 15 -> 16 -> 8 -> 4 -> 2 -> 1\n",
    "\n",
    "\n",
    "Languages\n",
    "=========\n",
    "\n",
    "To provide a Python solution, edit solution.py\n",
    "To provide a Java solution, edit solution.java\n",
    "\n",
    "Test cases\n",
    "==========\n",
    "\n",
    "Inputs:\n",
    "    (string) n = \"4\"\n",
    "Output:\n",
    "    (int) 2\n",
    "\n",
    "Inputs:\n",
    "    (string) n = \"15\"\n",
    "Output:\n",
    "    (int) 5"
   ]
  },
  {
   "cell_type": "code",
   "execution_count": 1,
   "metadata": {
    "collapsed": true
   },
   "outputs": [],
   "source": [
    "def answer(n):\n",
    "    \n",
    "    current = int(n)\n",
    "    n_operations = 0\n",
    "    \n",
    "    if n == 1:\n",
    "        return 1\n",
    "    \n",
    "    while current != 1:\n",
    "    \n",
    "        if current == 1:\n",
    "            break\n",
    "\n",
    "        elif current%2 == 0:\n",
    "            \n",
    "            current = current / 2\n",
    "            n_operations += 1\n",
    "#             print(current*2,\"(/2)  \", current, n_operations)\n",
    "            \n",
    "        elif current%2 == 1:\n",
    "            \n",
    "            if ((current-1)/2) % 2 == 0 or (current-1)/2 == 1:\n",
    "                \n",
    "                current -= 1\n",
    "                n_operations += 1\n",
    "#                 print(current+1, \"(-1)  \", current, n_operations)\n",
    "            \n",
    "            elif ((current+1)/2) % 2 == 0:\n",
    "                \n",
    "                current += 1\n",
    "                n_operations += 1\n",
    "#                 print(current-1, \"(+1)  \", current, n_operations)\n",
    "            \n",
    "#     print(\"Total # operations:\", n_operations)\n",
    "    return n_operations"
   ]
  },
  {
   "cell_type": "code",
   "execution_count": 2,
   "metadata": {},
   "outputs": [
    {
     "data": {
      "text/plain": [
       "5"
      ]
     },
     "execution_count": 2,
     "metadata": {},
     "output_type": "execute_result"
    }
   ],
   "source": [
    "answer(15)"
   ]
  },
  {
   "cell_type": "code",
   "execution_count": 3,
   "metadata": {},
   "outputs": [
    {
     "data": {
      "text/plain": [
       "6"
      ]
     },
     "execution_count": 3,
     "metadata": {},
     "output_type": "execute_result"
    }
   ],
   "source": [
    "answer(25)"
   ]
  },
  {
   "cell_type": "code",
   "execution_count": 4,
   "metadata": {},
   "outputs": [
    {
     "data": {
      "text/plain": [
       "3"
      ]
     },
     "execution_count": 4,
     "metadata": {},
     "output_type": "execute_result"
    }
   ],
   "source": [
    "answer(6)"
   ]
  },
  {
   "cell_type": "code",
   "execution_count": 5,
   "metadata": {},
   "outputs": [
    {
     "data": {
      "text/plain": [
       "5"
      ]
     },
     "execution_count": 5,
     "metadata": {},
     "output_type": "execute_result"
    }
   ],
   "source": [
    "answer(11)"
   ]
  },
  {
   "cell_type": "code",
   "execution_count": 6,
   "metadata": {
    "scrolled": false
   },
   "outputs": [
    {
     "data": {
      "text/plain": [
       "2"
      ]
     },
     "execution_count": 6,
     "metadata": {},
     "output_type": "execute_result"
    }
   ],
   "source": [
    "answer(3)"
   ]
  },
  {
   "cell_type": "markdown",
   "metadata": {},
   "source": [
    "Prepare the Bunnies' Escape\n",
    "===========================\n",
    "\n",
    "You're awfully close to destroying the LAMBCHOP doomsday device and freeing Commander Lambda's bunny prisoners, but once they're free of the prison blocks, the bunnies are going to need to escape Lambda's space station via the escape pods as quickly as possible. Unfortunately, the halls of the space station are a maze of corridors and dead ends that will be a deathtrap for the escaping bunnies. Fortunately, Commander Lambda has put you in charge of a remodeling project that will give you the opportunity to make things a little easier for the bunnies. Unfortunately (again), you can't just remove all obstacles between the bunnies and the escape pods - at most you can remove one wall per escape pod path, both to maintain structural integrity of the station and to avoid arousing Commander Lambda's suspicions. \n",
    "\n",
    "You have maps of parts of the space station, each starting at a prison exit and ending at the door to an escape pod. The map is represented as a matrix of 0s and 1s, where 0s are passable space and 1s are impassable walls. The door out of the prison is at the top left (0,0) and the door into an escape pod is at the bottom right (w-1,h-1). \n",
    "\n",
    "Write a function answer(map) that generates the length of the shortest path from the prison door to the escape pod, where you are allowed to remove one wall as part of your remodeling plans. The path length is the total number of nodes you pass through, counting both the entrance and exit nodes. The starting and ending positions are always passable (0). The map will always be solvable, though you may or may not need to remove a wall. The height and width of the map can be from 2 to 20. Moves can only be made in cardinal directions; no diagonal moves are allowed.\n",
    "\n",
    "Languages\n",
    "=========\n",
    "\n",
    "To provide a Python solution, edit solution.py\n",
    "To provide a Java solution, edit solution.java\n",
    "\n",
    "Test cases\n",
    "==========\n",
    "\n",
    "Inputs:\n",
    "    (int) maze = [[0, 1, 1, 0], [0, 0, 0, 1], [1, 1, 0, 0], [1, 1, 1, 0]]\n",
    "Output:\n",
    "    (int) 7\n",
    "\n",
    "Inputs:\n",
    "    (int) maze = [[0, 0, 0, 0, 0, 0], [1, 1, 1, 1, 1, 0], [0, 0, 0, 0, 0, 0], [0, 1, 1, 1, 1, 1], [0, 1, 1, 1, 1, 1], [0, 0, 0, 0, 0, 0]]\n",
    "Output:\n",
    "    (int) 11"
   ]
  },
  {
   "cell_type": "code",
   "execution_count": 11,
   "metadata": {
    "collapsed": true
   },
   "outputs": [],
   "source": [
    "import numpy as np"
   ]
  },
  {
   "cell_type": "code",
   "execution_count": 12,
   "metadata": {},
   "outputs": [],
   "source": [
    "test1 = np.array([[0, 1, 1, 0], [0, 0, 0, 1], [1, 1, 0, 0], [1, 1, 1, 0]])"
   ]
  },
  {
   "cell_type": "code",
   "execution_count": 13,
   "metadata": {},
   "outputs": [
    {
     "data": {
      "text/plain": [
       "array([[0, 1, 1, 0],\n",
       "       [0, 0, 0, 1],\n",
       "       [1, 1, 0, 0],\n",
       "       [1, 1, 1, 0]])"
      ]
     },
     "execution_count": 13,
     "metadata": {},
     "output_type": "execute_result"
    }
   ],
   "source": [
    "test1"
   ]
  },
  {
   "cell_type": "code",
   "execution_count": 14,
   "metadata": {
    "collapsed": true
   },
   "outputs": [],
   "source": [
    "test2 = np.array([[0, 0, 0, 0, 0, 0], [1, 1, 1, 1, 1, 0], [0, 0, 0, 0, 0, 0], [0, 1, 1, 1, 1, 1], [0, 1, 1, 1, 1, 1], [0, 0, 0, 0, 0, 0]])"
   ]
  },
  {
   "cell_type": "code",
   "execution_count": 32,
   "metadata": {},
   "outputs": [
    {
     "data": {
      "text/plain": [
       "array([[0, 0, 0, 0, 0, 0],\n",
       "       [1, 1, 1, 1, 1, 0],\n",
       "       [0, 0, 0, 0, 0, 0],\n",
       "       [0, 1, 1, 1, 1, 1],\n",
       "       [0, 1, 1, 1, 1, 1],\n",
       "       [0, 0, 0, 0, 0, 0]])"
      ]
     },
     "execution_count": 32,
     "metadata": {},
     "output_type": "execute_result"
    }
   ],
   "source": [
    "test2"
   ]
  },
  {
   "cell_type": "code",
   "execution_count": 17,
   "metadata": {
    "collapsed": true
   },
   "outputs": [],
   "source": [
    "test0 = [[0,0],[0,0]]"
   ]
  },
  {
   "cell_type": "code",
   "execution_count": 33,
   "metadata": {
    "collapsed": true
   },
   "outputs": [
    {
     "name": "stdout",
     "output_type": "stream",
     "text": [
      "0 0\n",
      "1 1\n",
      "2 1\n",
      "3 0\n",
      "0 0\n",
      "1 0\n",
      "2 0\n",
      "3 1\n",
      "0 1\n",
      "1 1\n",
      "2 0\n",
      "3 0\n",
      "0 1\n",
      "1 1\n",
      "2 1\n",
      "3 0\n"
     ]
    }
   ],
   "source": [
    "steps = 0\n",
    "\n",
    "i_loc = 0\n",
    "j_loc = 0\n",
    "\n",
    "wall_remove = False\n",
    "\n",
    "loop_row = []\n",
    "matrix = []\n",
    "\n",
    "for i, row in enumerate(test1):\n",
    "\n",
    "    for j, col in enumerate(row):\n",
    "        \n",
    "        print(j,col)\n"
   ]
  },
  {
   "cell_type": "code",
   "execution_count": 34,
   "metadata": {},
   "outputs": [
    {
     "data": {
      "text/plain": [
       "array([[0, 1, 1, 0],\n",
       "       [0, 0, 0, 1],\n",
       "       [1, 1, 0, 0],\n",
       "       [1, 1, 1, 0]])"
      ]
     },
     "execution_count": 34,
     "metadata": {},
     "output_type": "execute_result"
    }
   ],
   "source": [
    "test1"
   ]
  },
  {
   "cell_type": "code",
   "execution_count": 36,
   "metadata": {},
   "outputs": [
    {
     "data": {
      "text/plain": [
       "4"
      ]
     },
     "execution_count": 36,
     "metadata": {},
     "output_type": "execute_result"
    }
   ],
   "source": [
    "len(test1[0])"
   ]
  },
  {
   "cell_type": "code",
   "execution_count": 133,
   "metadata": {
    "scrolled": false
   },
   "outputs": [
    {
     "name": "stdout",
     "output_type": "stream",
     "text": [
      "0 0 0\n",
      "moved right\n",
      "0 1 1\n",
      "found wall below\n",
      "0 0 2\n",
      "found wall below\n",
      "0 -1 3\n",
      "moved down\n",
      "1 -1 4\n",
      "found wall to my right\n",
      "moved down\n",
      "2 -1 5\n",
      "moved right\n",
      "2 0 6\n",
      "moved down\n",
      "3 0 7\n",
      "found wall to my right\n",
      "moved down\n",
      "4 0 8\n",
      "found wall to my right\n",
      "moved down\n",
      "5 0 9\n",
      "moved right\n",
      "5 1 10\n",
      "moved right\n",
      "5 2 11\n",
      "moved right\n",
      "5 3 12\n",
      "moved right\n",
      "5 4 13\n",
      "moved right\n",
      "5 5 14\n",
      "Found Exit\n",
      "5 5 14\n",
      "\n",
      "Solved maze in 14 steps\n"
     ]
    }
   ],
   "source": [
    "# maze = [[0, 1, 1, 0], [0, 0, 0, 1], [1, 1, 0, 0], [1, 1, 1, 0]]\n",
    "# maze = [[0,1,0],[0,1,0],[0,0,0]]\n",
    "maze = test2  #should be solved in ~20 steps without removing walls.\n",
    "\n",
    "row_end = len(maze[0])\n",
    "col_end = len(maze)\n",
    "\n",
    "steps = 0\n",
    "\n",
    "i = 0\n",
    "j = 0\n",
    "\n",
    "left_walk = True\n",
    "\n",
    "wall_remove = False\n",
    "\n",
    "loop_row = []\n",
    "matrix = []\n",
    "\n",
    "print(i,j, steps)\n",
    "\n",
    "while i < row_end and j < col_end:\n",
    "\n",
    "    if j+1 < row_end and left_walk == True: #not sure if this needs to be j + 1 in col_end = len(maze), off by 1?\n",
    "        \n",
    "        if maze[i][j+1] == 0:\n",
    "            j += 1\n",
    "            steps += 1\n",
    "            print('moved right')\n",
    "            print(i,j,steps)\n",
    "            \n",
    "            \n",
    "        elif maze[i][j+1] == 1:\n",
    "            print('found wall to my right')\n",
    "            pass\n",
    "            \n",
    "    if i+1 < col_end:\n",
    "\n",
    "        if maze[i+1][j] == 0:\n",
    "            i += 1\n",
    "            steps += 1\n",
    "            print('moved down')\n",
    "            print(i,j,steps)\n",
    "            left_walk = True\n",
    "            \n",
    "        elif maze[i+1][j] == 1 and maze[i][j-1] == 0:\n",
    "            print('found wall below')\n",
    "            left_walk = False\n",
    "            j -= 1\n",
    "            steps += 1\n",
    "            print(i,j,steps)\n",
    "            pass\n",
    "    \n",
    "#     if i+1 < col_end and j+1 < col_end and i > 0 and j > 0:\n",
    "        \n",
    "#         if maze[i][j+1] == 1 and maze[i+1][j] == 1:\n",
    "\n",
    "#             i -= 2\n",
    "#             steps += 1\n",
    "#             print('found corner')\n",
    "                     \n",
    "    if i == row_end-1 and j == col_end-1:\n",
    "        \n",
    "        print(\"Found Exit\")\n",
    "        print(i,j,steps)\n",
    "        break\n",
    "        \n",
    "print(\"\\nSolved maze in\",steps, \"steps\")"
   ]
  },
  {
   "cell_type": "code",
   "execution_count": 104,
   "metadata": {},
   "outputs": [
    {
     "data": {
      "text/plain": [
       "2"
      ]
     },
     "execution_count": 104,
     "metadata": {},
     "output_type": "execute_result"
    }
   ],
   "source": [
    "i"
   ]
  },
  {
   "cell_type": "code",
   "execution_count": 115,
   "metadata": {},
   "outputs": [
    {
     "data": {
      "text/plain": [
       "6"
      ]
     },
     "execution_count": 115,
     "metadata": {},
     "output_type": "execute_result"
    }
   ],
   "source": [
    "col_end"
   ]
  },
  {
   "cell_type": "code",
   "execution_count": 42,
   "metadata": {},
   "outputs": [
    {
     "name": "stdout",
     "output_type": "stream",
     "text": [
      "bar\n"
     ]
    }
   ],
   "source": [
    "try:\n",
    "    sds\n",
    "    print('foo')\n",
    "except:\n",
    "    print('bar')"
   ]
  },
  {
   "cell_type": "code",
   "execution_count": 82,
   "metadata": {},
   "outputs": [
    {
     "data": {
      "text/plain": [
       "1"
      ]
     },
     "execution_count": 82,
     "metadata": {},
     "output_type": "execute_result"
    }
   ],
   "source": [
    "maze[0][1]"
   ]
  },
  {
   "cell_type": "code",
   "execution_count": null,
   "metadata": {
    "collapsed": true
   },
   "outputs": [],
   "source": []
  }
 ],
 "metadata": {
  "kernelspec": {
   "display_name": "Python 3",
   "language": "python",
   "name": "python3"
  },
  "language_info": {
   "codemirror_mode": {
    "name": "ipython",
    "version": 3
   },
   "file_extension": ".py",
   "mimetype": "text/x-python",
   "name": "python",
   "nbconvert_exporter": "python",
   "pygments_lexer": "ipython3",
   "version": "3.6.3"
  }
 },
 "nbformat": 4,
 "nbformat_minor": 2
}
