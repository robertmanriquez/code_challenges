{
 "cells": [
  {
   "cell_type": "markdown",
   "metadata": {},
   "source": [
    "Minion Labor Shifts\n",
    "===================\n",
    "\n",
    "Commander Lambda's minions are upset! They're given the worst jobs on the whole space station, and some of them are starting to complain that even those worst jobs are being allocated unfairly. If you can fix this problem, it'll prove your chops to Commander Lambda so you can get promoted!\n",
    "\n",
    "Minions' tasks are assigned by putting their ID numbers into a list, one time for each day they'll work that task. As shifts are planned well in advance, the lists for each task will contain up to 99 integers. When a minion is scheduled for the same task too many times, they'll complain about it until they're taken off the task completely. Some tasks are worse than others, so the number of scheduled assignments before a minion will refuse to do a task varies depending on the task.  You figure you can speed things up by automating the removal of the minions who have been assigned a task too many times before they even get a chance to start complaining.\n",
    "\n",
    "Write a function called answer(data, n) that takes in a list of less than 100 integers and a number n, and returns that same list but with all of the numbers that occur more than n times removed entirely. The returned list should retain the same ordering as the original list - you don't want to mix up those carefully-planned shift rotations! For instance, if data was [5, 10, 15, 10, 7] and n was 1, answer(data, n) would return the list [5, 15, 7] because 10 occurs twice, and thus was removed from the list entirely.\n",
    "\n",
    "Languages\n",
    "=========\n",
    "\n",
    "To provide a Python solution, edit solution.py\n",
    "To provide a Java solution, edit solution.java\n",
    "\n",
    "Test cases\n",
    "==========\n",
    "\n",
    "Inputs:\n",
    "    (int list) data = [1, 2, 3]\n",
    "    (int) n = 0\n",
    "Output:\n",
    "    (int list) []\n",
    "\n",
    "Inputs:\n",
    "    (int list) data = [1, 2, 2, 3, 3, 3, 4, 5, 5]\n",
    "    (int) n = 1\n",
    "Output:\n",
    "    (int list) [1, 4]\n",
    "\n",
    "Inputs:\n",
    "    (int list) data = [1, 2, 3]\n",
    "    (int) n = 6\n",
    "Output:\n",
    "    (int list) [1, 2, 3]\n",
    "\n",
    "Use verify [file] to test your solution and see how it does. When you are finished editing your code, use submit [file] to submit your answer. If your solution passes the test cases, it will be removed from your home folder."
   ]
  },
  {
   "cell_type": "code",
   "execution_count": 48,
   "metadata": {
    "scrolled": true
   },
   "outputs": [],
   "source": [
    "import random\n",
    "import numpy as np\n",
    "my_randoms = random.sample(list(np.arange(1,20,1)), 10)"
   ]
  },
  {
   "cell_type": "code",
   "execution_count": 61,
   "metadata": {},
   "outputs": [],
   "source": [
    "new_test = []\n",
    "for i in range(0,99):\n",
    "    new_test.append(random.choice(np.arange(1,20,1)))"
   ]
  },
  {
   "cell_type": "code",
   "execution_count": 63,
   "metadata": {},
   "outputs": [
    {
     "data": {
      "text/plain": [
       "Counter({1: 3,\n",
       "         2: 5,\n",
       "         3: 5,\n",
       "         4: 8,\n",
       "         5: 7,\n",
       "         6: 6,\n",
       "         7: 6,\n",
       "         8: 7,\n",
       "         9: 2,\n",
       "         10: 4,\n",
       "         11: 3,\n",
       "         12: 9,\n",
       "         13: 4,\n",
       "         14: 5,\n",
       "         15: 5,\n",
       "         16: 6,\n",
       "         17: 5,\n",
       "         18: 2,\n",
       "         19: 7})"
      ]
     },
     "execution_count": 63,
     "metadata": {},
     "output_type": "execute_result"
    }
   ],
   "source": [
    "Counter(new_test)"
   ]
  },
  {
   "cell_type": "code",
   "execution_count": 73,
   "metadata": {},
   "outputs": [
    {
     "data": {
      "text/plain": [
       "Counter({1: 9,\n",
       "         2: 4,\n",
       "         3: 4,\n",
       "         4: 3,\n",
       "         5: 2,\n",
       "         6: 7,\n",
       "         7: 4,\n",
       "         8: 5,\n",
       "         9: 8,\n",
       "         10: 4,\n",
       "         11: 4,\n",
       "         12: 5,\n",
       "         13: 4,\n",
       "         14: 7,\n",
       "         15: 6,\n",
       "         16: 4,\n",
       "         17: 8,\n",
       "         18: 8,\n",
       "         19: 3})"
      ]
     },
     "execution_count": 73,
     "metadata": {},
     "output_type": "execute_result"
    }
   ],
   "source": [
    "Counter(rand_test2)"
   ]
  },
  {
   "cell_type": "code",
   "execution_count": 74,
   "metadata": {
    "scrolled": true
   },
   "outputs": [
    {
     "data": {
      "text/plain": [
       "[5]"
      ]
     },
     "execution_count": 74,
     "metadata": {},
     "output_type": "execute_result"
    }
   ],
   "source": [
    "answer(rand_test1, 1)"
   ]
  },
  {
   "cell_type": "code",
   "execution_count": 3,
   "metadata": {
    "collapsed": true
   },
   "outputs": [],
   "source": [
    "test1 = [1,2,3]  # n = 0 -> []\n",
    "test2 = [1,2,2,3,3,3,4,5,5]  # n = 1 -> [1,4]\n",
    "test3 = [1,2,3]  # n = 6 -> [1,2,3]\n",
    "\n",
    "# ID numbers that occur more times than n will be removed.\n",
    "\n",
    "n = 1\n",
    "# for item in test2:\n",
    "    "
   ]
  },
  {
   "cell_type": "code",
   "execution_count": 6,
   "metadata": {},
   "outputs": [
    {
     "data": {
      "text/plain": [
       "2"
      ]
     },
     "execution_count": 6,
     "metadata": {},
     "output_type": "execute_result"
    }
   ],
   "source": [
    "from collections import Counter\n",
    "\n",
    "Counter(test2)[2]"
   ]
  },
  {
   "cell_type": "code",
   "execution_count": 22,
   "metadata": {},
   "outputs": [
    {
     "name": "stdout",
     "output_type": "stream",
     "text": [
      "1 1\n",
      "1\n",
      "1 2\n",
      "1 2\n",
      "1 3\n",
      "1 3\n",
      "1 3\n",
      "1 4\n",
      "4\n",
      "1 5\n",
      "1 5\n"
     ]
    },
    {
     "data": {
      "text/plain": [
       "[1, 4]"
      ]
     },
     "execution_count": 22,
     "metadata": {},
     "output_type": "execute_result"
    }
   ],
   "source": [
    "n = 1\n",
    "result = []\n",
    "for item in test2:\n",
    "    print(n, item)\n",
    "    if Counter(test2)[item] <= n:\n",
    "        result.append(item)\n",
    "        print(item)\n",
    "    \n",
    "result"
   ]
  },
  {
   "cell_type": "code",
   "execution_count": 18,
   "metadata": {},
   "outputs": [
    {
     "data": {
      "text/plain": [
       "True"
      ]
     },
     "execution_count": 18,
     "metadata": {},
     "output_type": "execute_result"
    }
   ],
   "source": [
    "Counter(test2)[2] <= 6"
   ]
  },
  {
   "cell_type": "code",
   "execution_count": 23,
   "metadata": {
    "collapsed": true
   },
   "outputs": [],
   "source": [
    "def answer(data,n):\n",
    "    result = []\n",
    "    \n",
    "    id_count = Counter(data)\n",
    "    \n",
    "    for minion_id in data:\n",
    "        \n",
    "        if id_count[minion_id] <= n:\n",
    "            \n",
    "            result.append(minion_id)\n",
    "            \n",
    "    return result"
   ]
  },
  {
   "cell_type": "code",
   "execution_count": 25,
   "metadata": {},
   "outputs": [
    {
     "name": "stdout",
     "output_type": "stream",
     "text": [
      "[]\n"
     ]
    }
   ],
   "source": [
    "print(answer(test1,0))"
   ]
  },
  {
   "cell_type": "code",
   "execution_count": 26,
   "metadata": {},
   "outputs": [
    {
     "name": "stdout",
     "output_type": "stream",
     "text": [
      "[1, 4]\n"
     ]
    }
   ],
   "source": [
    "print(answer(test2,1))"
   ]
  },
  {
   "cell_type": "code",
   "execution_count": 27,
   "metadata": {},
   "outputs": [
    {
     "name": "stdout",
     "output_type": "stream",
     "text": [
      "[1, 2, 3]\n"
     ]
    }
   ],
   "source": [
    "print(answer(test3,6))"
   ]
  },
  {
   "cell_type": "code",
   "execution_count": null,
   "metadata": {
    "collapsed": true
   },
   "outputs": [],
   "source": []
  },
  {
   "cell_type": "code",
   "execution_count": 145,
   "metadata": {},
   "outputs": [
    {
     "name": "stdout",
     "output_type": "stream",
     "text": [
      "Random Test Cases: \n",
      "\n",
      "Random Test # 0 , n=N, [5, 19, 3, 9, 4, 16, 15, 16, 13, 7, 4, 16, 1, 13, 14, 20, 1, 15, 9, 8, 19, 4, 11, 1, 1, 1, 18, 1, 13, 7, 14, 1, 17, 8, 15, 16, 18, 8, 12, 8, 8, 15, 10, 1, 14, 18, 4, 6, 10, 4] \n",
      "\n",
      "ID's returned:  [5, 19, 3, 9, 7, 20, 9, 19, 11, 7, 17, 12, 10, 6, 10] \n",
      "\n",
      "Frequency of approved minions:  [(5, 1), (19, 2), (3, 1), (9, 2), (7, 2), (20, 1), (11, 1), (17, 1), (12, 1), (10, 2), (6, 1)]\n",
      "\n",
      "\n",
      "Random Test # 1 , n=N, [11, 17, 14, 17, 7, 10, 10, 19, 16, 17, 13, 19, 2, 16, 8, 13, 14, 6, 12, 18, 12, 3, 15, 17, 4, 6, 17, 13, 12, 16, 1, 16, 2, 10, 20, 19, 19, 13, 6, 6, 17, 8, 1, 7, 18, 18, 8, 13, 17, 12] \n",
      "\n",
      "ID's returned:  [11, 14, 7, 2, 14, 3, 15, 4, 1, 2, 20, 1, 7] \n",
      "\n",
      "Frequency of approved minions:  [(11, 1), (14, 2), (7, 2), (2, 2), (3, 1), (15, 1), (4, 1), (1, 2), (20, 1)]\n",
      "\n",
      "\n",
      "Random Test # 2 , n=N, [19, 12, 15, 9, 18, 20, 1, 13, 17, 5, 17, 18, 7, 14, 2, 16, 12, 19, 18, 7, 17, 14, 16, 12, 14, 12, 1, 18, 18, 20, 20, 11, 15, 20, 1, 8, 6, 18, 19, 6, 3, 18, 9, 2, 3, 3, 1, 15, 1, 9] \n",
      "\n",
      "ID's returned:  [13, 5, 7, 2, 16, 7, 16, 11, 8, 6, 6, 2] \n",
      "\n",
      "Frequency of approved minions:  [(13, 1), (5, 1), (7, 2), (2, 2), (16, 2), (11, 1), (8, 1), (6, 2)]\n",
      "\n",
      "\n"
     ]
    }
   ],
   "source": [
    "# My solution:\n",
    "\n",
    "def answer(data,n):\n",
    "    \n",
    "    if len(data) < 100:\n",
    "    \n",
    "        from collections import Counter  # Using Python's \"Counter\" function to count minion ID's as a dictionary.\n",
    "\n",
    "        result = []\n",
    "\n",
    "        id_count = Counter(data)   # Create dictionary to count frequency of all minion ID's in given list.\n",
    "\n",
    "        for minion_id in data:\n",
    "\n",
    "            if id_count[minion_id] <= n:  # Check if each ID count is less than defined n.\n",
    "\n",
    "                result.append(minion_id)\n",
    "\n",
    "        return result\n",
    "    \n",
    "    else:\n",
    "        return \"Error: Please enter list of less than 100 entries (up to 99).\"\n",
    "\n",
    "    \n",
    "# # Test Cases:   \n",
    "\n",
    "# test1 = [1,2,3]  # n = 0 -> []\n",
    "# test2 = [1,2,2,3,3,3,4,5,5]  # n = 1 -> [1,4]\n",
    "# test3 = [1,2,3]  # n = 6 -> [1,2,3]\n",
    "\n",
    "# print(\"Test Cases:\")\n",
    "# print(answer(test1,0))\n",
    "# print(answer(test2,1))\n",
    "# print(answer(test3,6), \"\\n\")\n",
    "\n",
    "# # Random Test Cases:\n",
    "\n",
    "# import random\n",
    "# import numpy as np\n",
    "\n",
    "# random.seed(1)\n",
    "\n",
    "# rand_test1 = [random.choice(np.arange(1,21,1)) for i in range(0,50)]\n",
    "# rand_test2 = [random.choice(np.arange(1,21,1)) for i in range(0,50)]\n",
    "# rand_test3 = [random.choice(np.arange(1,21,1)) for i in range(0,50)]\n",
    "\n",
    "# print(\"Random Test Cases: \\n\")\n",
    "# N = 2  # Testing for n = 2\n",
    "# for test_num, test in enumerate([rand_test1, rand_test2, rand_test3]):\n",
    "    \n",
    "#     print(\"Random Test #\", str(test_num), \", n=N,\", test, \"\\n\")\n",
    "#     print(\"ID's returned: \", answer(test,n = N), \"\\n\")\n",
    "#     print(\"Frequency of approved minions: \", [(k,v) for k, v in Counter(test).items() if v <= N])\n",
    "#     print('\\n')"
   ]
  },
  {
   "cell_type": "code",
   "execution_count": 94,
   "metadata": {
    "collapsed": true,
    "scrolled": false
   },
   "outputs": [],
   "source": [
    "random.seed(1)\n",
    "\n",
    "rand_test1 = [random.choice(np.arange(1,21,1)) for i in range(0,50)]\n",
    "\n",
    "rand_test2 = [random.choice(np.arange(1,21,1)) for i in range(0,50)]\n",
    "\n",
    "rand_test3 = [random.choice(np.arange(1,21,1)) for i in range(0,50)]"
   ]
  },
  {
   "cell_type": "code",
   "execution_count": 95,
   "metadata": {
    "scrolled": false
   },
   "outputs": [
    {
     "data": {
      "text/plain": [
       "Counter({1: 8,\n",
       "         3: 1,\n",
       "         4: 5,\n",
       "         5: 1,\n",
       "         6: 1,\n",
       "         7: 2,\n",
       "         8: 5,\n",
       "         9: 2,\n",
       "         10: 2,\n",
       "         11: 1,\n",
       "         12: 1,\n",
       "         13: 3,\n",
       "         14: 3,\n",
       "         15: 4,\n",
       "         16: 4,\n",
       "         17: 1,\n",
       "         18: 3,\n",
       "         19: 2,\n",
       "         20: 1})"
      ]
     },
     "execution_count": 95,
     "metadata": {},
     "output_type": "execute_result"
    }
   ],
   "source": [
    "Counter(rand_test1)"
   ]
  },
  {
   "cell_type": "code",
   "execution_count": 115,
   "metadata": {},
   "outputs": [
    {
     "name": "stdout",
     "output_type": "stream",
     "text": [
      "[5, 19, 3, 9, 13, 7, 13, 14, 20, 9, 19, 11, 18, 13, 7, 14, 17, 18, 12, 10, 14, 18, 6, 10]\n"
     ]
    }
   ],
   "source": [
    "print(answer(rand_test1,3))"
   ]
  },
  {
   "cell_type": "code",
   "execution_count": 118,
   "metadata": {},
   "outputs": [
    {
     "name": "stdout",
     "output_type": "stream",
     "text": [
      "[(5, 1), (19, 2), (3, 1), (9, 2), (13, 3), (7, 2), (14, 3), (20, 1), (11, 1), (18, 3), (17, 1), (12, 1), (10, 2), (6, 1)]\n"
     ]
    }
   ],
   "source": [
    "print([(k,v) for k, v in Counter(rand_test1).items() if v <= 3])"
   ]
  },
  {
   "cell_type": "code",
   "execution_count": 114,
   "metadata": {
    "scrolled": true
   },
   "outputs": [
    {
     "name": "stdout",
     "output_type": "stream",
     "text": [
      "5 1\n",
      "19 2\n",
      "3 1\n",
      "9 2\n",
      "13 3\n",
      "7 2\n",
      "14 3\n",
      "20 1\n",
      "11 1\n",
      "18 3\n",
      "17 1\n",
      "12 1\n",
      "10 2\n",
      "6 1\n"
     ]
    }
   ],
   "source": [
    "for k, v in Counter(rand_test1).items():\n",
    "    if v <= 3:\n",
    "        print(k, v)"
   ]
  },
  {
   "cell_type": "code",
   "execution_count": 143,
   "metadata": {
    "collapsed": true
   },
   "outputs": [],
   "source": [
    "## Submitted solution:\n",
    "# My solution:\n",
    "\n",
    "# My solution:\n",
    "\n",
    "def answer(data,n):\n",
    "    \n",
    "    if len(data) < 100:\n",
    "    \n",
    "        from collections import Counter  # Using Python's \"Counter\" function to count minion ID's as a dictionary.\n",
    "\n",
    "        result = []\n",
    "\n",
    "        id_count = Counter(data)   # Create dictionary to count frequency of all minion ID's in given list.\n",
    "\n",
    "        for minion_id in data:\n",
    "\n",
    "            if id_count[minion_id] <= n:  # Check if each ID count is less than defined n.\n",
    "\n",
    "                result.append(minion_id)\n",
    "\n",
    "        return result\n",
    "    \n",
    "    else:\n",
    "        return \"Error: Please enter list of less than 100 entries (up to 99).\"\n",
    "\n",
    "    \n",
    "# # Test Cases:   \n",
    "\n",
    "# test1 = [1,2,3]  # n = 0 -> []\n",
    "# test2 = [1,2,2,3,3,3,4,5,5]  # n = 1 -> [1,4]\n",
    "# test3 = [1,2,3]  # n = 6 -> [1,2,3]\n",
    "\n",
    "# print(\"Test Cases:\")\n",
    "# print(answer(test1,0))\n",
    "# print(answer(test2,1))\n",
    "# print(answer(test3,6), \"\\n\")\n",
    "\n",
    "# print(answer([random.choice(np.arange(1,21,1)) for i in range(0,100)], 3))\n",
    "\n",
    "# # Random Test Cases:\n",
    "\n",
    "# import random\n",
    "# import numpy as np\n",
    "\n",
    "# random.seed(1)\n",
    "\n",
    "# rand_test1 = [random.choice(np.arange(1,21,1)) for i in range(0,50)]\n",
    "# rand_test2 = [random.choice(np.arange(1,21,1)) for i in range(0,50)]\n",
    "# rand_test3 = [random.choice(np.arange(1,21,1)) for i in range(0,50)]\n",
    "\n",
    "# print(\"Random Test Cases: \\n\")\n",
    "# N = 2  # Testing for n = 2\n",
    "# for test_num, test in enumerate([rand_test1, rand_test2, rand_test3]):\n",
    "    \n",
    "#     print(\"Random Test #\", str(test_num), \", n=N,\", test, \"\\n\")\n",
    "#     print(\"ID's returned: \", answer(test,n = N), \"\\n\")\n",
    "#     print(\"Frequency of approved minions: \", [(k,v) for k, v in Counter(test).items() if v <= N])\n",
    "#     print('\\n')"
   ]
  },
  {
   "cell_type": "code",
   "execution_count": 147,
   "metadata": {},
   "outputs": [
    {
     "data": {
      "text/plain": [
       "'Error: Please enter list of less than 100 entries (up to 99).'"
      ]
     },
     "execution_count": 147,
     "metadata": {},
     "output_type": "execute_result"
    }
   ],
   "source": [
    "answer([random.choice(np.arange(1,21,1)) for i in range(0,100)], 3)"
   ]
  },
  {
   "cell_type": "markdown",
   "metadata": {},
   "source": [
    "## Level 2"
   ]
  },
  {
   "cell_type": "markdown",
   "metadata": {},
   "source": [
    "En Route Salute\n",
    "===============\n",
    "\n",
    "Commander Lambda loves efficiency and hates anything that wastes time. She's a busy lamb, after all! She generously rewards henchmen who identify sources of inefficiency and come up with ways to remove them. You've spotted one such source, and you think solving it will help you build the reputation you need to get promoted.\n",
    "\n",
    "Every time the Commander's employees pass each other in the hall, each of them must stop and salute each other - one at a time - before resuming their path. A salute is five seconds long, so each exchange of salutes takes a full ten seconds (Commander Lambda's salute is a bit, er, involved). You think that by removing the salute requirement, you could save several collective hours of employee time per day. But first, you need to show her how bad the problem really is.\n",
    "\n",
    "Write a program that counts how many salutes are exchanged during a typical walk along a hallway. The hall is represented by a string. For example:\n",
    "\"--->-><-><-->-\"\n",
    "\n",
    "Each hallway string will contain three different types of characters: '>', an employee walking to the right; '<', an employee walking to the left; and '-', an empty space. Every employee walks at the same speed either to right or to the left, according to their direction. Whenever two employees cross, each of them salutes the other. They then continue walking until they reach the end, finally leaving the hallway. In the above example, they salute 10 times.\n",
    "\n",
    "Write a function answer(s) which takes a string representing employees walking along a hallway and returns the number of times the employees will salute. s will contain at least 1 and at most 100 characters, each one of -, >, or <.\n",
    "\n",
    "Languages\n",
    "=========\n",
    "\n",
    "To provide a Python solution, edit solution.py\n",
    "To provide a Java solution, edit solution.java\n",
    "\n",
    "Test cases\n",
    "==========\n",
    "\n",
    "Inputs:\n",
    "    (string) s = \">----<\"\n",
    "Output:\n",
    "    (int) 2\n",
    "\n",
    "Inputs:\n",
    "    (string) s = \"<<>><\"\n",
    "Output:\n",
    "    (int) 4\n",
    "\n",
    "Use verify [file] to test your solution and see how it does. When you are finished editing your code, use submit [file] to submit your answer. If your solution passes the test cases, it will be removed from your home folder."
   ]
  },
  {
   "cell_type": "markdown",
   "metadata": {},
   "source": [
    "Java\n",
    "====\n",
    "\n",
    "Your code will be compiled using standard Java 8. It must implement the answer() method in the solution stub.\n",
    "\n",
    "Execution time is limited. Some classes are restricted (e.g. java.lang.ClassLoader). You will see a notice if you use a restricted class when you verify your solution.\n",
    "\n",
    "Third-party libraries, input/output operations, spawning threads or processes and changes to the execution environment are not allowed.\n",
    "\n",
    "Python\n",
    "======\n",
    "\n",
    "Your code will run inside a Python 2.7.6 sandbox.\n",
    "\n",
    "Standard libraries are supported except for bz2, crypt, fcntl, mmap, pwd, pyexpat, select, signal, termios, thread, time, unicodedata, zipimport, zlib."
   ]
  },
  {
   "cell_type": "code",
   "execution_count": 149,
   "metadata": {
    "collapsed": true
   },
   "outputs": [],
   "source": [
    "test1 = \"--->-><-><-->-\"  # 10 salutes\n",
    "test2 = \">----<\"   # 2 salutes\n",
    "test3 = \"<<>><\" # 4 salutes"
   ]
  },
  {
   "cell_type": "code",
   "execution_count": 235,
   "metadata": {},
   "outputs": [
    {
     "name": "stdout",
     "output_type": "stream",
     "text": [
      "-><-><-->-\n",
      "2 2\n",
      "<-><-->-\n",
      "2 4\n",
      "<-->-\n",
      "1 5\n",
      "-\n",
      "0 5\n"
     ]
    }
   ],
   "source": [
    "s = test1\n",
    "\n",
    "total_right_salutes = 0\n",
    "for idx, char in enumerate(s):\n",
    "    if char == \">\":\n",
    "        \n",
    "        loop_salutes = 0\n",
    "        \n",
    "        sight = ''.join([str(direction) for direction in s[idx+1:]])  #checking sight of right-facing guard.\n",
    "        print(sight)\n",
    "        \n",
    "        for target in sight:\n",
    "            if target == \"<\":\n",
    "                loop_salutes += 1\n",
    "        \n",
    "        total_right_salutes += loop_salutes\n",
    "        print(loop_salutes, total_right_salutes)\n",
    "        \n"
   ]
  },
  {
   "cell_type": "code",
   "execution_count": 224,
   "metadata": {},
   "outputs": [
    {
     "data": {
      "text/plain": [
       "'--->-><-><-->-'"
      ]
     },
     "execution_count": 224,
     "metadata": {},
     "output_type": "execute_result"
    }
   ],
   "source": [
    "test1"
   ]
  },
  {
   "cell_type": "code",
   "execution_count": 239,
   "metadata": {},
   "outputs": [
    {
     "name": "stdout",
     "output_type": "stream",
     "text": [
      "-><-><-->-\n",
      "2 2\n",
      "<-><-->-\n",
      "2 4\n",
      "<-->-\n",
      "1 5\n",
      "-\n",
      "0 5\n",
      "frontwards: --->-><-><-->-\n",
      "reversed:   -<--><-><-<---\n",
      "<-><-<---\n",
      "3 3\n",
      "<-<---\n",
      "2 5\n",
      "-><-><-->-\n",
      "2 2\n",
      "<-><-->-\n",
      "2 4\n",
      "<-->-\n",
      "1 5\n",
      "-\n",
      "0 5\n",
      "<-><-<---\n",
      "3 3\n",
      "<-<---\n",
      "2 5\n",
      "10\n"
     ]
    }
   ],
   "source": [
    "s = test1\n",
    "\n",
    "def SaluteCounter(s):\n",
    "    \n",
    "    total_right_salutes = 0\n",
    "    \n",
    "    for idx, char in enumerate(s):\n",
    "        # First checking right-facing guards.\n",
    "        if char == \">\":\n",
    "\n",
    "            right_salutes = 0\n",
    "\n",
    "            sight = ''.join([str(direction) for direction in s[idx+1:]])  #checking sight of right-facing guard.\n",
    "            print(sight)\n",
    "\n",
    "            for target in sight:\n",
    "                if target == \"<\":\n",
    "                    right_salutes += 1\n",
    "\n",
    "            total_right_salutes += right_salutes\n",
    "            print(right_salutes, total_right_salutes)\n",
    "            \n",
    "    return total_right_salutes\n",
    "            \n",
    "SaluteCounter(s)\n",
    "\n",
    "# Second, flipping hallway and checking left-facing guards (which are now in the reverse direction)\n",
    "reversed_s = \"\"\n",
    "    \n",
    "for char in s[::-1]:\n",
    "    if char == \"-\":\n",
    "        reversed_s += \"-\"\n",
    "    elif char == \">\":\n",
    "        reversed_s += \"<\"\n",
    "    elif char == \"<\":\n",
    "        reversed_s += \">\"\n",
    "\n",
    "print(\"frontwards:\", s)\n",
    "print(\"reversed:  \", reversed_s)\n",
    "\n",
    "SaluteCounter(reversed_s)\n",
    "\n",
    "print(SaluteCounter(s) + SaluteCounter(reversed_s))"
   ]
  },
  {
   "cell_type": "code",
   "execution_count": 242,
   "metadata": {},
   "outputs": [
    {
     "name": "stdout",
     "output_type": "stream",
     "text": [
      "-><-><-->-\n",
      "2 2\n",
      "<-><-->-\n",
      "2 4\n",
      "<-->-\n",
      "1 5\n",
      "-\n",
      "0 5\n",
      "frontwards: --->-><-><-->-\n",
      "reversed:   -<--><-><-<---\n",
      "<-><-<---\n",
      "3 3\n",
      "<-<---\n",
      "2 5\n",
      "-><-><-->-\n",
      "2 2\n",
      "<-><-->-\n",
      "2 4\n",
      "<-->-\n",
      "1 5\n",
      "-\n",
      "0 5\n",
      "<-><-<---\n",
      "3 3\n",
      "<-<---\n",
      "2 5\n",
      "10\n"
     ]
    }
   ],
   "source": [
    "s = test1\n",
    "\n",
    "def SaluteCounter(s):\n",
    "    \n",
    "    total_right_salutes = 0\n",
    "    \n",
    "    for idx, char in enumerate(s):\n",
    "        # First checking right-facing guards.\n",
    "        if char == \">\":\n",
    "\n",
    "            right_salutes = 0\n",
    "\n",
    "            sight = ''.join([str(direction) for direction in s[idx+1:]])  #checking sight of right-facing guard.\n",
    "            print(sight)\n",
    "\n",
    "            for target in sight:\n",
    "                if target == \"<\":\n",
    "                    right_salutes += 1\n",
    "\n",
    "            total_right_salutes += right_salutes\n",
    "            print(right_salutes, total_right_salutes)\n",
    "            \n",
    "    return total_right_salutes\n",
    "            \n",
    "SaluteCounter(s)\n",
    "\n",
    "# Second, flipping hallway and checking left-facing guards (which are now in the reverse direction)\n",
    "reversed_s = \"\"\n",
    "    \n",
    "for char in s[::-1]:\n",
    "    if char == \"-\":\n",
    "        reversed_s += \"-\"\n",
    "    elif char == \">\":\n",
    "        reversed_s += \"<\"\n",
    "    elif char == \"<\":\n",
    "        reversed_s += \">\"\n",
    "\n",
    "print(\"frontwards:\", s)\n",
    "print(\"reversed:  \", reversed_s)\n",
    "\n",
    "SaluteCounter(reversed_s)\n",
    "\n",
    "print(SaluteCounter(s) + SaluteCounter(reversed_s))"
   ]
  },
  {
   "cell_type": "code",
   "execution_count": 266,
   "metadata": {},
   "outputs": [],
   "source": [
    "## My solution Submission Draft\n",
    "def answer(s):\n",
    "\n",
    "    def SaluteCounter(s):\n",
    "        \n",
    "    # This function counts up all of the salutes in one direction (facing right)\n",
    "    # This will be used twice, once on the original list for \"right facing\" salutes, and\n",
    "    # again for \"left facing salutes\" after the string has been flipped (preserving direction of guards.\n",
    "    \n",
    "        total_right_salutes = 0\n",
    "\n",
    "        for idx, char in enumerate(s):\n",
    "            # Checking right-facing guards.\n",
    "            if char == \">\":\n",
    "\n",
    "                right_salutes = 0\n",
    "\n",
    "                sight = ''.join([str(direction) for direction in s[idx+1:]])  # Checking sight of right-facing guard.\n",
    "#                 print(sight)\n",
    "\n",
    "                for target in sight:\n",
    "                    if target == \"<\":\n",
    "                        right_salutes += 1  # Counting each opposite facing guard in line of sight.\n",
    "\n",
    "                total_right_salutes += right_salutes\n",
    "#                 print(right_salutes, total_right_salutes)\n",
    "\n",
    "        return total_right_salutes\n",
    "\n",
    "    # Flipping hallway (which are now in the reverse direction) to check salutes of left-facing guards.\n",
    "    reversed_s = \"\"\n",
    "\n",
    "    for char in s[::-1]:\n",
    "        if char == \"-\":\n",
    "            reversed_s += \"-\"\n",
    "        elif char == \">\":\n",
    "            reversed_s += \"<\"\n",
    "        elif char == \"<\":\n",
    "            reversed_s += \">\"\n",
    "\n",
    "#     print(\"frontwards:\", s)\n",
    "#     print(\"reversed:  \", reversed_s)\n",
    "    \n",
    "    #Answer will be calculated using SaluteCounter for the original string and the \"reversed\" string.\n",
    "    return (SaluteCounter(s) + SaluteCounter(reversed_s))"
   ]
  },
  {
   "cell_type": "code",
   "execution_count": 281,
   "metadata": {},
   "outputs": [
    {
     "name": "stdout",
     "output_type": "stream",
     "text": [
      "--->-><-><-->- \n",
      " 10 salutes, 50 seconds spent saluting.\n",
      "\n",
      ">----< \n",
      " 2 salutes, 10 seconds spent saluting.\n",
      "\n",
      "<<>>< \n",
      " 4 salutes, 20 seconds spent saluting.\n",
      "\n"
     ]
    }
   ],
   "source": [
    "# # Test Cases\n",
    "\n",
    "# test1 = \"--->-><-><-->-\"  # 10 salutes\n",
    "# test2 = \">----<\"   # 2 salutes\n",
    "# test3 = \"<<>><\" # 4 salutes\n",
    "\n",
    "# print(test1, \"\\n\", answer(test1), \"salutes,\", str(answer(test1)*5), \"seconds spent saluting.\\n\")\n",
    "# print(test2, \"\\n\", answer(test2), \"salutes,\", str(answer(test2)*5), \"seconds spent saluting.\\n\")\n",
    "# print(test3, \"\\n\", answer(test3), \"salutes,\", str(answer(test3)*5), \"seconds spent saluting.\\n\")"
   ]
  },
  {
   "cell_type": "code",
   "execution_count": 354,
   "metadata": {},
   "outputs": [
    {
     "name": "stdout",
     "output_type": "stream",
     "text": [
      "-->-<><------->---<<------>><- \n",
      " 28 salutes, 140 seconds spent saluting.\n",
      "\n",
      ">------->-----<----<>---->-<--<--->----- \n",
      " 24 salutes, 120 seconds spent saluting.\n",
      "\n",
      "->>-<>-<-----<<----->----<-->-<--<-->--->>-->----> \n",
      " 50 salutes, 250 seconds spent saluting.\n",
      "\n"
     ]
    }
   ],
   "source": [
    "# # Random Test Cases\n",
    "\n",
    "# import random\n",
    "# import numpy as np\n",
    "\n",
    "# np.random.seed(1)\n",
    "\n",
    "# rand_test1 = ''.join(np.random.choice(['>', '<', '-'],30, p = [0.1,0.1,0.8]))\n",
    "\n",
    "# print(rand_test1, \"\\n\", answer(rand_test1), \"salutes,\", str(answer(rand_test1)*5), \"seconds spent saluting.\\n\")\n",
    "\n",
    "\n",
    "# rand_test2 = ''.join(np.random.choice(['>', '<', '-'],40, p = [0.1,0.1,0.8]))\n",
    "\n",
    "# print(rand_test2, \"\\n\", answer(rand_test2), \"salutes,\", str(answer(rand_test2)*5), \"seconds spent saluting.\\n\")\n",
    "\n",
    "# rand_test3 = ''.join(np.random.choice(['>', '<', '-'],50, p = [0.2,0.2,0.6]))\n",
    "\n",
    "# print(rand_test3, \"\\n\", answer(rand_test3), \"salutes,\", str(answer(rand_test3)*5), \"seconds spent saluting.\\n\")"
   ]
  },
  {
   "cell_type": "code",
   "execution_count": 267,
   "metadata": {
    "scrolled": true
   },
   "outputs": [
    {
     "data": {
      "text/plain": [
       "10"
      ]
     },
     "execution_count": 267,
     "metadata": {},
     "output_type": "execute_result"
    }
   ],
   "source": [
    "answer(test1)"
   ]
  },
  {
   "cell_type": "code",
   "execution_count": 268,
   "metadata": {},
   "outputs": [
    {
     "data": {
      "text/plain": [
       "2"
      ]
     },
     "execution_count": 268,
     "metadata": {},
     "output_type": "execute_result"
    }
   ],
   "source": [
    "answer(test2)"
   ]
  },
  {
   "cell_type": "code",
   "execution_count": 269,
   "metadata": {},
   "outputs": [
    {
     "data": {
      "text/plain": [
       "4"
      ]
     },
     "execution_count": 269,
     "metadata": {},
     "output_type": "execute_result"
    }
   ],
   "source": [
    "answer(test3)"
   ]
  },
  {
   "cell_type": "code",
   "execution_count": null,
   "metadata": {
    "collapsed": true
   },
   "outputs": [],
   "source": []
  },
  {
   "cell_type": "markdown",
   "metadata": {},
   "source": [
    "Bunny Prisoner Locating\n",
    "=======================\n",
    "\n",
    "Keeping track of Commander Lambda's many bunny prisoners is starting to get tricky. You've been tasked with writing a program to match bunny prisoner IDs to cell locations.\n",
    "\n",
    "The LAMBCHOP doomsday device takes up much of the interior of Commander Lambda's space station, and as a result the prison blocks have an unusual layout. They are stacked in a triangular shape, and the bunny prisoners are given numerical IDs starting from the corner, as follows:\n",
    "\n",
    "| 7\n",
    "\n",
    "| 4 8\n",
    "\n",
    "| 2 5 9\n",
    "\n",
    "| 1 3 6 10\n",
    "\n",
    "Each cell can be represented as points (x, y), with x being the distance from the vertical wall, and y being the height from the ground. \n",
    "\n",
    "For example, the bunny prisoner at (1, 1) has ID 1, the bunny prisoner at (3, 2) has ID 9, and the bunny prisoner at (2,3) has ID 8. This pattern of numbering continues indefinitely (Commander Lambda has been taking a LOT of prisoners). \n",
    "\n",
    "Write a function answer(x, y) which returns the prisoner ID of the bunny at location (x, y). Each value of x and y will be at least 1 and no greater than 100,000. Since the prisoner ID can be very large, return your answer as a string representation of the number.\n",
    "\n",
    "Languages\n",
    "=========\n",
    "\n",
    "To provide a Python solution, edit solution.py\n",
    "To provide a Java solution, edit solution.java\n",
    "\n",
    "Test cases\n",
    "==========\n",
    "\n",
    "Inputs:\n",
    "    (int) x = 3\n",
    "    (int) y = 2\n",
    "Output:\n",
    "    (string) \"9\"\n",
    "\n",
    "Inputs:\n",
    "    (int) x = 5\n",
    "    (int) y = 10\n",
    "Output:\n",
    "    (string) \"96\"\n"
   ]
  },
  {
   "cell_type": "code",
   "execution_count": 410,
   "metadata": {},
   "outputs": [],
   "source": [
    "test_matrix = [[1,3,6,10], [2,5,9,0], [4, 8, 0 , 0], [7, 0, 0, 0]]"
   ]
  },
  {
   "cell_type": "code",
   "execution_count": 411,
   "metadata": {},
   "outputs": [
    {
     "data": {
      "text/plain": [
       "array([[ 1,  3,  6, 10],\n",
       "       [ 2,  5,  9,  0],\n",
       "       [ 4,  8,  0,  0],\n",
       "       [ 7,  0,  0,  0]])"
      ]
     },
     "execution_count": 411,
     "metadata": {},
     "output_type": "execute_result"
    }
   ],
   "source": [
    "np.array(test_matrix)"
   ]
  },
  {
   "cell_type": "code",
   "execution_count": 412,
   "metadata": {
    "scrolled": true
   },
   "outputs": [
    {
     "data": {
      "text/plain": [
       "1"
      ]
     },
     "execution_count": 412,
     "metadata": {},
     "output_type": "execute_result"
    }
   ],
   "source": [
    "np.array(test_matrix)[0,0]"
   ]
  },
  {
   "cell_type": "code",
   "execution_count": 417,
   "metadata": {},
   "outputs": [
    {
     "data": {
      "text/plain": [
       "0"
      ]
     },
     "execution_count": 417,
     "metadata": {},
     "output_type": "execute_result"
    }
   ],
   "source": [
    "np.array(test_matrix)[2,2]"
   ]
  },
  {
   "cell_type": "code",
   "execution_count": 416,
   "metadata": {},
   "outputs": [
    {
     "data": {
      "text/plain": [
       "9"
      ]
     },
     "execution_count": 416,
     "metadata": {},
     "output_type": "execute_result"
    }
   ],
   "source": [
    "np.array(test_matrix)[1,2]"
   ]
  },
  {
   "cell_type": "code",
   "execution_count": 386,
   "metadata": {
    "collapsed": true
   },
   "outputs": [],
   "source": [
    "test_matrix_bars = [['-','-','-','-','-'],[\"|\",1,3,6,10], ['|',2,5,9,0], ['|',4, 8, 0 , 0], ['|',7, 0, 0, 0]]"
   ]
  },
  {
   "cell_type": "code",
   "execution_count": 448,
   "metadata": {},
   "outputs": [
    {
     "data": {
      "text/plain": [
       "array([['|', '7', '0', '0', '0'],\n",
       "       ['|', '4', '8', '0', '0'],\n",
       "       ['|', '2', '5', '9', '0'],\n",
       "       ['|', '1', '3', '6', '10'],\n",
       "       ['-', '-', '-', '-', '-']], dtype='<U2')"
      ]
     },
     "execution_count": 448,
     "metadata": {},
     "output_type": "execute_result"
    }
   ],
   "source": [
    "np.array(test_matrix_bars)[::-1]"
   ]
  },
  {
   "cell_type": "code",
   "execution_count": 426,
   "metadata": {},
   "outputs": [
    {
     "data": {
      "text/plain": [
       "'8'"
      ]
     },
     "execution_count": 426,
     "metadata": {},
     "output_type": "execute_result"
    }
   ],
   "source": [
    "np.array(test_matrix_bars)[3,2]"
   ]
  },
  {
   "cell_type": "code",
   "execution_count": 427,
   "metadata": {},
   "outputs": [
    {
     "data": {
      "text/plain": [
       "'9'"
      ]
     },
     "execution_count": 427,
     "metadata": {},
     "output_type": "execute_result"
    }
   ],
   "source": [
    "np.array(test_matrix_bars)[2,3]"
   ]
  },
  {
   "cell_type": "code",
   "execution_count": null,
   "metadata": {
    "collapsed": true
   },
   "outputs": [],
   "source": [
    "np.array(test_matrix_bars)[2,3]"
   ]
  },
  {
   "cell_type": "code",
   "execution_count": 434,
   "metadata": {
    "scrolled": false
   },
   "outputs": [],
   "source": [
    "def answer(x, y):\n",
    "    prison = [['-','-','-','-','-'],[\"|\",1,3,6,10], ['|',2,5,9,0], ['|',4, 8, 0 , 0], ['|',7, 0, 0, 0]]\n",
    "    prison_matrix = np.array(prison)\n",
    "    return prison_matrix[x+1,y+1]"
   ]
  },
  {
   "cell_type": "code",
   "execution_count": 463,
   "metadata": {
    "collapsed": true
   },
   "outputs": [],
   "source": [
    "def answer(x, y):\n",
    "    \n",
    "    import numpy as np\n",
    "    \n",
    "    prison = [[1,3,6,10], [2,5,9,0], [4, 8, 0 , 0], [7, 0, 0, 0]]\n",
    "    prison_matrix = np.array(prison)\n",
    "    \n",
    "    return str(prison_matrix[y-1,x-1])"
   ]
  },
  {
   "cell_type": "code",
   "execution_count": 460,
   "metadata": {},
   "outputs": [
    {
     "data": {
      "text/plain": [
       "'8'"
      ]
     },
     "execution_count": 460,
     "metadata": {},
     "output_type": "execute_result"
    }
   ],
   "source": [
    "answer(x = 2, y = 3)"
   ]
  },
  {
   "cell_type": "code",
   "execution_count": 461,
   "metadata": {},
   "outputs": [
    {
     "data": {
      "text/plain": [
       "'9'"
      ]
     },
     "execution_count": 461,
     "metadata": {},
     "output_type": "execute_result"
    }
   ],
   "source": [
    "answer(x = 3, y = 2)"
   ]
  },
  {
   "cell_type": "code",
   "execution_count": 462,
   "metadata": {},
   "outputs": [
    {
     "data": {
      "text/plain": [
       "'1'"
      ]
     },
     "execution_count": 462,
     "metadata": {},
     "output_type": "execute_result"
    }
   ],
   "source": [
    "answer(x = 1, y = 1)"
   ]
  },
  {
   "cell_type": "code",
   "execution_count": 493,
   "metadata": {},
   "outputs": [
    {
     "data": {
      "text/plain": [
       "array([[  1,   2,   3,   4,   5,   6,   7,   8,   9,  10],\n",
       "       [ 11,  12,  13,  14,  15,  16,  17,  18,  19,  20],\n",
       "       [ 21,  22,  23,  24,  25,  26,  27,  28,  29,  30],\n",
       "       [ 31,  32,  33,  34,  35,  36,  37,  38,  39,  40],\n",
       "       [ 41,  42,  43,  44,  45,  46,  47,  48,  49,  50],\n",
       "       [ 51,  52,  53,  54,  55,  56,  57,  58,  59,  60],\n",
       "       [ 61,  62,  63,  64,  65,  66,  67,  68,  69,  70],\n",
       "       [ 71,  72,  73,  74,  75,  76,  77,  78,  79,  80],\n",
       "       [ 81,  82,  83,  84,  85,  86,  87,  88,  89,  90],\n",
       "       [ 91,  92,  93,  94,  95,  96,  97,  98,  99, 100]])"
      ]
     },
     "execution_count": 493,
     "metadata": {},
     "output_type": "execute_result"
    }
   ],
   "source": [
    "np.arange(1,101).reshape(10,10)"
   ]
  },
  {
   "cell_type": "code",
   "execution_count": 500,
   "metadata": {},
   "outputs": [
    {
     "data": {
      "text/plain": [
       "array([[  1,   0,   0, ...,   0,   0,   0],\n",
       "       [  0,   2,   0, ...,   0,   0,   0],\n",
       "       [  0,   0,   3, ...,   0,   0,   0],\n",
       "       ...,\n",
       "       [  0,   0,   0, ...,  98,   0,   0],\n",
       "       [  0,   0,   0, ...,   0,  99,   0],\n",
       "       [  0,   0,   0, ...,   0,   0, 100]])"
      ]
     },
     "execution_count": 500,
     "metadata": {},
     "output_type": "execute_result"
    }
   ],
   "source": [
    "np.diag(np.arange(1,101)).reshape((100,100))"
   ]
  },
  {
   "cell_type": "code",
   "execution_count": 505,
   "metadata": {},
   "outputs": [
    {
     "data": {
      "text/plain": [
       "array([[4, 0, 0],\n",
       "       [0, 5, 0],\n",
       "       [0, 0, 6]])"
      ]
     },
     "execution_count": 505,
     "metadata": {},
     "output_type": "execute_result"
    }
   ],
   "source": [
    "np.diag([4,5,6])"
   ]
  },
  {
   "cell_type": "code",
   "execution_count": 482,
   "metadata": {},
   "outputs": [
    {
     "data": {
      "text/plain": [
       "100000"
      ]
     },
     "execution_count": 482,
     "metadata": {},
     "output_type": "execute_result"
    }
   ],
   "source": [
    "100*1000"
   ]
  },
  {
   "cell_type": "code",
   "execution_count": 513,
   "metadata": {},
   "outputs": [
    {
     "data": {
      "text/plain": [
       "array([1, 2, 3, 4, 5, 6, 7, 8, 9])"
      ]
     },
     "execution_count": 513,
     "metadata": {},
     "output_type": "execute_result"
    }
   ],
   "source": [
    "np.arange(1,10)"
   ]
  },
  {
   "cell_type": "code",
   "execution_count": 516,
   "metadata": {},
   "outputs": [
    {
     "data": {
      "text/plain": [
       "array([ 2,  3,  4,  5,  6,  7,  8,  9, 10])"
      ]
     },
     "execution_count": 516,
     "metadata": {},
     "output_type": "execute_result"
    }
   ],
   "source": [
    "np.arange(2,11)"
   ]
  },
  {
   "cell_type": "code",
   "execution_count": 515,
   "metadata": {},
   "outputs": [
    {
     "data": {
      "text/plain": [
       "array([ 3,  5,  7,  9, 11, 13, 15, 17, 19])"
      ]
     },
     "execution_count": 515,
     "metadata": {},
     "output_type": "execute_result"
    }
   ],
   "source": [
    "np.arange(1,10) + np.arange(2,11)"
   ]
  },
  {
   "cell_type": "code",
   "execution_count": 520,
   "metadata": {},
   "outputs": [
    {
     "data": {
      "text/plain": [
       "array([ 3,  5,  7,  9, 11, 13])"
      ]
     },
     "execution_count": 520,
     "metadata": {},
     "output_type": "execute_result"
    }
   ],
   "source": [
    "np.array([1,3,3,4,5,6]) + np.array([2,3,4,5,6,7])"
   ]
  },
  {
   "cell_type": "code",
   "execution_count": 531,
   "metadata": {},
   "outputs": [
    {
     "data": {
      "text/plain": [
       "[2, 2, 2, 2, 2, 3, 3, 3, 3, 3, 4, 4, 4, 4, 4, 5, 5, 5, 5, 5, 6, 6, 6, 6, 6]"
      ]
     },
     "execution_count": 531,
     "metadata": {},
     "output_type": "execute_result"
    }
   ],
   "source": [
    "cell = []\n",
    "counter1 = 0\n",
    "counter2 = 1\n",
    "\n",
    "for i in np.array([1,2,3,4,5]):\n",
    "    for j in np.array([2,3,4,5,6]):\n",
    "    \n",
    "        cell.append(i+counter1+counter2)\n",
    "    \n",
    "cell"
   ]
  },
  {
   "cell_type": "code",
   "execution_count": null,
   "metadata": {
    "collapsed": true
   },
   "outputs": [],
   "source": [
    "np.array([1,2,3,4,5]) +"
   ]
  },
  {
   "cell_type": "code",
   "execution_count": 680,
   "metadata": {},
   "outputs": [
    {
     "data": {
      "text/plain": [
       "[1, 3, 6, 10, 15, 21, 28, 36, 45, 55, 66]"
      ]
     },
     "execution_count": 680,
     "metadata": {},
     "output_type": "execute_result"
    }
   ],
   "source": [
    "cell = []\n",
    "counter = 1\n",
    "\n",
    "for i in np.array(np.arange(0,11)):\n",
    "    cell.append(i + counter)\n",
    "    counter += i + 1\n",
    "    \n",
    "cell"
   ]
  },
  {
   "cell_type": "code",
   "execution_count": 701,
   "metadata": {},
   "outputs": [
    {
     "data": {
      "text/plain": [
       "array([ 2,  3,  4,  5,  6,  7,  8,  9, 10, 11, 12])"
      ]
     },
     "execution_count": 701,
     "metadata": {},
     "output_type": "execute_result"
    }
   ],
   "source": [
    "np.arange(0,11)+2"
   ]
  },
  {
   "cell_type": "code",
   "execution_count": 702,
   "metadata": {},
   "outputs": [
    {
     "data": {
      "text/plain": [
       "[3, 7, 12, 18, 25, 33, 42, 52, 63, 75, 88]"
      ]
     },
     "execution_count": 702,
     "metadata": {},
     "output_type": "execute_result"
    }
   ],
   "source": [
    "cell = []\n",
    "counter = 1\n",
    "\n",
    "for i in np.arange(0,11)+2:\n",
    "    cell.append(i + counter)\n",
    "    counter += i + 1\n",
    "    \n",
    "cell"
   ]
  },
  {
   "cell_type": "code",
   "execution_count": 678,
   "metadata": {},
   "outputs": [
    {
     "data": {
      "text/plain": [
       "array([ 4,  9, 15, 22, 30, 39, 49, 60, 72, 85, 99])"
      ]
     },
     "execution_count": 678,
     "metadata": {},
     "output_type": "execute_result"
    }
   ],
   "source": [
    "cell = []\n",
    "counter = 1\n",
    "\n",
    "for i in np.arange(0,11)+2:\n",
    "    cell.append(i+counter)\n",
    "    counter += i + 1\n",
    "    \n",
    "np.array(cell)"
   ]
  },
  {
   "cell_type": "code",
   "execution_count": 679,
   "metadata": {},
   "outputs": [
    {
     "data": {
      "text/plain": [
       "[7, 15, 24, 34, 45, 57, 70, 84, 99, 115, 132]"
      ]
     },
     "execution_count": 679,
     "metadata": {},
     "output_type": "execute_result"
    }
   ],
   "source": [
    "cell = []\n",
    "counter = 1\n",
    "\n",
    "for i in np.array(np.arange(0,11))+6:\n",
    "    cell.append(i+counter)\n",
    "    counter += i + 1\n",
    "    \n",
    "cell"
   ]
  },
  {
   "cell_type": "code",
   "execution_count": 566,
   "metadata": {
    "scrolled": true
   },
   "outputs": [
    {
     "data": {
      "text/plain": [
       "[11, 23, 36, 50, 65, 81, 98, 116, 135, 155, 176]"
      ]
     },
     "execution_count": 566,
     "metadata": {},
     "output_type": "execute_result"
    }
   ],
   "source": [
    "cell = []\n",
    "counter = 1\n",
    "\n",
    "for i in np.array(np.arange(0,11))+10:\n",
    "    cell.append(i+counter)\n",
    "    counter += i + 1\n",
    "    \n",
    "cell"
   ]
  },
  {
   "cell_type": "code",
   "execution_count": 574,
   "metadata": {},
   "outputs": [
    {
     "data": {
      "text/plain": [
       "1000000"
      ]
     },
     "execution_count": 574,
     "metadata": {},
     "output_type": "execute_result"
    }
   ],
   "source": [
    "1000*1000"
   ]
  },
  {
   "cell_type": "code",
   "execution_count": 590,
   "metadata": {},
   "outputs": [
    {
     "name": "stdout",
     "output_type": "stream",
     "text": [
      "[0, 1, 3, 6, 10, 15, 21, 28, 36, 45, 55, 66, 78, 91, 105, 120, 136, 153, 171, 190]\n"
     ]
    }
   ],
   "source": [
    "####### important #######\n",
    "multiplier = []\n",
    "counter = 1\n",
    "\n",
    "for i in np.array(np.arange(-1,1001)):\n",
    "    multiplier.append(i+counter)\n",
    "    counter += i + 1\n",
    "    \n",
    "print(multiplier[:20])"
   ]
  },
  {
   "cell_type": "code",
   "execution_count": 646,
   "metadata": {},
   "outputs": [
    {
     "name": "stdout",
     "output_type": "stream",
     "text": [
      "0 [1, 3, 6, 10, 15, 21, 28, 36]\n",
      "1 [2, 5, 9, 14, 20, 27, 35, 44]\n",
      "3 [4, 9, 15, 22, 30, 39, 49, 60]\n",
      "6 [7, 15, 24, 34, 45, 57, 70, 84]\n",
      "10 [11, 23, 36, 50, 65, 81, 98, 116]\n",
      "15 [16, 33, 51, 70, 90, 111, 133, 156]\n",
      "21 [22, 45, 69, 94, 120, 147, 175, 204]\n",
      "28 [29, 59, 90, 122, 155, 189, 224, 260]\n"
     ]
    }
   ],
   "source": [
    "####### important #######\n",
    "for m in multiplier[0:8]:\n",
    "    cell = []\n",
    "    counter = 1\n",
    "    for i in (np.arange(0,8))+m:\n",
    "        cell.append(i+counter)\n",
    "        counter += i + 1\n",
    "    \n",
    "    print(m, cell[:20])"
   ]
  },
  {
   "cell_type": "code",
   "execution_count": 629,
   "metadata": {},
   "outputs": [
    {
     "data": {
      "text/plain": [
       "array([[100., 100., 100., 100., 100., 100., 100., 100., 100., 100.],\n",
       "       [100., 100., 100., 100., 100., 100., 100., 100., 100., 100.],\n",
       "       [100., 100., 100., 100., 100., 100., 100., 100., 100., 100.],\n",
       "       [100., 100., 100., 100., 100., 100., 100., 100., 100., 100.],\n",
       "       [100., 100., 100., 100., 100., 100., 100., 100., 100., 100.],\n",
       "       [100., 100., 100., 100., 100., 100., 100., 100., 100., 100.],\n",
       "       [100., 100., 100., 100., 100., 100., 100., 100., 100., 100.],\n",
       "       [100., 100., 100., 100., 100., 100., 100., 100., 100., 100.],\n",
       "       [100., 100., 100., 100., 100., 100., 100., 100., 100., 100.],\n",
       "       [100., 100., 100., 100., 100., 100., 100., 100., 100., 100.]])"
      ]
     },
     "execution_count": 629,
     "metadata": {},
     "output_type": "execute_result"
    }
   ],
   "source": [
    "test_matrix"
   ]
  },
  {
   "cell_type": "code",
   "execution_count": 619,
   "metadata": {
    "scrolled": true
   },
   "outputs": [
    {
     "data": {
      "text/plain": [
       "array([list([1, 3, 6, 10, 15]), list([2, 5, 9, 0]), list([4, 8, 0, 0]),\n",
       "       list([7, 0, 0, 0])], dtype=object)"
      ]
     },
     "execution_count": 619,
     "metadata": {},
     "output_type": "execute_result"
    }
   ],
   "source": [
    "prison_matrix"
   ]
  },
  {
   "cell_type": "code",
   "execution_count": null,
   "metadata": {
    "collapsed": true
   },
   "outputs": [],
   "source": []
  },
  {
   "cell_type": "code",
   "execution_count": 719,
   "metadata": {},
   "outputs": [
    {
     "name": "stdout",
     "output_type": "stream",
     "text": [
      "[1, 3, 6, 10, 15, 21, 28, 36, 45, 55, 66]\n",
      "[67, 69, 72, 76, 81, 87, 94, 102, 111, 121, 132]\n",
      "[133, 135, 138, 142, 147, 153, 160, 168, 177, 187, 198]\n",
      "[199, 201, 204, 208, 213, 219, 226, 234, 243, 253, 264]\n",
      "[265, 267, 270, 274, 279, 285, 292, 300, 309, 319, 330]\n"
     ]
    }
   ],
   "source": [
    "\n",
    "counter = 1\n",
    "starter = np.arange(0,11)\n",
    "\n",
    "for i in range(5):\n",
    "    cell = []\n",
    "    for idx, val in enumerate(starter):\n",
    "\n",
    "        cell.append(idx + counter)\n",
    "\n",
    "        counter+= idx + 1\n",
    "\n",
    "    print(cell)\n",
    "    starter += 1"
   ]
  },
  {
   "cell_type": "code",
   "execution_count": 738,
   "metadata": {},
   "outputs": [
    {
     "data": {
      "text/plain": [
       "[1, 3, 6, 10, 15, 21, 28, 36, 45, 55, 66]"
      ]
     },
     "execution_count": 738,
     "metadata": {},
     "output_type": "execute_result"
    }
   ],
   "source": [
    "cell = []\n",
    "counter = 1\n",
    "starter = np.arange(0,11)\n",
    "\n",
    "for i in starter:\n",
    "    cell.append(i + counter)\n",
    "    counter += i + 1\n",
    "    \n",
    "cell"
   ]
  },
  {
   "cell_type": "code",
   "execution_count": 740,
   "metadata": {},
   "outputs": [
    {
     "data": {
      "text/plain": [
       "array([ 3,  6, 10, 15, 21, 28, 36, 45, 55, 66, 78])"
      ]
     },
     "execution_count": 740,
     "metadata": {},
     "output_type": "execute_result"
    }
   ],
   "source": [
    "cell + starter+2"
   ]
  },
  {
   "cell_type": "code",
   "execution_count": 735,
   "metadata": {},
   "outputs": [
    {
     "data": {
      "text/plain": [
       "array([ 2,  3,  4,  5,  6,  7,  8,  9, 10, 11, 12])"
      ]
     },
     "execution_count": 735,
     "metadata": {},
     "output_type": "execute_result"
    }
   ],
   "source": [
    "starter+2"
   ]
  },
  {
   "cell_type": "code",
   "execution_count": 737,
   "metadata": {},
   "outputs": [
    {
     "data": {
      "text/plain": [
       "array([ 3,  4,  5,  6,  7,  8,  9, 10, 11, 12, 13])"
      ]
     },
     "execution_count": 737,
     "metadata": {},
     "output_type": "execute_result"
    }
   ],
   "source": [
    "starter+3"
   ]
  },
  {
   "cell_type": "code",
   "execution_count": 785,
   "metadata": {},
   "outputs": [
    {
     "data": {
      "text/plain": [
       "array([[ 1],\n",
       "       [ 2],\n",
       "       [ 4],\n",
       "       [ 7],\n",
       "       [11],\n",
       "       [16],\n",
       "       [22],\n",
       "       [29],\n",
       "       [37],\n",
       "       [46],\n",
       "       [56]])"
      ]
     },
     "execution_count": 785,
     "metadata": {},
     "output_type": "execute_result"
    }
   ],
   "source": [
    "##### First col #####\n",
    "num = 1\n",
    "col = []\n",
    "for i in range(0,11):\n",
    "    col.append(i + num)\n",
    "    num = i + num\n",
    "    \n",
    "np.array(col).reshape(11,1)"
   ]
  },
  {
   "cell_type": "code",
   "execution_count": 786,
   "metadata": {
    "scrolled": true
   },
   "outputs": [
    {
     "data": {
      "text/plain": [
       "[1, 2, 4, 7, 11, 16, 22, 29, 37, 46, 56]"
      ]
     },
     "execution_count": 786,
     "metadata": {},
     "output_type": "execute_result"
    }
   ],
   "source": [
    "col"
   ]
  },
  {
   "cell_type": "code",
   "execution_count": 827,
   "metadata": {},
   "outputs": [],
   "source": [
    "col2 = []\n",
    "for idx, val in enumerate(np.array(col)):\n",
    "#     print(idx, val, np.array([2,3,4,5,6,7,8,9])[idx])\n",
    "#     print(val + np.array([2,3,4,5,6,7,8,9,10,11,12,13])[idx])\n",
    "    col2.append(val + np.array([2,3,4,5,6,7,8,9,10,11,12,13])[idx])"
   ]
  },
  {
   "cell_type": "code",
   "execution_count": 831,
   "metadata": {},
   "outputs": [
    {
     "data": {
      "text/plain": [
       "[6, 9, 13, 18, 24, 31, 39, 48, 58, 69, 81]"
      ]
     },
     "execution_count": 831,
     "metadata": {},
     "output_type": "execute_result"
    }
   ],
   "source": [
    "col3 = []\n",
    "for idx, val in enumerate(np.array(col2)):\n",
    "#     print(idx, val, np.array([2,3,4,5,6,7,8,9])[idx])\n",
    "#     print(val + np.array([2,3,4,5,6,7,8,9,10,11,12,13])[idx])\n",
    "    col3.append(val + np.array([3,4,5,6,7,8,9,10,11,12,13])[idx])\n",
    "col3"
   ]
  },
  {
   "cell_type": "code",
   "execution_count": 832,
   "metadata": {},
   "outputs": [
    {
     "data": {
      "text/plain": [
       "array([[ 1,  3,  6],\n",
       "       [ 2,  5,  9],\n",
       "       [ 4,  8, 13],\n",
       "       [ 7, 12, 18],\n",
       "       [11, 17, 24],\n",
       "       [16, 23, 31],\n",
       "       [22, 30, 39],\n",
       "       [29, 38, 48],\n",
       "       [37, 47, 58],\n",
       "       [46, 57, 69],\n",
       "       [56, 68, 81]])"
      ]
     },
     "execution_count": 832,
     "metadata": {},
     "output_type": "execute_result"
    }
   ],
   "source": [
    "np.array([col,col2,col3]).T"
   ]
  },
  {
   "cell_type": "code",
   "execution_count": 891,
   "metadata": {},
   "outputs": [
    {
     "name": "stdout",
     "output_type": "stream",
     "text": [
      "[1, 2, 4, 7, 11, 16, 22, 29, 37, 46]\n"
     ]
    }
   ],
   "source": [
    "#M aking first col\n",
    "num = 1\n",
    "col = []\n",
    "for i in range(0,10):\n",
    "    col.append(i + num)\n",
    "    num = i + num\n",
    "    \n",
    "# np.array(col).reshape(1001,1)\n",
    "print(col)"
   ]
  },
  {
   "cell_type": "code",
   "execution_count": 892,
   "metadata": {},
   "outputs": [
    {
     "data": {
      "text/plain": [
       "array([[ 1],\n",
       "       [ 2],\n",
       "       [ 4],\n",
       "       [ 7],\n",
       "       [11],\n",
       "       [16],\n",
       "       [22],\n",
       "       [29],\n",
       "       [37],\n",
       "       [46]])"
      ]
     },
     "execution_count": 892,
     "metadata": {},
     "output_type": "execute_result"
    }
   ],
   "source": [
    "np.array(col).reshape(-1,1)"
   ]
  },
  {
   "cell_type": "code",
   "execution_count": 893,
   "metadata": {},
   "outputs": [
    {
     "ename": "ValueError",
     "evalue": "all the input array dimensions except for the concatenation axis must match exactly",
     "output_type": "error",
     "traceback": [
      "\u001b[0;31m---------------------------------------------------------------------------\u001b[0m",
      "\u001b[0;31mValueError\u001b[0m                                Traceback (most recent call last)",
      "\u001b[0;32m<ipython-input-893-6de20e173bd2>\u001b[0m in \u001b[0;36m<module>\u001b[0;34m()\u001b[0m\n\u001b[1;32m     10\u001b[0m     \u001b[0madder\u001b[0m \u001b[0;34m+=\u001b[0m \u001b[0;36m1\u001b[0m\u001b[0;34m\u001b[0m\u001b[0m\n\u001b[1;32m     11\u001b[0m \u001b[0;34m\u001b[0m\u001b[0m\n\u001b[0;32m---> 12\u001b[0;31m     \u001b[0mprison\u001b[0m \u001b[0;34m=\u001b[0m \u001b[0mnp\u001b[0m\u001b[0;34m.\u001b[0m\u001b[0mconcatenate\u001b[0m\u001b[0;34m(\u001b[0m\u001b[0;34m(\u001b[0m\u001b[0mprison\u001b[0m\u001b[0;34m,\u001b[0m \u001b[0mnp\u001b[0m\u001b[0;34m.\u001b[0m\u001b[0marray\u001b[0m\u001b[0;34m(\u001b[0m\u001b[0mloop_col\u001b[0m\u001b[0;34m)\u001b[0m\u001b[0;34m.\u001b[0m\u001b[0mreshape\u001b[0m\u001b[0;34m(\u001b[0m\u001b[0;34m-\u001b[0m\u001b[0;36m1\u001b[0m\u001b[0;34m,\u001b[0m\u001b[0;36m1\u001b[0m\u001b[0;34m)\u001b[0m\u001b[0;34m)\u001b[0m\u001b[0;34m,\u001b[0m\u001b[0maxis\u001b[0m \u001b[0;34m=\u001b[0m \u001b[0;36m1\u001b[0m\u001b[0;34m)\u001b[0m\u001b[0;34m\u001b[0m\u001b[0m\n\u001b[0m",
      "\u001b[0;31mValueError\u001b[0m: all the input array dimensions except for the concatenation axis must match exactly"
     ]
    }
   ],
   "source": [
    "prison = np.array(col).reshape(-1,1)\n",
    "adder = np.arange(2,12)\n",
    "\n",
    "for k in range(0,10):\n",
    "    loop_col = []\n",
    "    \n",
    "    for idx, val in enumerate(np.array(prison)):\n",
    "        loop_col.append(val + adder[idx])\n",
    "    \n",
    "    adder += 1\n",
    "    \n",
    "    prison = np.concatenate((prison, np.array(loop_col).reshape(-1,1)),axis = 1)"
   ]
  },
  {
   "cell_type": "code",
   "execution_count": 886,
   "metadata": {},
   "outputs": [
    {
     "data": {
      "text/plain": [
       "array([[ 1,  3],\n",
       "       [ 2,  5],\n",
       "       [ 4,  8],\n",
       "       [ 7, 12],\n",
       "       [11, 17],\n",
       "       [16, 23],\n",
       "       [22, 30],\n",
       "       [29, 38],\n",
       "       [37, 47],\n",
       "       [46, 57],\n",
       "       [56, 68]])"
      ]
     },
     "execution_count": 886,
     "metadata": {},
     "output_type": "execute_result"
    }
   ],
   "source": [
    "prison"
   ]
  },
  {
   "cell_type": "code",
   "execution_count": 897,
   "metadata": {},
   "outputs": [],
   "source": [
    "prison = np.array(col).reshape(-1,1)\n",
    "adder = np.arange(2,12)\n",
    "\n",
    "for k in range(0,10):\n",
    "    loop_col = []\n",
    "    \n",
    "    for idx, val in enumerate(np.array(prison)[:,-1]):\n",
    "        loop_col.append(val + adder[idx])\n",
    "    \n",
    "    adder += 1\n",
    "    \n",
    "    prison = np.concatenate((prison, np.array(loop_col).reshape(-1,1)),axis = 1)"
   ]
  },
  {
   "cell_type": "code",
   "execution_count": 898,
   "metadata": {},
   "outputs": [
    {
     "data": {
      "text/plain": [
       "array([[  1,   3,   6,  10,  15,  21,  28,  36,  45,  55,  66],\n",
       "       [  2,   5,   9,  14,  20,  27,  35,  44,  54,  65,  77],\n",
       "       [  4,   8,  13,  19,  26,  34,  43,  53,  64,  76,  89],\n",
       "       [  7,  12,  18,  25,  33,  42,  52,  63,  75,  88, 102],\n",
       "       [ 11,  17,  24,  32,  41,  51,  62,  74,  87, 101, 116],\n",
       "       [ 16,  23,  31,  40,  50,  61,  73,  86, 100, 115, 131],\n",
       "       [ 22,  30,  39,  49,  60,  72,  85,  99, 114, 130, 147],\n",
       "       [ 29,  38,  48,  59,  71,  84,  98, 113, 129, 146, 164],\n",
       "       [ 37,  47,  58,  70,  83,  97, 112, 128, 145, 163, 182],\n",
       "       [ 46,  57,  69,  82,  96, 111, 127, 144, 162, 181, 201]])"
      ]
     },
     "execution_count": 898,
     "metadata": {},
     "output_type": "execute_result"
    }
   ],
   "source": [
    "prison"
   ]
  },
  {
   "cell_type": "code",
   "execution_count": 926,
   "metadata": {},
   "outputs": [],
   "source": [
    "##### This makes the prison\n",
    "#Making first col\n",
    "num = 1\n",
    "col = []\n",
    "for i in range(0,1000):\n",
    "    col.append(i + num)\n",
    "    num = i + num\n",
    "    \n",
    "# np.array(col).reshape(1001,1)\n",
    "# print(col)\n",
    "\n",
    "prison = np.array(col).reshape(-1,1)\n",
    "adder = np.arange(2,1002)\n",
    "\n",
    "for k in range(0,999):\n",
    "    loop_col = []\n",
    "    \n",
    "    for idx, val in enumerate(np.array(prison)[:,-1]):\n",
    "        loop_col.append(val + adder[idx])\n",
    "    \n",
    "    adder += 1\n",
    "    \n",
    "    prison = np.concatenate((prison, np.array(loop_col).reshape(-1,1)),axis = 1)"
   ]
  },
  {
   "cell_type": "code",
   "execution_count": 927,
   "metadata": {},
   "outputs": [
    {
     "data": {
      "text/plain": [
       "(1000, 1000)"
      ]
     },
     "execution_count": 927,
     "metadata": {},
     "output_type": "execute_result"
    }
   ],
   "source": [
    "prison.shape"
   ]
  },
  {
   "cell_type": "code",
   "execution_count": 934,
   "metadata": {
    "scrolled": true
   },
   "outputs": [
    {
     "data": {
      "text/plain": [
       "8"
      ]
     },
     "execution_count": 934,
     "metadata": {},
     "output_type": "execute_result"
    }
   ],
   "source": [
    "prison[2,1]"
   ]
  },
  {
   "cell_type": "code",
   "execution_count": 1,
   "metadata": {
    "collapsed": true
   },
   "outputs": [],
   "source": [
    "def answer(x, y):\n",
    "    \n",
    "    import numpy as np\n",
    "    \n",
    "    # Making first column of the \"prison\" of the form [1,2,4,7,11,16,...]\n",
    "    num = 1\n",
    "    col = []\n",
    "    for i in range(0,1000):\n",
    "        col.append(i + num)\n",
    "        num = i + num\n",
    "\n",
    "        \n",
    "    # Using the first column, building the rest of the \"prison\" column-by-column\n",
    "    prison = np.array(col).reshape(-1,1)\n",
    "    adder = np.arange(2,1002)\n",
    "\n",
    "    for k in range(0,999):\n",
    "        loop_col = []\n",
    "\n",
    "        for idx, val in enumerate(np.array(prison)[:,-1]):\n",
    "            loop_col.append(val + adder[idx])\n",
    "\n",
    "        adder += 1\n",
    "\n",
    "        prison = np.concatenate((prison, np.array(loop_col).reshape(-1,1)),axis = 1)\n",
    "    \n",
    "    return str(prison[y-1,x-1])"
   ]
  },
  {
   "cell_type": "code",
   "execution_count": 2,
   "metadata": {},
   "outputs": [
    {
     "data": {
      "text/plain": [
       "'1'"
      ]
     },
     "execution_count": 2,
     "metadata": {},
     "output_type": "execute_result"
    }
   ],
   "source": [
    "answer(1,1)"
   ]
  },
  {
   "cell_type": "code",
   "execution_count": 3,
   "metadata": {},
   "outputs": [
    {
     "data": {
      "text/plain": [
       "'9'"
      ]
     },
     "execution_count": 3,
     "metadata": {},
     "output_type": "execute_result"
    }
   ],
   "source": [
    "answer(3,2)"
   ]
  },
  {
   "cell_type": "code",
   "execution_count": 4,
   "metadata": {},
   "outputs": [
    {
     "data": {
      "text/plain": [
       "'8'"
      ]
     },
     "execution_count": 4,
     "metadata": {},
     "output_type": "execute_result"
    }
   ],
   "source": [
    "answer(2,3)"
   ]
  },
  {
   "cell_type": "code",
   "execution_count": 5,
   "metadata": {},
   "outputs": [
    {
     "data": {
      "text/plain": [
       "'96'"
      ]
     },
     "execution_count": 5,
     "metadata": {},
     "output_type": "execute_result"
    }
   ],
   "source": [
    "answer(5,10)"
   ]
  },
  {
   "cell_type": "code",
   "execution_count": 946,
   "metadata": {
    "collapsed": true
   },
   "outputs": [],
   "source": [
    "from array import *"
   ]
  },
  {
   "cell_type": "code",
   "execution_count": 176,
   "metadata": {},
   "outputs": [],
   "source": [
    "##### This makes the prison\n",
    "#Making first col, trying without using numpy\n",
    "num = 1\n",
    "col = []\n",
    "for i in range(0,10):\n",
    "    col.append(i + num)\n",
    "    num = i + num\n",
    "    \n",
    "# np.array(col).reshape(1001,1)\n",
    "# print(col)\n",
    "\n",
    "prison = [col]\n",
    "adder = list(range(2,12))\n",
    "counter = 0\n",
    "\n",
    "for k in range(0,9):\n",
    "    loop_col = []\n",
    "    \n",
    "    for idx, val in enumerate(prison[0 + counter]):\n",
    "        loop_col.append(val + adder[idx])\n",
    "    \n",
    "    \n",
    "    for idx, val in enumerate(adder):\n",
    "        adder[idx] = adder[idx] + 1\n",
    "        \n",
    "    counter += 1\n",
    "    \n",
    "    prison.append(loop_col)"
   ]
  },
  {
   "cell_type": "code",
   "execution_count": 177,
   "metadata": {},
   "outputs": [
    {
     "data": {
      "text/plain": [
       "[[1, 2, 4, 7, 11, 16, 22, 29, 37, 46],\n",
       " [3, 5, 8, 12, 17, 23, 30, 38, 47, 57],\n",
       " [6, 9, 13, 18, 24, 31, 39, 48, 58, 69],\n",
       " [10, 14, 19, 25, 32, 40, 49, 59, 70, 82],\n",
       " [15, 20, 26, 33, 41, 50, 60, 71, 83, 96],\n",
       " [21, 27, 34, 42, 51, 61, 72, 84, 97, 111],\n",
       " [28, 35, 43, 52, 62, 73, 85, 98, 112, 127],\n",
       " [36, 44, 53, 63, 74, 86, 99, 113, 128, 144],\n",
       " [45, 54, 64, 75, 87, 100, 114, 129, 145, 162],\n",
       " [55, 65, 76, 88, 101, 115, 130, 146, 163, 181]]"
      ]
     },
     "execution_count": 177,
     "metadata": {},
     "output_type": "execute_result"
    }
   ],
   "source": [
    "prison"
   ]
  },
  {
   "cell_type": "code",
   "execution_count": 178,
   "metadata": {},
   "outputs": [
    {
     "data": {
      "text/plain": [
       "10"
      ]
     },
     "execution_count": 178,
     "metadata": {},
     "output_type": "execute_result"
    }
   ],
   "source": [
    "len(prison)"
   ]
  },
  {
   "cell_type": "code",
   "execution_count": 179,
   "metadata": {},
   "outputs": [
    {
     "data": {
      "text/plain": [
       "10"
      ]
     },
     "execution_count": 179,
     "metadata": {},
     "output_type": "execute_result"
    }
   ],
   "source": [
    "len(prison[0])"
   ]
  },
  {
   "cell_type": "code",
   "execution_count": 170,
   "metadata": {},
   "outputs": [
    {
     "data": {
      "text/plain": [
       "[[1, 3, 6, 10, 15, 21, 28, 36, 45, 55],\n",
       " [2, 5, 9, 14, 20, 27, 35, 44, 54, 65],\n",
       " [4, 8, 13, 19, 26, 34, 43, 53, 64, 76],\n",
       " [7, 12, 18, 25, 33, 42, 52, 63, 75, 88],\n",
       " [11, 17, 24, 32, 41, 51, 62, 74, 87, 101],\n",
       " [16, 23, 31, 40, 50, 61, 73, 86, 100, 115],\n",
       " [22, 30, 39, 49, 60, 72, 85, 99, 114, 130],\n",
       " [29, 38, 48, 59, 71, 84, 98, 113, 129, 146],\n",
       " [37, 47, 58, 70, 83, 97, 112, 128, 145, 163],\n",
       " [46, 57, 69, 82, 96, 111, 127, 144, 162, 181]]"
      ]
     },
     "execution_count": 170,
     "metadata": {},
     "output_type": "execute_result"
    }
   ],
   "source": [
    "transpose = []\n",
    "\n",
    "col_idx = 0\n",
    "\n",
    "while col_idx < 10:\n",
    "    cell = []\n",
    "    for row_idx, val in enumerate(prison):\n",
    "#         print(row_idx)\n",
    "        cell.append(prison[row_idx][col_idx])\n",
    "#     print(col_idx, cell)\n",
    "    transpose.append(cell)\n",
    "    col_idx += 1\n",
    "    \n",
    "transpose"
   ]
  },
  {
   "cell_type": "code",
   "execution_count": 98,
   "metadata": {},
   "outputs": [
    {
     "data": {
      "text/plain": [
       "[12, 13, 14, 15, 16, 17, 18, 19, 20, 21]"
      ]
     },
     "execution_count": 98,
     "metadata": {},
     "output_type": "execute_result"
    }
   ],
   "source": [
    "adder"
   ]
  },
  {
   "cell_type": "code",
   "execution_count": 69,
   "metadata": {},
   "outputs": [
    {
     "data": {
      "text/plain": [
       "[3, 4, 5, 6, 7, 8, 9, 10, 11, 12]"
      ]
     },
     "execution_count": 69,
     "metadata": {},
     "output_type": "execute_result"
    }
   ],
   "source": [
    "adder"
   ]
  },
  {
   "cell_type": "code",
   "execution_count": 201,
   "metadata": {},
   "outputs": [],
   "source": [
    "##### This makes the prison\n",
    "#Making first col, trying without using numpy\n",
    "\n",
    "N = 1000\n",
    "num = 1\n",
    "col = []\n",
    "for i in range(0, N):\n",
    "    col.append(i + num)\n",
    "    num = i + num\n",
    "    \n",
    "# np.array(col).reshape(1001,1)\n",
    "# print(col)\n",
    "\n",
    "prison = [col]\n",
    "adder = list(range(2, N + 2))\n",
    "counter = 0\n",
    "\n",
    "for k in range(0,N - 1):\n",
    "    loop_col = []\n",
    "    \n",
    "    for idx, val in enumerate(prison[0 + counter]):\n",
    "        loop_col.append(val + adder[idx])\n",
    "    \n",
    "    \n",
    "    for idx, val in enumerate(adder):\n",
    "        adder[idx] = adder[idx] + 1\n",
    "        \n",
    "    counter += 1\n",
    "    \n",
    "    prison.append(loop_col)\n",
    "\n",
    "transpose = []\n",
    "\n",
    "col_idx = 0\n",
    "\n",
    "while col_idx < N :\n",
    "    cell = []\n",
    "    for row_idx, val in enumerate(prison):\n",
    "#         print(row_idx)\n",
    "        cell.append(prison[row_idx][col_idx])\n",
    "#     print(col_idx, cell)\n",
    "    transpose.append(cell)\n",
    "    col_idx += 1"
   ]
  },
  {
   "cell_type": "code",
   "execution_count": 202,
   "metadata": {},
   "outputs": [
    {
     "data": {
      "text/plain": [
       "100"
      ]
     },
     "execution_count": 202,
     "metadata": {},
     "output_type": "execute_result"
    }
   ],
   "source": [
    "len(transpose)"
   ]
  },
  {
   "cell_type": "code",
   "execution_count": 203,
   "metadata": {},
   "outputs": [
    {
     "data": {
      "text/plain": [
       "100"
      ]
     },
     "execution_count": 203,
     "metadata": {},
     "output_type": "execute_result"
    }
   ],
   "source": [
    "len(transpose[0])"
   ]
  },
  {
   "cell_type": "code",
   "execution_count": 333,
   "metadata": {},
   "outputs": [],
   "source": [
    "def answer(x, y):\n",
    "    \n",
    "##### This makes the \"prison\" nested list\n",
    "## Note: NumPy is does not support Python 2.7, which is what Google Foo Bar evaluates solutions with.\n",
    "\n",
    "# Making first column to begin building the nested list:\n",
    "\n",
    "    N = 1000  # This is the i and j dimension of resulting nested list (similar to form of 1000x1000 square matrix)\n",
    "    num = 1\n",
    "    col = []\n",
    "    for i in range(0, N):\n",
    "        col.append(i + num)\n",
    "        num = i + num\n",
    "\n",
    "    prison = [col]  \n",
    "    adder = list(range(2, N + 2))\n",
    "    counter = 0\n",
    "\n",
    "    for k in range(0, N - 1):   # Building the other columns of the prison, then appending them.\n",
    "        loop_col = []\n",
    "\n",
    "        for idx, val in enumerate(prison[0 + counter]):\n",
    "            loop_col.append(val + adder[idx])\n",
    "\n",
    "\n",
    "        for idx, val in enumerate(adder):\n",
    "            adder[idx] = adder[idx] + 1\n",
    "\n",
    "        counter += 1\n",
    "\n",
    "        prison.append(loop_col)\n",
    "        # Note: This \"prison\" is \"upside-down\" compared to problem prompt, but calling the indexes\n",
    "        # will still be in the correct relative direction.\n",
    "    \n",
    "    # This comment below is for transposing \"prison\" for troubleshooting.\n",
    "    \n",
    "#     transpose = []\n",
    "\n",
    "#     col_idx = 0\n",
    "\n",
    "#     while col_idx < N :  # Piece-wise transpose of prison.\n",
    "#         cell = []\n",
    "#         for row_idx, val in enumerate(prison):\n",
    "#     #         print(row_idx)\n",
    "#             cell.append(prison[row_idx][col_idx])\n",
    "#     #     print(col_idx, cell)\n",
    "#         transpose.append(cell)\n",
    "#         col_idx += 1\n",
    "        \n",
    "    return str(prison[x-1][y-1]), len(prison), len(prison[0]), prison[-1][-1]"
   ]
  },
  {
   "cell_type": "code",
   "execution_count": 334,
   "metadata": {},
   "outputs": [
    {
     "data": {
      "text/plain": [
       "('1', 1000, 1000, 1998001)"
      ]
     },
     "execution_count": 334,
     "metadata": {},
     "output_type": "execute_result"
    }
   ],
   "source": [
    "answer(1,1)"
   ]
  },
  {
   "cell_type": "code",
   "execution_count": 335,
   "metadata": {},
   "outputs": [
    {
     "data": {
      "text/plain": [
       "('9', 1000, 1000, 1998001)"
      ]
     },
     "execution_count": 335,
     "metadata": {},
     "output_type": "execute_result"
    }
   ],
   "source": [
    "answer(3,2)"
   ]
  },
  {
   "cell_type": "code",
   "execution_count": 336,
   "metadata": {},
   "outputs": [
    {
     "data": {
      "text/plain": [
       "('8', 1000, 1000, 1998001)"
      ]
     },
     "execution_count": 336,
     "metadata": {},
     "output_type": "execute_result"
    }
   ],
   "source": [
    "answer(2,3)"
   ]
  },
  {
   "cell_type": "code",
   "execution_count": 337,
   "metadata": {},
   "outputs": [
    {
     "data": {
      "text/plain": [
       "('96', 1000, 1000, 1998001)"
      ]
     },
     "execution_count": 337,
     "metadata": {},
     "output_type": "execute_result"
    }
   ],
   "source": [
    "answer(5,10)"
   ]
  },
  {
   "cell_type": "code",
   "execution_count": 28,
   "metadata": {
    "collapsed": true
   },
   "outputs": [],
   "source": [
    "def answer(x, y):\n",
    "    \n",
    "##### This makes the \"prison\" nested list\n",
    "## Note: NumPy is does not support Python 2.7, which is what Google Foo Bar evaluates solutions with.\n",
    "\n",
    "# Making first column to begin building the nested list:\n",
    "\n",
    "    N = 10  # This is the i and j dimension of resulting nested list (similar to form of 1000x1000 square matrix)\n",
    "    num = 1\n",
    "    col = ()\n",
    "    for i in range(0, N):\n",
    "        col = col + (i + num,)\n",
    "        num = i + num\n",
    "\n",
    "    prison = (tuple(col),)  \n",
    "    adder = tuple(range(2, N + 2))\n",
    "    counter = 0\n",
    "    print(len(prison))\n",
    "    for k in range(0, N - 1):   # Building the other columns of the prison, then appending them.\n",
    "        loop_col = ()\n",
    "\n",
    "        for idx, val in enumerate(prison[0 + counter]):\n",
    "            loop_col = loop_col + (val + adder[idx],)\n",
    "\n",
    "        counter += 1\n",
    "        \n",
    "        adder = tuple(range(2+counter, N + 2))\n",
    "\n",
    "        prison = prison + (tuple(loop_col),)\n",
    "        # Note: This \"prison\" is \"upside-down\" compared to problem prompt, but calling the indexes\n",
    "        # will still be in the correct relative direction.\n",
    "    \n",
    "    # This comment below is for transposing \"prison\" for troubleshooting.\n",
    "    \n",
    "#     transpose = []\n",
    "\n",
    "#     col_idx = 0\n",
    "\n",
    "#     while col_idx < N :  # Piece-wise transpose of prison.\n",
    "#         cell = []\n",
    "#         for row_idx, val in enumerate(prison):\n",
    "#     #         print(row_idx)\n",
    "#             cell.append(prison[row_idx][col_idx])\n",
    "#     #     print(col_idx, cell)\n",
    "#         transpose.append(cell)\n",
    "#         col_idx += 1\n",
    "        \n",
    "    return str(prison[x-1][y-1])"
   ]
  },
  {
   "cell_type": "code",
   "execution_count": 29,
   "metadata": {},
   "outputs": [
    {
     "name": "stdout",
     "output_type": "stream",
     "text": [
      "1\n"
     ]
    },
    {
     "ename": "IndexError",
     "evalue": "tuple index out of range",
     "output_type": "error",
     "traceback": [
      "\u001b[0;31m---------------------------------------------------------------------------\u001b[0m",
      "\u001b[0;31mIndexError\u001b[0m                                Traceback (most recent call last)",
      "\u001b[0;32m<ipython-input-29-0bebbfcb159b>\u001b[0m in \u001b[0;36m<module>\u001b[0;34m()\u001b[0m\n\u001b[0;32m----> 1\u001b[0;31m \u001b[0manswer\u001b[0m\u001b[0;34m(\u001b[0m\u001b[0;36m1\u001b[0m\u001b[0;34m,\u001b[0m\u001b[0;36m1\u001b[0m\u001b[0;34m)\u001b[0m\u001b[0;34m\u001b[0m\u001b[0m\n\u001b[0m",
      "\u001b[0;32m<ipython-input-28-2bcc43d7c381>\u001b[0m in \u001b[0;36manswer\u001b[0;34m(x, y)\u001b[0m\n\u001b[1;32m     21\u001b[0m \u001b[0;34m\u001b[0m\u001b[0m\n\u001b[1;32m     22\u001b[0m         \u001b[0;32mfor\u001b[0m \u001b[0midx\u001b[0m\u001b[0;34m,\u001b[0m \u001b[0mval\u001b[0m \u001b[0;32min\u001b[0m \u001b[0menumerate\u001b[0m\u001b[0;34m(\u001b[0m\u001b[0mprison\u001b[0m\u001b[0;34m[\u001b[0m\u001b[0;36m0\u001b[0m \u001b[0;34m+\u001b[0m \u001b[0mcounter\u001b[0m\u001b[0;34m]\u001b[0m\u001b[0;34m)\u001b[0m\u001b[0;34m:\u001b[0m\u001b[0;34m\u001b[0m\u001b[0m\n\u001b[0;32m---> 23\u001b[0;31m             \u001b[0mloop_col\u001b[0m \u001b[0;34m=\u001b[0m \u001b[0mloop_col\u001b[0m \u001b[0;34m+\u001b[0m \u001b[0;34m(\u001b[0m\u001b[0mval\u001b[0m \u001b[0;34m+\u001b[0m \u001b[0madder\u001b[0m\u001b[0;34m[\u001b[0m\u001b[0midx\u001b[0m\u001b[0;34m]\u001b[0m\u001b[0;34m,\u001b[0m\u001b[0;34m)\u001b[0m\u001b[0;34m\u001b[0m\u001b[0m\n\u001b[0m\u001b[1;32m     24\u001b[0m \u001b[0;34m\u001b[0m\u001b[0m\n\u001b[1;32m     25\u001b[0m         \u001b[0mcounter\u001b[0m \u001b[0;34m+=\u001b[0m \u001b[0;36m1\u001b[0m\u001b[0;34m\u001b[0m\u001b[0m\n",
      "\u001b[0;31mIndexError\u001b[0m: tuple index out of range"
     ]
    }
   ],
   "source": [
    "answer(1,1)"
   ]
  },
  {
   "cell_type": "code",
   "execution_count": 67,
   "metadata": {},
   "outputs": [
    {
     "ename": "KeyboardInterrupt",
     "evalue": "",
     "output_type": "error",
     "traceback": [
      "\u001b[0;31m---------------------------------------------------------------------------\u001b[0m",
      "\u001b[0;31mKeyboardInterrupt\u001b[0m                         Traceback (most recent call last)",
      "\u001b[0;32m<ipython-input-67-543d2462e426>\u001b[0m in \u001b[0;36m<module>\u001b[0;34m()\u001b[0m\n\u001b[1;32m     15\u001b[0m     \u001b[0;32mfor\u001b[0m \u001b[0midx\u001b[0m\u001b[0;34m,\u001b[0m \u001b[0mval\u001b[0m \u001b[0;32min\u001b[0m \u001b[0menumerate\u001b[0m\u001b[0;34m(\u001b[0m\u001b[0mprison\u001b[0m\u001b[0;34m[\u001b[0m\u001b[0;36m0\u001b[0m \u001b[0;34m+\u001b[0m \u001b[0mcounter\u001b[0m\u001b[0;34m]\u001b[0m\u001b[0;34m)\u001b[0m\u001b[0;34m:\u001b[0m\u001b[0;34m\u001b[0m\u001b[0m\n\u001b[1;32m     16\u001b[0m \u001b[0;31m#         print(val + adder[idx])\u001b[0m\u001b[0;34m\u001b[0m\u001b[0;34m\u001b[0m\u001b[0m\n\u001b[0;32m---> 17\u001b[0;31m         \u001b[0mloop_col\u001b[0m \u001b[0;34m=\u001b[0m \u001b[0mloop_col\u001b[0m \u001b[0;34m+\u001b[0m \u001b[0;34m(\u001b[0m\u001b[0mval\u001b[0m \u001b[0;34m+\u001b[0m \u001b[0madder\u001b[0m\u001b[0;34m[\u001b[0m\u001b[0midx\u001b[0m\u001b[0;34m]\u001b[0m\u001b[0;34m,\u001b[0m\u001b[0;34m)\u001b[0m\u001b[0;34m\u001b[0m\u001b[0m\n\u001b[0m\u001b[1;32m     18\u001b[0m \u001b[0;31m#     print(loop_col)\u001b[0m\u001b[0;34m\u001b[0m\u001b[0;34m\u001b[0m\u001b[0m\n\u001b[1;32m     19\u001b[0m \u001b[0;34m\u001b[0m\u001b[0m\n",
      "\u001b[0;31mKeyboardInterrupt\u001b[0m: "
     ]
    }
   ],
   "source": [
    "N = 10000  # This is the i and j dimension of resulting nested list (similar to form of 1000x1000 square matrix)\n",
    "num = 1\n",
    "col = ()\n",
    "for i in range(0, N):\n",
    "    col = col + (i + num,)\n",
    "    num = i + num\n",
    "\n",
    "prison = (tuple(col),)\n",
    "adder = tuple(range(2, N + 2))\n",
    "counter = 0\n",
    "# print(prison)\n",
    "for k in range(0, N - 1):   # Building the other columns of the prison, then appending them.\n",
    "    loop_col = ()\n",
    "\n",
    "    for idx, val in enumerate(prison[0 + counter]):\n",
    "#         print(val + adder[idx])\n",
    "        loop_col = loop_col + (val + adder[idx],)\n",
    "#     print(loop_col)\n",
    "    \n",
    "    prison = prison + (tuple(loop_col),)\n",
    "    \n",
    "    counter += 1\n",
    "\n",
    "    adder = tuple(range(2+counter, N + 2 + counter))\n",
    "    \n",
    "# prison"
   ]
  },
  {
   "cell_type": "code",
   "execution_count": 53,
   "metadata": {},
   "outputs": [
    {
     "data": {
      "text/plain": [
       "(4, 5, 6, 7, 8, 9, 10, 11, 12, 13)"
      ]
     },
     "execution_count": 53,
     "metadata": {},
     "output_type": "execute_result"
    }
   ],
   "source": [
    "tuple(range(2+2, N + 2 + 2))"
   ]
  },
  {
   "cell_type": "code",
   "execution_count": 31,
   "metadata": {},
   "outputs": [],
   "source": [
    "N = 1000  # This is the i and j dimension of resulting nested list (similar to form of 1000x1000 square matrix)\n",
    "num = 1\n",
    "col = ()\n",
    "for i in range(0, N):\n",
    "    col = col + (i + num,)\n",
    "    num = i + num"
   ]
  },
  {
   "cell_type": "code",
   "execution_count": 32,
   "metadata": {},
   "outputs": [
    {
     "data": {
      "text/plain": [
       "1000"
      ]
     },
     "execution_count": 32,
     "metadata": {},
     "output_type": "execute_result"
    }
   ],
   "source": [
    "len(col)"
   ]
  },
  {
   "cell_type": "code",
   "execution_count": 35,
   "metadata": {},
   "outputs": [
    {
     "data": {
      "text/plain": [
       "((1,\n",
       "  2,\n",
       "  4,\n",
       "  7,\n",
       "  11,\n",
       "  16,\n",
       "  22,\n",
       "  29,\n",
       "  37,\n",
       "  46,\n",
       "  56,\n",
       "  67,\n",
       "  79,\n",
       "  92,\n",
       "  106,\n",
       "  121,\n",
       "  137,\n",
       "  154,\n",
       "  172,\n",
       "  191,\n",
       "  211,\n",
       "  232,\n",
       "  254,\n",
       "  277,\n",
       "  301,\n",
       "  326,\n",
       "  352,\n",
       "  379,\n",
       "  407,\n",
       "  436,\n",
       "  466,\n",
       "  497,\n",
       "  529,\n",
       "  562,\n",
       "  596,\n",
       "  631,\n",
       "  667,\n",
       "  704,\n",
       "  742,\n",
       "  781,\n",
       "  821,\n",
       "  862,\n",
       "  904,\n",
       "  947,\n",
       "  991,\n",
       "  1036,\n",
       "  1082,\n",
       "  1129,\n",
       "  1177,\n",
       "  1226,\n",
       "  1276,\n",
       "  1327,\n",
       "  1379,\n",
       "  1432,\n",
       "  1486,\n",
       "  1541,\n",
       "  1597,\n",
       "  1654,\n",
       "  1712,\n",
       "  1771,\n",
       "  1831,\n",
       "  1892,\n",
       "  1954,\n",
       "  2017,\n",
       "  2081,\n",
       "  2146,\n",
       "  2212,\n",
       "  2279,\n",
       "  2347,\n",
       "  2416,\n",
       "  2486,\n",
       "  2557,\n",
       "  2629,\n",
       "  2702,\n",
       "  2776,\n",
       "  2851,\n",
       "  2927,\n",
       "  3004,\n",
       "  3082,\n",
       "  3161,\n",
       "  3241,\n",
       "  3322,\n",
       "  3404,\n",
       "  3487,\n",
       "  3571,\n",
       "  3656,\n",
       "  3742,\n",
       "  3829,\n",
       "  3917,\n",
       "  4006,\n",
       "  4096,\n",
       "  4187,\n",
       "  4279,\n",
       "  4372,\n",
       "  4466,\n",
       "  4561,\n",
       "  4657,\n",
       "  4754,\n",
       "  4852,\n",
       "  4951,\n",
       "  5051,\n",
       "  5152,\n",
       "  5254,\n",
       "  5357,\n",
       "  5461,\n",
       "  5566,\n",
       "  5672,\n",
       "  5779,\n",
       "  5887,\n",
       "  5996,\n",
       "  6106,\n",
       "  6217,\n",
       "  6329,\n",
       "  6442,\n",
       "  6556,\n",
       "  6671,\n",
       "  6787,\n",
       "  6904,\n",
       "  7022,\n",
       "  7141,\n",
       "  7261,\n",
       "  7382,\n",
       "  7504,\n",
       "  7627,\n",
       "  7751,\n",
       "  7876,\n",
       "  8002,\n",
       "  8129,\n",
       "  8257,\n",
       "  8386,\n",
       "  8516,\n",
       "  8647,\n",
       "  8779,\n",
       "  8912,\n",
       "  9046,\n",
       "  9181,\n",
       "  9317,\n",
       "  9454,\n",
       "  9592,\n",
       "  9731,\n",
       "  9871,\n",
       "  10012,\n",
       "  10154,\n",
       "  10297,\n",
       "  10441,\n",
       "  10586,\n",
       "  10732,\n",
       "  10879,\n",
       "  11027,\n",
       "  11176,\n",
       "  11326,\n",
       "  11477,\n",
       "  11629,\n",
       "  11782,\n",
       "  11936,\n",
       "  12091,\n",
       "  12247,\n",
       "  12404,\n",
       "  12562,\n",
       "  12721,\n",
       "  12881,\n",
       "  13042,\n",
       "  13204,\n",
       "  13367,\n",
       "  13531,\n",
       "  13696,\n",
       "  13862,\n",
       "  14029,\n",
       "  14197,\n",
       "  14366,\n",
       "  14536,\n",
       "  14707,\n",
       "  14879,\n",
       "  15052,\n",
       "  15226,\n",
       "  15401,\n",
       "  15577,\n",
       "  15754,\n",
       "  15932,\n",
       "  16111,\n",
       "  16291,\n",
       "  16472,\n",
       "  16654,\n",
       "  16837,\n",
       "  17021,\n",
       "  17206,\n",
       "  17392,\n",
       "  17579,\n",
       "  17767,\n",
       "  17956,\n",
       "  18146,\n",
       "  18337,\n",
       "  18529,\n",
       "  18722,\n",
       "  18916,\n",
       "  19111,\n",
       "  19307,\n",
       "  19504,\n",
       "  19702,\n",
       "  19901,\n",
       "  20101,\n",
       "  20302,\n",
       "  20504,\n",
       "  20707,\n",
       "  20911,\n",
       "  21116,\n",
       "  21322,\n",
       "  21529,\n",
       "  21737,\n",
       "  21946,\n",
       "  22156,\n",
       "  22367,\n",
       "  22579,\n",
       "  22792,\n",
       "  23006,\n",
       "  23221,\n",
       "  23437,\n",
       "  23654,\n",
       "  23872,\n",
       "  24091,\n",
       "  24311,\n",
       "  24532,\n",
       "  24754,\n",
       "  24977,\n",
       "  25201,\n",
       "  25426,\n",
       "  25652,\n",
       "  25879,\n",
       "  26107,\n",
       "  26336,\n",
       "  26566,\n",
       "  26797,\n",
       "  27029,\n",
       "  27262,\n",
       "  27496,\n",
       "  27731,\n",
       "  27967,\n",
       "  28204,\n",
       "  28442,\n",
       "  28681,\n",
       "  28921,\n",
       "  29162,\n",
       "  29404,\n",
       "  29647,\n",
       "  29891,\n",
       "  30136,\n",
       "  30382,\n",
       "  30629,\n",
       "  30877,\n",
       "  31126,\n",
       "  31376,\n",
       "  31627,\n",
       "  31879,\n",
       "  32132,\n",
       "  32386,\n",
       "  32641,\n",
       "  32897,\n",
       "  33154,\n",
       "  33412,\n",
       "  33671,\n",
       "  33931,\n",
       "  34192,\n",
       "  34454,\n",
       "  34717,\n",
       "  34981,\n",
       "  35246,\n",
       "  35512,\n",
       "  35779,\n",
       "  36047,\n",
       "  36316,\n",
       "  36586,\n",
       "  36857,\n",
       "  37129,\n",
       "  37402,\n",
       "  37676,\n",
       "  37951,\n",
       "  38227,\n",
       "  38504,\n",
       "  38782,\n",
       "  39061,\n",
       "  39341,\n",
       "  39622,\n",
       "  39904,\n",
       "  40187,\n",
       "  40471,\n",
       "  40756,\n",
       "  41042,\n",
       "  41329,\n",
       "  41617,\n",
       "  41906,\n",
       "  42196,\n",
       "  42487,\n",
       "  42779,\n",
       "  43072,\n",
       "  43366,\n",
       "  43661,\n",
       "  43957,\n",
       "  44254,\n",
       "  44552,\n",
       "  44851,\n",
       "  45151,\n",
       "  45452,\n",
       "  45754,\n",
       "  46057,\n",
       "  46361,\n",
       "  46666,\n",
       "  46972,\n",
       "  47279,\n",
       "  47587,\n",
       "  47896,\n",
       "  48206,\n",
       "  48517,\n",
       "  48829,\n",
       "  49142,\n",
       "  49456,\n",
       "  49771,\n",
       "  50087,\n",
       "  50404,\n",
       "  50722,\n",
       "  51041,\n",
       "  51361,\n",
       "  51682,\n",
       "  52004,\n",
       "  52327,\n",
       "  52651,\n",
       "  52976,\n",
       "  53302,\n",
       "  53629,\n",
       "  53957,\n",
       "  54286,\n",
       "  54616,\n",
       "  54947,\n",
       "  55279,\n",
       "  55612,\n",
       "  55946,\n",
       "  56281,\n",
       "  56617,\n",
       "  56954,\n",
       "  57292,\n",
       "  57631,\n",
       "  57971,\n",
       "  58312,\n",
       "  58654,\n",
       "  58997,\n",
       "  59341,\n",
       "  59686,\n",
       "  60032,\n",
       "  60379,\n",
       "  60727,\n",
       "  61076,\n",
       "  61426,\n",
       "  61777,\n",
       "  62129,\n",
       "  62482,\n",
       "  62836,\n",
       "  63191,\n",
       "  63547,\n",
       "  63904,\n",
       "  64262,\n",
       "  64621,\n",
       "  64981,\n",
       "  65342,\n",
       "  65704,\n",
       "  66067,\n",
       "  66431,\n",
       "  66796,\n",
       "  67162,\n",
       "  67529,\n",
       "  67897,\n",
       "  68266,\n",
       "  68636,\n",
       "  69007,\n",
       "  69379,\n",
       "  69752,\n",
       "  70126,\n",
       "  70501,\n",
       "  70877,\n",
       "  71254,\n",
       "  71632,\n",
       "  72011,\n",
       "  72391,\n",
       "  72772,\n",
       "  73154,\n",
       "  73537,\n",
       "  73921,\n",
       "  74306,\n",
       "  74692,\n",
       "  75079,\n",
       "  75467,\n",
       "  75856,\n",
       "  76246,\n",
       "  76637,\n",
       "  77029,\n",
       "  77422,\n",
       "  77816,\n",
       "  78211,\n",
       "  78607,\n",
       "  79004,\n",
       "  79402,\n",
       "  79801,\n",
       "  80201,\n",
       "  80602,\n",
       "  81004,\n",
       "  81407,\n",
       "  81811,\n",
       "  82216,\n",
       "  82622,\n",
       "  83029,\n",
       "  83437,\n",
       "  83846,\n",
       "  84256,\n",
       "  84667,\n",
       "  85079,\n",
       "  85492,\n",
       "  85906,\n",
       "  86321,\n",
       "  86737,\n",
       "  87154,\n",
       "  87572,\n",
       "  87991,\n",
       "  88411,\n",
       "  88832,\n",
       "  89254,\n",
       "  89677,\n",
       "  90101,\n",
       "  90526,\n",
       "  90952,\n",
       "  91379,\n",
       "  91807,\n",
       "  92236,\n",
       "  92666,\n",
       "  93097,\n",
       "  93529,\n",
       "  93962,\n",
       "  94396,\n",
       "  94831,\n",
       "  95267,\n",
       "  95704,\n",
       "  96142,\n",
       "  96581,\n",
       "  97021,\n",
       "  97462,\n",
       "  97904,\n",
       "  98347,\n",
       "  98791,\n",
       "  99236,\n",
       "  99682,\n",
       "  100129,\n",
       "  100577,\n",
       "  101026,\n",
       "  101476,\n",
       "  101927,\n",
       "  102379,\n",
       "  102832,\n",
       "  103286,\n",
       "  103741,\n",
       "  104197,\n",
       "  104654,\n",
       "  105112,\n",
       "  105571,\n",
       "  106031,\n",
       "  106492,\n",
       "  106954,\n",
       "  107417,\n",
       "  107881,\n",
       "  108346,\n",
       "  108812,\n",
       "  109279,\n",
       "  109747,\n",
       "  110216,\n",
       "  110686,\n",
       "  111157,\n",
       "  111629,\n",
       "  112102,\n",
       "  112576,\n",
       "  113051,\n",
       "  113527,\n",
       "  114004,\n",
       "  114482,\n",
       "  114961,\n",
       "  115441,\n",
       "  115922,\n",
       "  116404,\n",
       "  116887,\n",
       "  117371,\n",
       "  117856,\n",
       "  118342,\n",
       "  118829,\n",
       "  119317,\n",
       "  119806,\n",
       "  120296,\n",
       "  120787,\n",
       "  121279,\n",
       "  121772,\n",
       "  122266,\n",
       "  122761,\n",
       "  123257,\n",
       "  123754,\n",
       "  124252,\n",
       "  124751,\n",
       "  125251,\n",
       "  125752,\n",
       "  126254,\n",
       "  126757,\n",
       "  127261,\n",
       "  127766,\n",
       "  128272,\n",
       "  128779,\n",
       "  129287,\n",
       "  129796,\n",
       "  130306,\n",
       "  130817,\n",
       "  131329,\n",
       "  131842,\n",
       "  132356,\n",
       "  132871,\n",
       "  133387,\n",
       "  133904,\n",
       "  134422,\n",
       "  134941,\n",
       "  135461,\n",
       "  135982,\n",
       "  136504,\n",
       "  137027,\n",
       "  137551,\n",
       "  138076,\n",
       "  138602,\n",
       "  139129,\n",
       "  139657,\n",
       "  140186,\n",
       "  140716,\n",
       "  141247,\n",
       "  141779,\n",
       "  142312,\n",
       "  142846,\n",
       "  143381,\n",
       "  143917,\n",
       "  144454,\n",
       "  144992,\n",
       "  145531,\n",
       "  146071,\n",
       "  146612,\n",
       "  147154,\n",
       "  147697,\n",
       "  148241,\n",
       "  148786,\n",
       "  149332,\n",
       "  149879,\n",
       "  150427,\n",
       "  150976,\n",
       "  151526,\n",
       "  152077,\n",
       "  152629,\n",
       "  153182,\n",
       "  153736,\n",
       "  154291,\n",
       "  154847,\n",
       "  155404,\n",
       "  155962,\n",
       "  156521,\n",
       "  157081,\n",
       "  157642,\n",
       "  158204,\n",
       "  158767,\n",
       "  159331,\n",
       "  159896,\n",
       "  160462,\n",
       "  161029,\n",
       "  161597,\n",
       "  162166,\n",
       "  162736,\n",
       "  163307,\n",
       "  163879,\n",
       "  164452,\n",
       "  165026,\n",
       "  165601,\n",
       "  166177,\n",
       "  166754,\n",
       "  167332,\n",
       "  167911,\n",
       "  168491,\n",
       "  169072,\n",
       "  169654,\n",
       "  170237,\n",
       "  170821,\n",
       "  171406,\n",
       "  171992,\n",
       "  172579,\n",
       "  173167,\n",
       "  173756,\n",
       "  174346,\n",
       "  174937,\n",
       "  175529,\n",
       "  176122,\n",
       "  176716,\n",
       "  177311,\n",
       "  177907,\n",
       "  178504,\n",
       "  179102,\n",
       "  179701,\n",
       "  180301,\n",
       "  180902,\n",
       "  181504,\n",
       "  182107,\n",
       "  182711,\n",
       "  183316,\n",
       "  183922,\n",
       "  184529,\n",
       "  185137,\n",
       "  185746,\n",
       "  186356,\n",
       "  186967,\n",
       "  187579,\n",
       "  188192,\n",
       "  188806,\n",
       "  189421,\n",
       "  190037,\n",
       "  190654,\n",
       "  191272,\n",
       "  191891,\n",
       "  192511,\n",
       "  193132,\n",
       "  193754,\n",
       "  194377,\n",
       "  195001,\n",
       "  195626,\n",
       "  196252,\n",
       "  196879,\n",
       "  197507,\n",
       "  198136,\n",
       "  198766,\n",
       "  199397,\n",
       "  200029,\n",
       "  200662,\n",
       "  201296,\n",
       "  201931,\n",
       "  202567,\n",
       "  203204,\n",
       "  203842,\n",
       "  204481,\n",
       "  205121,\n",
       "  205762,\n",
       "  206404,\n",
       "  207047,\n",
       "  207691,\n",
       "  208336,\n",
       "  208982,\n",
       "  209629,\n",
       "  210277,\n",
       "  210926,\n",
       "  211576,\n",
       "  212227,\n",
       "  212879,\n",
       "  213532,\n",
       "  214186,\n",
       "  214841,\n",
       "  215497,\n",
       "  216154,\n",
       "  216812,\n",
       "  217471,\n",
       "  218131,\n",
       "  218792,\n",
       "  219454,\n",
       "  220117,\n",
       "  220781,\n",
       "  221446,\n",
       "  222112,\n",
       "  222779,\n",
       "  223447,\n",
       "  224116,\n",
       "  224786,\n",
       "  225457,\n",
       "  226129,\n",
       "  226802,\n",
       "  227476,\n",
       "  228151,\n",
       "  228827,\n",
       "  229504,\n",
       "  230182,\n",
       "  230861,\n",
       "  231541,\n",
       "  232222,\n",
       "  232904,\n",
       "  233587,\n",
       "  234271,\n",
       "  234956,\n",
       "  235642,\n",
       "  236329,\n",
       "  237017,\n",
       "  237706,\n",
       "  238396,\n",
       "  239087,\n",
       "  239779,\n",
       "  240472,\n",
       "  241166,\n",
       "  241861,\n",
       "  242557,\n",
       "  243254,\n",
       "  243952,\n",
       "  244651,\n",
       "  245351,\n",
       "  246052,\n",
       "  246754,\n",
       "  247457,\n",
       "  248161,\n",
       "  248866,\n",
       "  249572,\n",
       "  250279,\n",
       "  250987,\n",
       "  251696,\n",
       "  252406,\n",
       "  253117,\n",
       "  253829,\n",
       "  254542,\n",
       "  255256,\n",
       "  255971,\n",
       "  256687,\n",
       "  257404,\n",
       "  258122,\n",
       "  258841,\n",
       "  259561,\n",
       "  260282,\n",
       "  261004,\n",
       "  261727,\n",
       "  262451,\n",
       "  263176,\n",
       "  263902,\n",
       "  264629,\n",
       "  265357,\n",
       "  266086,\n",
       "  266816,\n",
       "  267547,\n",
       "  268279,\n",
       "  269012,\n",
       "  269746,\n",
       "  270481,\n",
       "  271217,\n",
       "  271954,\n",
       "  272692,\n",
       "  273431,\n",
       "  274171,\n",
       "  274912,\n",
       "  275654,\n",
       "  276397,\n",
       "  277141,\n",
       "  277886,\n",
       "  278632,\n",
       "  279379,\n",
       "  280127,\n",
       "  280876,\n",
       "  281626,\n",
       "  282377,\n",
       "  283129,\n",
       "  283882,\n",
       "  284636,\n",
       "  285391,\n",
       "  286147,\n",
       "  286904,\n",
       "  287662,\n",
       "  288421,\n",
       "  289181,\n",
       "  289942,\n",
       "  290704,\n",
       "  291467,\n",
       "  292231,\n",
       "  292996,\n",
       "  293762,\n",
       "  294529,\n",
       "  295297,\n",
       "  296066,\n",
       "  296836,\n",
       "  297607,\n",
       "  298379,\n",
       "  299152,\n",
       "  299926,\n",
       "  300701,\n",
       "  301477,\n",
       "  302254,\n",
       "  303032,\n",
       "  303811,\n",
       "  304591,\n",
       "  305372,\n",
       "  306154,\n",
       "  306937,\n",
       "  307721,\n",
       "  308506,\n",
       "  309292,\n",
       "  310079,\n",
       "  310867,\n",
       "  311656,\n",
       "  312446,\n",
       "  313237,\n",
       "  314029,\n",
       "  314822,\n",
       "  315616,\n",
       "  316411,\n",
       "  317207,\n",
       "  318004,\n",
       "  318802,\n",
       "  319601,\n",
       "  320401,\n",
       "  321202,\n",
       "  322004,\n",
       "  322807,\n",
       "  323611,\n",
       "  324416,\n",
       "  325222,\n",
       "  326029,\n",
       "  326837,\n",
       "  327646,\n",
       "  328456,\n",
       "  329267,\n",
       "  330079,\n",
       "  330892,\n",
       "  331706,\n",
       "  332521,\n",
       "  333337,\n",
       "  334154,\n",
       "  334972,\n",
       "  335791,\n",
       "  336611,\n",
       "  337432,\n",
       "  338254,\n",
       "  339077,\n",
       "  339901,\n",
       "  340726,\n",
       "  341552,\n",
       "  342379,\n",
       "  343207,\n",
       "  344036,\n",
       "  344866,\n",
       "  345697,\n",
       "  346529,\n",
       "  347362,\n",
       "  348196,\n",
       "  349031,\n",
       "  349867,\n",
       "  350704,\n",
       "  351542,\n",
       "  352381,\n",
       "  353221,\n",
       "  354062,\n",
       "  354904,\n",
       "  355747,\n",
       "  356591,\n",
       "  357436,\n",
       "  358282,\n",
       "  359129,\n",
       "  359977,\n",
       "  360826,\n",
       "  361676,\n",
       "  362527,\n",
       "  363379,\n",
       "  364232,\n",
       "  365086,\n",
       "  365941,\n",
       "  366797,\n",
       "  367654,\n",
       "  368512,\n",
       "  369371,\n",
       "  370231,\n",
       "  371092,\n",
       "  371954,\n",
       "  372817,\n",
       "  373681,\n",
       "  374546,\n",
       "  375412,\n",
       "  376279,\n",
       "  377147,\n",
       "  378016,\n",
       "  378886,\n",
       "  379757,\n",
       "  380629,\n",
       "  381502,\n",
       "  382376,\n",
       "  383251,\n",
       "  384127,\n",
       "  385004,\n",
       "  385882,\n",
       "  386761,\n",
       "  387641,\n",
       "  388522,\n",
       "  389404,\n",
       "  390287,\n",
       "  391171,\n",
       "  392056,\n",
       "  392942,\n",
       "  393829,\n",
       "  394717,\n",
       "  395606,\n",
       "  396496,\n",
       "  397387,\n",
       "  398279,\n",
       "  399172,\n",
       "  400066,\n",
       "  400961,\n",
       "  401857,\n",
       "  402754,\n",
       "  403652,\n",
       "  404551,\n",
       "  405451,\n",
       "  406352,\n",
       "  407254,\n",
       "  408157,\n",
       "  409061,\n",
       "  409966,\n",
       "  410872,\n",
       "  411779,\n",
       "  412687,\n",
       "  413596,\n",
       "  414506,\n",
       "  415417,\n",
       "  416329,\n",
       "  417242,\n",
       "  418156,\n",
       "  419071,\n",
       "  419987,\n",
       "  420904,\n",
       "  421822,\n",
       "  422741,\n",
       "  423661,\n",
       "  424582,\n",
       "  425504,\n",
       "  426427,\n",
       "  427351,\n",
       "  428276,\n",
       "  429202,\n",
       "  430129,\n",
       "  431057,\n",
       "  431986,\n",
       "  432916,\n",
       "  433847,\n",
       "  434779,\n",
       "  435712,\n",
       "  436646,\n",
       "  437581,\n",
       "  438517,\n",
       "  439454,\n",
       "  440392,\n",
       "  441331,\n",
       "  442271,\n",
       "  443212,\n",
       "  444154,\n",
       "  445097,\n",
       "  446041,\n",
       "  446986,\n",
       "  447932,\n",
       "  448879,\n",
       "  449827,\n",
       "  450776,\n",
       "  451726,\n",
       "  452677,\n",
       "  453629,\n",
       "  454582,\n",
       "  455536,\n",
       "  456491,\n",
       "  457447,\n",
       "  458404,\n",
       "  459362,\n",
       "  460321,\n",
       "  461281,\n",
       "  462242,\n",
       "  463204,\n",
       "  464167,\n",
       "  465131,\n",
       "  466096,\n",
       "  467062,\n",
       "  468029,\n",
       "  468997,\n",
       "  469966,\n",
       "  470936,\n",
       "  471907,\n",
       "  472879,\n",
       "  473852,\n",
       "  474826,\n",
       "  475801,\n",
       "  476777,\n",
       "  477754,\n",
       "  478732,\n",
       "  479711,\n",
       "  480691,\n",
       "  481672,\n",
       "  482654,\n",
       "  483637,\n",
       "  484621,\n",
       "  485606,\n",
       "  486592,\n",
       "  487579,\n",
       "  488567,\n",
       "  489556,\n",
       "  490546,\n",
       "  491537,\n",
       "  492529,\n",
       "  493522,\n",
       "  494516,\n",
       "  495511,\n",
       "  496507,\n",
       "  497504,\n",
       "  498502,\n",
       "  499501),)"
      ]
     },
     "execution_count": 35,
     "metadata": {},
     "output_type": "execute_result"
    }
   ],
   "source": [
    "(tuple(col),)"
   ]
  },
  {
   "cell_type": "code",
   "execution_count": 23,
   "metadata": {},
   "outputs": [
    {
     "data": {
      "text/plain": [
       "((1,\n",
       "  2,\n",
       "  4,\n",
       "  7,\n",
       "  11,\n",
       "  16,\n",
       "  22,\n",
       "  29,\n",
       "  37,\n",
       "  46,\n",
       "  56,\n",
       "  67,\n",
       "  79,\n",
       "  92,\n",
       "  106,\n",
       "  121,\n",
       "  137,\n",
       "  154,\n",
       "  172,\n",
       "  191,\n",
       "  211,\n",
       "  232,\n",
       "  254,\n",
       "  277,\n",
       "  301,\n",
       "  326,\n",
       "  352,\n",
       "  379,\n",
       "  407,\n",
       "  436,\n",
       "  466,\n",
       "  497,\n",
       "  529,\n",
       "  562,\n",
       "  596,\n",
       "  631,\n",
       "  667,\n",
       "  704,\n",
       "  742,\n",
       "  781,\n",
       "  821,\n",
       "  862,\n",
       "  904,\n",
       "  947,\n",
       "  991,\n",
       "  1036,\n",
       "  1082,\n",
       "  1129,\n",
       "  1177,\n",
       "  1226,\n",
       "  1276,\n",
       "  1327,\n",
       "  1379,\n",
       "  1432,\n",
       "  1486,\n",
       "  1541,\n",
       "  1597,\n",
       "  1654,\n",
       "  1712,\n",
       "  1771,\n",
       "  1831,\n",
       "  1892,\n",
       "  1954,\n",
       "  2017,\n",
       "  2081,\n",
       "  2146,\n",
       "  2212,\n",
       "  2279,\n",
       "  2347,\n",
       "  2416,\n",
       "  2486,\n",
       "  2557,\n",
       "  2629,\n",
       "  2702,\n",
       "  2776,\n",
       "  2851,\n",
       "  2927,\n",
       "  3004,\n",
       "  3082,\n",
       "  3161,\n",
       "  3241,\n",
       "  3322,\n",
       "  3404,\n",
       "  3487,\n",
       "  3571,\n",
       "  3656,\n",
       "  3742,\n",
       "  3829,\n",
       "  3917,\n",
       "  4006,\n",
       "  4096,\n",
       "  4187,\n",
       "  4279,\n",
       "  4372,\n",
       "  4466,\n",
       "  4561,\n",
       "  4657,\n",
       "  4754,\n",
       "  4852,\n",
       "  4951,\n",
       "  5051,\n",
       "  5152,\n",
       "  5254,\n",
       "  5357,\n",
       "  5461,\n",
       "  5566,\n",
       "  5672,\n",
       "  5779,\n",
       "  5887,\n",
       "  5996,\n",
       "  6106,\n",
       "  6217,\n",
       "  6329,\n",
       "  6442,\n",
       "  6556,\n",
       "  6671,\n",
       "  6787,\n",
       "  6904,\n",
       "  7022,\n",
       "  7141,\n",
       "  7261,\n",
       "  7382,\n",
       "  7504,\n",
       "  7627,\n",
       "  7751,\n",
       "  7876,\n",
       "  8002,\n",
       "  8129,\n",
       "  8257,\n",
       "  8386,\n",
       "  8516,\n",
       "  8647,\n",
       "  8779,\n",
       "  8912,\n",
       "  9046,\n",
       "  9181,\n",
       "  9317,\n",
       "  9454,\n",
       "  9592,\n",
       "  9731,\n",
       "  9871,\n",
       "  10012,\n",
       "  10154,\n",
       "  10297,\n",
       "  10441,\n",
       "  10586,\n",
       "  10732,\n",
       "  10879,\n",
       "  11027,\n",
       "  11176,\n",
       "  11326,\n",
       "  11477,\n",
       "  11629,\n",
       "  11782,\n",
       "  11936,\n",
       "  12091,\n",
       "  12247,\n",
       "  12404,\n",
       "  12562,\n",
       "  12721,\n",
       "  12881,\n",
       "  13042,\n",
       "  13204,\n",
       "  13367,\n",
       "  13531,\n",
       "  13696,\n",
       "  13862,\n",
       "  14029,\n",
       "  14197,\n",
       "  14366,\n",
       "  14536,\n",
       "  14707,\n",
       "  14879,\n",
       "  15052,\n",
       "  15226,\n",
       "  15401,\n",
       "  15577,\n",
       "  15754,\n",
       "  15932,\n",
       "  16111,\n",
       "  16291,\n",
       "  16472,\n",
       "  16654,\n",
       "  16837,\n",
       "  17021,\n",
       "  17206,\n",
       "  17392,\n",
       "  17579,\n",
       "  17767,\n",
       "  17956,\n",
       "  18146,\n",
       "  18337,\n",
       "  18529,\n",
       "  18722,\n",
       "  18916,\n",
       "  19111,\n",
       "  19307,\n",
       "  19504,\n",
       "  19702,\n",
       "  19901,\n",
       "  20101,\n",
       "  20302,\n",
       "  20504,\n",
       "  20707,\n",
       "  20911,\n",
       "  21116,\n",
       "  21322,\n",
       "  21529,\n",
       "  21737,\n",
       "  21946,\n",
       "  22156,\n",
       "  22367,\n",
       "  22579,\n",
       "  22792,\n",
       "  23006,\n",
       "  23221,\n",
       "  23437,\n",
       "  23654,\n",
       "  23872,\n",
       "  24091,\n",
       "  24311,\n",
       "  24532,\n",
       "  24754,\n",
       "  24977,\n",
       "  25201,\n",
       "  25426,\n",
       "  25652,\n",
       "  25879,\n",
       "  26107,\n",
       "  26336,\n",
       "  26566,\n",
       "  26797,\n",
       "  27029,\n",
       "  27262,\n",
       "  27496,\n",
       "  27731,\n",
       "  27967,\n",
       "  28204,\n",
       "  28442,\n",
       "  28681,\n",
       "  28921,\n",
       "  29162,\n",
       "  29404,\n",
       "  29647,\n",
       "  29891,\n",
       "  30136,\n",
       "  30382,\n",
       "  30629,\n",
       "  30877,\n",
       "  31126,\n",
       "  31376,\n",
       "  31627,\n",
       "  31879,\n",
       "  32132,\n",
       "  32386,\n",
       "  32641,\n",
       "  32897,\n",
       "  33154,\n",
       "  33412,\n",
       "  33671,\n",
       "  33931,\n",
       "  34192,\n",
       "  34454,\n",
       "  34717,\n",
       "  34981,\n",
       "  35246,\n",
       "  35512,\n",
       "  35779,\n",
       "  36047,\n",
       "  36316,\n",
       "  36586,\n",
       "  36857,\n",
       "  37129,\n",
       "  37402,\n",
       "  37676,\n",
       "  37951,\n",
       "  38227,\n",
       "  38504,\n",
       "  38782,\n",
       "  39061,\n",
       "  39341,\n",
       "  39622,\n",
       "  39904,\n",
       "  40187,\n",
       "  40471,\n",
       "  40756,\n",
       "  41042,\n",
       "  41329,\n",
       "  41617,\n",
       "  41906,\n",
       "  42196,\n",
       "  42487,\n",
       "  42779,\n",
       "  43072,\n",
       "  43366,\n",
       "  43661,\n",
       "  43957,\n",
       "  44254,\n",
       "  44552,\n",
       "  44851,\n",
       "  45151,\n",
       "  45452,\n",
       "  45754,\n",
       "  46057,\n",
       "  46361,\n",
       "  46666,\n",
       "  46972,\n",
       "  47279,\n",
       "  47587,\n",
       "  47896,\n",
       "  48206,\n",
       "  48517,\n",
       "  48829,\n",
       "  49142,\n",
       "  49456,\n",
       "  49771,\n",
       "  50087,\n",
       "  50404,\n",
       "  50722,\n",
       "  51041,\n",
       "  51361,\n",
       "  51682,\n",
       "  52004,\n",
       "  52327,\n",
       "  52651,\n",
       "  52976,\n",
       "  53302,\n",
       "  53629,\n",
       "  53957,\n",
       "  54286,\n",
       "  54616,\n",
       "  54947,\n",
       "  55279,\n",
       "  55612,\n",
       "  55946,\n",
       "  56281,\n",
       "  56617,\n",
       "  56954,\n",
       "  57292,\n",
       "  57631,\n",
       "  57971,\n",
       "  58312,\n",
       "  58654,\n",
       "  58997,\n",
       "  59341,\n",
       "  59686,\n",
       "  60032,\n",
       "  60379,\n",
       "  60727,\n",
       "  61076,\n",
       "  61426,\n",
       "  61777,\n",
       "  62129,\n",
       "  62482,\n",
       "  62836,\n",
       "  63191,\n",
       "  63547,\n",
       "  63904,\n",
       "  64262,\n",
       "  64621,\n",
       "  64981,\n",
       "  65342,\n",
       "  65704,\n",
       "  66067,\n",
       "  66431,\n",
       "  66796,\n",
       "  67162,\n",
       "  67529,\n",
       "  67897,\n",
       "  68266,\n",
       "  68636,\n",
       "  69007,\n",
       "  69379,\n",
       "  69752,\n",
       "  70126,\n",
       "  70501,\n",
       "  70877,\n",
       "  71254,\n",
       "  71632,\n",
       "  72011,\n",
       "  72391,\n",
       "  72772,\n",
       "  73154,\n",
       "  73537,\n",
       "  73921,\n",
       "  74306,\n",
       "  74692,\n",
       "  75079,\n",
       "  75467,\n",
       "  75856,\n",
       "  76246,\n",
       "  76637,\n",
       "  77029,\n",
       "  77422,\n",
       "  77816,\n",
       "  78211,\n",
       "  78607,\n",
       "  79004,\n",
       "  79402,\n",
       "  79801,\n",
       "  80201,\n",
       "  80602,\n",
       "  81004,\n",
       "  81407,\n",
       "  81811,\n",
       "  82216,\n",
       "  82622,\n",
       "  83029,\n",
       "  83437,\n",
       "  83846,\n",
       "  84256,\n",
       "  84667,\n",
       "  85079,\n",
       "  85492,\n",
       "  85906,\n",
       "  86321,\n",
       "  86737,\n",
       "  87154,\n",
       "  87572,\n",
       "  87991,\n",
       "  88411,\n",
       "  88832,\n",
       "  89254,\n",
       "  89677,\n",
       "  90101,\n",
       "  90526,\n",
       "  90952,\n",
       "  91379,\n",
       "  91807,\n",
       "  92236,\n",
       "  92666,\n",
       "  93097,\n",
       "  93529,\n",
       "  93962,\n",
       "  94396,\n",
       "  94831,\n",
       "  95267,\n",
       "  95704,\n",
       "  96142,\n",
       "  96581,\n",
       "  97021,\n",
       "  97462,\n",
       "  97904,\n",
       "  98347,\n",
       "  98791,\n",
       "  99236,\n",
       "  99682,\n",
       "  100129,\n",
       "  100577,\n",
       "  101026,\n",
       "  101476,\n",
       "  101927,\n",
       "  102379,\n",
       "  102832,\n",
       "  103286,\n",
       "  103741,\n",
       "  104197,\n",
       "  104654,\n",
       "  105112,\n",
       "  105571,\n",
       "  106031,\n",
       "  106492,\n",
       "  106954,\n",
       "  107417,\n",
       "  107881,\n",
       "  108346,\n",
       "  108812,\n",
       "  109279,\n",
       "  109747,\n",
       "  110216,\n",
       "  110686,\n",
       "  111157,\n",
       "  111629,\n",
       "  112102,\n",
       "  112576,\n",
       "  113051,\n",
       "  113527,\n",
       "  114004,\n",
       "  114482,\n",
       "  114961,\n",
       "  115441,\n",
       "  115922,\n",
       "  116404,\n",
       "  116887,\n",
       "  117371,\n",
       "  117856,\n",
       "  118342,\n",
       "  118829,\n",
       "  119317,\n",
       "  119806,\n",
       "  120296,\n",
       "  120787,\n",
       "  121279,\n",
       "  121772,\n",
       "  122266,\n",
       "  122761,\n",
       "  123257,\n",
       "  123754,\n",
       "  124252,\n",
       "  124751,\n",
       "  125251,\n",
       "  125752,\n",
       "  126254,\n",
       "  126757,\n",
       "  127261,\n",
       "  127766,\n",
       "  128272,\n",
       "  128779,\n",
       "  129287,\n",
       "  129796,\n",
       "  130306,\n",
       "  130817,\n",
       "  131329,\n",
       "  131842,\n",
       "  132356,\n",
       "  132871,\n",
       "  133387,\n",
       "  133904,\n",
       "  134422,\n",
       "  134941,\n",
       "  135461,\n",
       "  135982,\n",
       "  136504,\n",
       "  137027,\n",
       "  137551,\n",
       "  138076,\n",
       "  138602,\n",
       "  139129,\n",
       "  139657,\n",
       "  140186,\n",
       "  140716,\n",
       "  141247,\n",
       "  141779,\n",
       "  142312,\n",
       "  142846,\n",
       "  143381,\n",
       "  143917,\n",
       "  144454,\n",
       "  144992,\n",
       "  145531,\n",
       "  146071,\n",
       "  146612,\n",
       "  147154,\n",
       "  147697,\n",
       "  148241,\n",
       "  148786,\n",
       "  149332,\n",
       "  149879,\n",
       "  150427,\n",
       "  150976,\n",
       "  151526,\n",
       "  152077,\n",
       "  152629,\n",
       "  153182,\n",
       "  153736,\n",
       "  154291,\n",
       "  154847,\n",
       "  155404,\n",
       "  155962,\n",
       "  156521,\n",
       "  157081,\n",
       "  157642,\n",
       "  158204,\n",
       "  158767,\n",
       "  159331,\n",
       "  159896,\n",
       "  160462,\n",
       "  161029,\n",
       "  161597,\n",
       "  162166,\n",
       "  162736,\n",
       "  163307,\n",
       "  163879,\n",
       "  164452,\n",
       "  165026,\n",
       "  165601,\n",
       "  166177,\n",
       "  166754,\n",
       "  167332,\n",
       "  167911,\n",
       "  168491,\n",
       "  169072,\n",
       "  169654,\n",
       "  170237,\n",
       "  170821,\n",
       "  171406,\n",
       "  171992,\n",
       "  172579,\n",
       "  173167,\n",
       "  173756,\n",
       "  174346,\n",
       "  174937,\n",
       "  175529,\n",
       "  176122,\n",
       "  176716,\n",
       "  177311,\n",
       "  177907,\n",
       "  178504,\n",
       "  179102,\n",
       "  179701,\n",
       "  180301,\n",
       "  180902,\n",
       "  181504,\n",
       "  182107,\n",
       "  182711,\n",
       "  183316,\n",
       "  183922,\n",
       "  184529,\n",
       "  185137,\n",
       "  185746,\n",
       "  186356,\n",
       "  186967,\n",
       "  187579,\n",
       "  188192,\n",
       "  188806,\n",
       "  189421,\n",
       "  190037,\n",
       "  190654,\n",
       "  191272,\n",
       "  191891,\n",
       "  192511,\n",
       "  193132,\n",
       "  193754,\n",
       "  194377,\n",
       "  195001,\n",
       "  195626,\n",
       "  196252,\n",
       "  196879,\n",
       "  197507,\n",
       "  198136,\n",
       "  198766,\n",
       "  199397,\n",
       "  200029,\n",
       "  200662,\n",
       "  201296,\n",
       "  201931,\n",
       "  202567,\n",
       "  203204,\n",
       "  203842,\n",
       "  204481,\n",
       "  205121,\n",
       "  205762,\n",
       "  206404,\n",
       "  207047,\n",
       "  207691,\n",
       "  208336,\n",
       "  208982,\n",
       "  209629,\n",
       "  210277,\n",
       "  210926,\n",
       "  211576,\n",
       "  212227,\n",
       "  212879,\n",
       "  213532,\n",
       "  214186,\n",
       "  214841,\n",
       "  215497,\n",
       "  216154,\n",
       "  216812,\n",
       "  217471,\n",
       "  218131,\n",
       "  218792,\n",
       "  219454,\n",
       "  220117,\n",
       "  220781,\n",
       "  221446,\n",
       "  222112,\n",
       "  222779,\n",
       "  223447,\n",
       "  224116,\n",
       "  224786,\n",
       "  225457,\n",
       "  226129,\n",
       "  226802,\n",
       "  227476,\n",
       "  228151,\n",
       "  228827,\n",
       "  229504,\n",
       "  230182,\n",
       "  230861,\n",
       "  231541,\n",
       "  232222,\n",
       "  232904,\n",
       "  233587,\n",
       "  234271,\n",
       "  234956,\n",
       "  235642,\n",
       "  236329,\n",
       "  237017,\n",
       "  237706,\n",
       "  238396,\n",
       "  239087,\n",
       "  239779,\n",
       "  240472,\n",
       "  241166,\n",
       "  241861,\n",
       "  242557,\n",
       "  243254,\n",
       "  243952,\n",
       "  244651,\n",
       "  245351,\n",
       "  246052,\n",
       "  246754,\n",
       "  247457,\n",
       "  248161,\n",
       "  248866,\n",
       "  249572,\n",
       "  250279,\n",
       "  250987,\n",
       "  251696,\n",
       "  252406,\n",
       "  253117,\n",
       "  253829,\n",
       "  254542,\n",
       "  255256,\n",
       "  255971,\n",
       "  256687,\n",
       "  257404,\n",
       "  258122,\n",
       "  258841,\n",
       "  259561,\n",
       "  260282,\n",
       "  261004,\n",
       "  261727,\n",
       "  262451,\n",
       "  263176,\n",
       "  263902,\n",
       "  264629,\n",
       "  265357,\n",
       "  266086,\n",
       "  266816,\n",
       "  267547,\n",
       "  268279,\n",
       "  269012,\n",
       "  269746,\n",
       "  270481,\n",
       "  271217,\n",
       "  271954,\n",
       "  272692,\n",
       "  273431,\n",
       "  274171,\n",
       "  274912,\n",
       "  275654,\n",
       "  276397,\n",
       "  277141,\n",
       "  277886,\n",
       "  278632,\n",
       "  279379,\n",
       "  280127,\n",
       "  280876,\n",
       "  281626,\n",
       "  282377,\n",
       "  283129,\n",
       "  283882,\n",
       "  284636,\n",
       "  285391,\n",
       "  286147,\n",
       "  286904,\n",
       "  287662,\n",
       "  288421,\n",
       "  289181,\n",
       "  289942,\n",
       "  290704,\n",
       "  291467,\n",
       "  292231,\n",
       "  292996,\n",
       "  293762,\n",
       "  294529,\n",
       "  295297,\n",
       "  296066,\n",
       "  296836,\n",
       "  297607,\n",
       "  298379,\n",
       "  299152,\n",
       "  299926,\n",
       "  300701,\n",
       "  301477,\n",
       "  302254,\n",
       "  303032,\n",
       "  303811,\n",
       "  304591,\n",
       "  305372,\n",
       "  306154,\n",
       "  306937,\n",
       "  307721,\n",
       "  308506,\n",
       "  309292,\n",
       "  310079,\n",
       "  310867,\n",
       "  311656,\n",
       "  312446,\n",
       "  313237,\n",
       "  314029,\n",
       "  314822,\n",
       "  315616,\n",
       "  316411,\n",
       "  317207,\n",
       "  318004,\n",
       "  318802,\n",
       "  319601,\n",
       "  320401,\n",
       "  321202,\n",
       "  322004,\n",
       "  322807,\n",
       "  323611,\n",
       "  324416,\n",
       "  325222,\n",
       "  326029,\n",
       "  326837,\n",
       "  327646,\n",
       "  328456,\n",
       "  329267,\n",
       "  330079,\n",
       "  330892,\n",
       "  331706,\n",
       "  332521,\n",
       "  333337,\n",
       "  334154,\n",
       "  334972,\n",
       "  335791,\n",
       "  336611,\n",
       "  337432,\n",
       "  338254,\n",
       "  339077,\n",
       "  339901,\n",
       "  340726,\n",
       "  341552,\n",
       "  342379,\n",
       "  343207,\n",
       "  344036,\n",
       "  344866,\n",
       "  345697,\n",
       "  346529,\n",
       "  347362,\n",
       "  348196,\n",
       "  349031,\n",
       "  349867,\n",
       "  350704,\n",
       "  351542,\n",
       "  352381,\n",
       "  353221,\n",
       "  354062,\n",
       "  354904,\n",
       "  355747,\n",
       "  356591,\n",
       "  357436,\n",
       "  358282,\n",
       "  359129,\n",
       "  359977,\n",
       "  360826,\n",
       "  361676,\n",
       "  362527,\n",
       "  363379,\n",
       "  364232,\n",
       "  365086,\n",
       "  365941,\n",
       "  366797,\n",
       "  367654,\n",
       "  368512,\n",
       "  369371,\n",
       "  370231,\n",
       "  371092,\n",
       "  371954,\n",
       "  372817,\n",
       "  373681,\n",
       "  374546,\n",
       "  375412,\n",
       "  376279,\n",
       "  377147,\n",
       "  378016,\n",
       "  378886,\n",
       "  379757,\n",
       "  380629,\n",
       "  381502,\n",
       "  382376,\n",
       "  383251,\n",
       "  384127,\n",
       "  385004,\n",
       "  385882,\n",
       "  386761,\n",
       "  387641,\n",
       "  388522,\n",
       "  389404,\n",
       "  390287,\n",
       "  391171,\n",
       "  392056,\n",
       "  392942,\n",
       "  393829,\n",
       "  394717,\n",
       "  395606,\n",
       "  396496,\n",
       "  397387,\n",
       "  398279,\n",
       "  399172,\n",
       "  400066,\n",
       "  400961,\n",
       "  401857,\n",
       "  402754,\n",
       "  403652,\n",
       "  404551,\n",
       "  405451,\n",
       "  406352,\n",
       "  407254,\n",
       "  408157,\n",
       "  409061,\n",
       "  409966,\n",
       "  410872,\n",
       "  411779,\n",
       "  412687,\n",
       "  413596,\n",
       "  414506,\n",
       "  415417,\n",
       "  416329,\n",
       "  417242,\n",
       "  418156,\n",
       "  419071,\n",
       "  419987,\n",
       "  420904,\n",
       "  421822,\n",
       "  422741,\n",
       "  423661,\n",
       "  424582,\n",
       "  425504,\n",
       "  426427,\n",
       "  427351,\n",
       "  428276,\n",
       "  429202,\n",
       "  430129,\n",
       "  431057,\n",
       "  431986,\n",
       "  432916,\n",
       "  433847,\n",
       "  434779,\n",
       "  435712,\n",
       "  436646,\n",
       "  437581,\n",
       "  438517,\n",
       "  439454,\n",
       "  440392,\n",
       "  441331,\n",
       "  442271,\n",
       "  443212,\n",
       "  444154,\n",
       "  445097,\n",
       "  446041,\n",
       "  446986,\n",
       "  447932,\n",
       "  448879,\n",
       "  449827,\n",
       "  450776,\n",
       "  451726,\n",
       "  452677,\n",
       "  453629,\n",
       "  454582,\n",
       "  455536,\n",
       "  456491,\n",
       "  457447,\n",
       "  458404,\n",
       "  459362,\n",
       "  460321,\n",
       "  461281,\n",
       "  462242,\n",
       "  463204,\n",
       "  464167,\n",
       "  465131,\n",
       "  466096,\n",
       "  467062,\n",
       "  468029,\n",
       "  468997,\n",
       "  469966,\n",
       "  470936,\n",
       "  471907,\n",
       "  472879,\n",
       "  473852,\n",
       "  474826,\n",
       "  475801,\n",
       "  476777,\n",
       "  477754,\n",
       "  478732,\n",
       "  479711,\n",
       "  480691,\n",
       "  481672,\n",
       "  482654,\n",
       "  483637,\n",
       "  484621,\n",
       "  485606,\n",
       "  486592,\n",
       "  487579,\n",
       "  488567,\n",
       "  489556,\n",
       "  490546,\n",
       "  491537,\n",
       "  492529,\n",
       "  493522,\n",
       "  494516,\n",
       "  495511,\n",
       "  496507,\n",
       "  497504,\n",
       "  498502,\n",
       "  499501,\n",
       "  ...),\n",
       " (1,\n",
       "  2,\n",
       "  4,\n",
       "  7,\n",
       "  11,\n",
       "  16,\n",
       "  22,\n",
       "  29,\n",
       "  37,\n",
       "  46,\n",
       "  56,\n",
       "  67,\n",
       "  79,\n",
       "  92,\n",
       "  106,\n",
       "  121,\n",
       "  137,\n",
       "  154,\n",
       "  172,\n",
       "  191,\n",
       "  211,\n",
       "  232,\n",
       "  254,\n",
       "  277,\n",
       "  301,\n",
       "  326,\n",
       "  352,\n",
       "  379,\n",
       "  407,\n",
       "  436,\n",
       "  466,\n",
       "  497,\n",
       "  529,\n",
       "  562,\n",
       "  596,\n",
       "  631,\n",
       "  667,\n",
       "  704,\n",
       "  742,\n",
       "  781,\n",
       "  821,\n",
       "  862,\n",
       "  904,\n",
       "  947,\n",
       "  991,\n",
       "  1036,\n",
       "  1082,\n",
       "  1129,\n",
       "  1177,\n",
       "  1226,\n",
       "  1276,\n",
       "  1327,\n",
       "  1379,\n",
       "  1432,\n",
       "  1486,\n",
       "  1541,\n",
       "  1597,\n",
       "  1654,\n",
       "  1712,\n",
       "  1771,\n",
       "  1831,\n",
       "  1892,\n",
       "  1954,\n",
       "  2017,\n",
       "  2081,\n",
       "  2146,\n",
       "  2212,\n",
       "  2279,\n",
       "  2347,\n",
       "  2416,\n",
       "  2486,\n",
       "  2557,\n",
       "  2629,\n",
       "  2702,\n",
       "  2776,\n",
       "  2851,\n",
       "  2927,\n",
       "  3004,\n",
       "  3082,\n",
       "  3161,\n",
       "  3241,\n",
       "  3322,\n",
       "  3404,\n",
       "  3487,\n",
       "  3571,\n",
       "  3656,\n",
       "  3742,\n",
       "  3829,\n",
       "  3917,\n",
       "  4006,\n",
       "  4096,\n",
       "  4187,\n",
       "  4279,\n",
       "  4372,\n",
       "  4466,\n",
       "  4561,\n",
       "  4657,\n",
       "  4754,\n",
       "  4852,\n",
       "  4951,\n",
       "  5051,\n",
       "  5152,\n",
       "  5254,\n",
       "  5357,\n",
       "  5461,\n",
       "  5566,\n",
       "  5672,\n",
       "  5779,\n",
       "  5887,\n",
       "  5996,\n",
       "  6106,\n",
       "  6217,\n",
       "  6329,\n",
       "  6442,\n",
       "  6556,\n",
       "  6671,\n",
       "  6787,\n",
       "  6904,\n",
       "  7022,\n",
       "  7141,\n",
       "  7261,\n",
       "  7382,\n",
       "  7504,\n",
       "  7627,\n",
       "  7751,\n",
       "  7876,\n",
       "  8002,\n",
       "  8129,\n",
       "  8257,\n",
       "  8386,\n",
       "  8516,\n",
       "  8647,\n",
       "  8779,\n",
       "  8912,\n",
       "  9046,\n",
       "  9181,\n",
       "  9317,\n",
       "  9454,\n",
       "  9592,\n",
       "  9731,\n",
       "  9871,\n",
       "  10012,\n",
       "  10154,\n",
       "  10297,\n",
       "  10441,\n",
       "  10586,\n",
       "  10732,\n",
       "  10879,\n",
       "  11027,\n",
       "  11176,\n",
       "  11326,\n",
       "  11477,\n",
       "  11629,\n",
       "  11782,\n",
       "  11936,\n",
       "  12091,\n",
       "  12247,\n",
       "  12404,\n",
       "  12562,\n",
       "  12721,\n",
       "  12881,\n",
       "  13042,\n",
       "  13204,\n",
       "  13367,\n",
       "  13531,\n",
       "  13696,\n",
       "  13862,\n",
       "  14029,\n",
       "  14197,\n",
       "  14366,\n",
       "  14536,\n",
       "  14707,\n",
       "  14879,\n",
       "  15052,\n",
       "  15226,\n",
       "  15401,\n",
       "  15577,\n",
       "  15754,\n",
       "  15932,\n",
       "  16111,\n",
       "  16291,\n",
       "  16472,\n",
       "  16654,\n",
       "  16837,\n",
       "  17021,\n",
       "  17206,\n",
       "  17392,\n",
       "  17579,\n",
       "  17767,\n",
       "  17956,\n",
       "  18146,\n",
       "  18337,\n",
       "  18529,\n",
       "  18722,\n",
       "  18916,\n",
       "  19111,\n",
       "  19307,\n",
       "  19504,\n",
       "  19702,\n",
       "  19901,\n",
       "  20101,\n",
       "  20302,\n",
       "  20504,\n",
       "  20707,\n",
       "  20911,\n",
       "  21116,\n",
       "  21322,\n",
       "  21529,\n",
       "  21737,\n",
       "  21946,\n",
       "  22156,\n",
       "  22367,\n",
       "  22579,\n",
       "  22792,\n",
       "  23006,\n",
       "  23221,\n",
       "  23437,\n",
       "  23654,\n",
       "  23872,\n",
       "  24091,\n",
       "  24311,\n",
       "  24532,\n",
       "  24754,\n",
       "  24977,\n",
       "  25201,\n",
       "  25426,\n",
       "  25652,\n",
       "  25879,\n",
       "  26107,\n",
       "  26336,\n",
       "  26566,\n",
       "  26797,\n",
       "  27029,\n",
       "  27262,\n",
       "  27496,\n",
       "  27731,\n",
       "  27967,\n",
       "  28204,\n",
       "  28442,\n",
       "  28681,\n",
       "  28921,\n",
       "  29162,\n",
       "  29404,\n",
       "  29647,\n",
       "  29891,\n",
       "  30136,\n",
       "  30382,\n",
       "  30629,\n",
       "  30877,\n",
       "  31126,\n",
       "  31376,\n",
       "  31627,\n",
       "  31879,\n",
       "  32132,\n",
       "  32386,\n",
       "  32641,\n",
       "  32897,\n",
       "  33154,\n",
       "  33412,\n",
       "  33671,\n",
       "  33931,\n",
       "  34192,\n",
       "  34454,\n",
       "  34717,\n",
       "  34981,\n",
       "  35246,\n",
       "  35512,\n",
       "  35779,\n",
       "  36047,\n",
       "  36316,\n",
       "  36586,\n",
       "  36857,\n",
       "  37129,\n",
       "  37402,\n",
       "  37676,\n",
       "  37951,\n",
       "  38227,\n",
       "  38504,\n",
       "  38782,\n",
       "  39061,\n",
       "  39341,\n",
       "  39622,\n",
       "  39904,\n",
       "  40187,\n",
       "  40471,\n",
       "  40756,\n",
       "  41042,\n",
       "  41329,\n",
       "  41617,\n",
       "  41906,\n",
       "  42196,\n",
       "  42487,\n",
       "  42779,\n",
       "  43072,\n",
       "  43366,\n",
       "  43661,\n",
       "  43957,\n",
       "  44254,\n",
       "  44552,\n",
       "  44851,\n",
       "  45151,\n",
       "  45452,\n",
       "  45754,\n",
       "  46057,\n",
       "  46361,\n",
       "  46666,\n",
       "  46972,\n",
       "  47279,\n",
       "  47587,\n",
       "  47896,\n",
       "  48206,\n",
       "  48517,\n",
       "  48829,\n",
       "  49142,\n",
       "  49456,\n",
       "  49771,\n",
       "  50087,\n",
       "  50404,\n",
       "  50722,\n",
       "  51041,\n",
       "  51361,\n",
       "  51682,\n",
       "  52004,\n",
       "  52327,\n",
       "  52651,\n",
       "  52976,\n",
       "  53302,\n",
       "  53629,\n",
       "  53957,\n",
       "  54286,\n",
       "  54616,\n",
       "  54947,\n",
       "  55279,\n",
       "  55612,\n",
       "  55946,\n",
       "  56281,\n",
       "  56617,\n",
       "  56954,\n",
       "  57292,\n",
       "  57631,\n",
       "  57971,\n",
       "  58312,\n",
       "  58654,\n",
       "  58997,\n",
       "  59341,\n",
       "  59686,\n",
       "  60032,\n",
       "  60379,\n",
       "  60727,\n",
       "  61076,\n",
       "  61426,\n",
       "  61777,\n",
       "  62129,\n",
       "  62482,\n",
       "  62836,\n",
       "  63191,\n",
       "  63547,\n",
       "  63904,\n",
       "  64262,\n",
       "  64621,\n",
       "  64981,\n",
       "  65342,\n",
       "  65704,\n",
       "  66067,\n",
       "  66431,\n",
       "  66796,\n",
       "  67162,\n",
       "  67529,\n",
       "  67897,\n",
       "  68266,\n",
       "  68636,\n",
       "  69007,\n",
       "  69379,\n",
       "  69752,\n",
       "  70126,\n",
       "  70501,\n",
       "  70877,\n",
       "  71254,\n",
       "  71632,\n",
       "  72011,\n",
       "  72391,\n",
       "  72772,\n",
       "  73154,\n",
       "  73537,\n",
       "  73921,\n",
       "  74306,\n",
       "  74692,\n",
       "  75079,\n",
       "  75467,\n",
       "  75856,\n",
       "  76246,\n",
       "  76637,\n",
       "  77029,\n",
       "  77422,\n",
       "  77816,\n",
       "  78211,\n",
       "  78607,\n",
       "  79004,\n",
       "  79402,\n",
       "  79801,\n",
       "  80201,\n",
       "  80602,\n",
       "  81004,\n",
       "  81407,\n",
       "  81811,\n",
       "  82216,\n",
       "  82622,\n",
       "  83029,\n",
       "  83437,\n",
       "  83846,\n",
       "  84256,\n",
       "  84667,\n",
       "  85079,\n",
       "  85492,\n",
       "  85906,\n",
       "  86321,\n",
       "  86737,\n",
       "  87154,\n",
       "  87572,\n",
       "  87991,\n",
       "  88411,\n",
       "  88832,\n",
       "  89254,\n",
       "  89677,\n",
       "  90101,\n",
       "  90526,\n",
       "  90952,\n",
       "  91379,\n",
       "  91807,\n",
       "  92236,\n",
       "  92666,\n",
       "  93097,\n",
       "  93529,\n",
       "  93962,\n",
       "  94396,\n",
       "  94831,\n",
       "  95267,\n",
       "  95704,\n",
       "  96142,\n",
       "  96581,\n",
       "  97021,\n",
       "  97462,\n",
       "  97904,\n",
       "  98347,\n",
       "  98791,\n",
       "  99236,\n",
       "  99682,\n",
       "  100129,\n",
       "  100577,\n",
       "  101026,\n",
       "  101476,\n",
       "  101927,\n",
       "  102379,\n",
       "  102832,\n",
       "  103286,\n",
       "  103741,\n",
       "  104197,\n",
       "  104654,\n",
       "  105112,\n",
       "  105571,\n",
       "  106031,\n",
       "  106492,\n",
       "  106954,\n",
       "  107417,\n",
       "  107881,\n",
       "  108346,\n",
       "  108812,\n",
       "  109279,\n",
       "  109747,\n",
       "  110216,\n",
       "  110686,\n",
       "  111157,\n",
       "  111629,\n",
       "  112102,\n",
       "  112576,\n",
       "  113051,\n",
       "  113527,\n",
       "  114004,\n",
       "  114482,\n",
       "  114961,\n",
       "  115441,\n",
       "  115922,\n",
       "  116404,\n",
       "  116887,\n",
       "  117371,\n",
       "  117856,\n",
       "  118342,\n",
       "  118829,\n",
       "  119317,\n",
       "  119806,\n",
       "  120296,\n",
       "  120787,\n",
       "  121279,\n",
       "  121772,\n",
       "  122266,\n",
       "  122761,\n",
       "  123257,\n",
       "  123754,\n",
       "  124252,\n",
       "  124751,\n",
       "  125251,\n",
       "  125752,\n",
       "  126254,\n",
       "  126757,\n",
       "  127261,\n",
       "  127766,\n",
       "  128272,\n",
       "  128779,\n",
       "  129287,\n",
       "  129796,\n",
       "  130306,\n",
       "  130817,\n",
       "  131329,\n",
       "  131842,\n",
       "  132356,\n",
       "  132871,\n",
       "  133387,\n",
       "  133904,\n",
       "  134422,\n",
       "  134941,\n",
       "  135461,\n",
       "  135982,\n",
       "  136504,\n",
       "  137027,\n",
       "  137551,\n",
       "  138076,\n",
       "  138602,\n",
       "  139129,\n",
       "  139657,\n",
       "  140186,\n",
       "  140716,\n",
       "  141247,\n",
       "  141779,\n",
       "  142312,\n",
       "  142846,\n",
       "  143381,\n",
       "  143917,\n",
       "  144454,\n",
       "  144992,\n",
       "  145531,\n",
       "  146071,\n",
       "  146612,\n",
       "  147154,\n",
       "  147697,\n",
       "  148241,\n",
       "  148786,\n",
       "  149332,\n",
       "  149879,\n",
       "  150427,\n",
       "  150976,\n",
       "  151526,\n",
       "  152077,\n",
       "  152629,\n",
       "  153182,\n",
       "  153736,\n",
       "  154291,\n",
       "  154847,\n",
       "  155404,\n",
       "  155962,\n",
       "  156521,\n",
       "  157081,\n",
       "  157642,\n",
       "  158204,\n",
       "  158767,\n",
       "  159331,\n",
       "  159896,\n",
       "  160462,\n",
       "  161029,\n",
       "  161597,\n",
       "  162166,\n",
       "  162736,\n",
       "  163307,\n",
       "  163879,\n",
       "  164452,\n",
       "  165026,\n",
       "  165601,\n",
       "  166177,\n",
       "  166754,\n",
       "  167332,\n",
       "  167911,\n",
       "  168491,\n",
       "  169072,\n",
       "  169654,\n",
       "  170237,\n",
       "  170821,\n",
       "  171406,\n",
       "  171992,\n",
       "  172579,\n",
       "  173167,\n",
       "  173756,\n",
       "  174346,\n",
       "  174937,\n",
       "  175529,\n",
       "  176122,\n",
       "  176716,\n",
       "  177311,\n",
       "  177907,\n",
       "  178504,\n",
       "  179102,\n",
       "  179701,\n",
       "  180301,\n",
       "  180902,\n",
       "  181504,\n",
       "  182107,\n",
       "  182711,\n",
       "  183316,\n",
       "  183922,\n",
       "  184529,\n",
       "  185137,\n",
       "  185746,\n",
       "  186356,\n",
       "  186967,\n",
       "  187579,\n",
       "  188192,\n",
       "  188806,\n",
       "  189421,\n",
       "  190037,\n",
       "  190654,\n",
       "  191272,\n",
       "  191891,\n",
       "  192511,\n",
       "  193132,\n",
       "  193754,\n",
       "  194377,\n",
       "  195001,\n",
       "  195626,\n",
       "  196252,\n",
       "  196879,\n",
       "  197507,\n",
       "  198136,\n",
       "  198766,\n",
       "  199397,\n",
       "  200029,\n",
       "  200662,\n",
       "  201296,\n",
       "  201931,\n",
       "  202567,\n",
       "  203204,\n",
       "  203842,\n",
       "  204481,\n",
       "  205121,\n",
       "  205762,\n",
       "  206404,\n",
       "  207047,\n",
       "  207691,\n",
       "  208336,\n",
       "  208982,\n",
       "  209629,\n",
       "  210277,\n",
       "  210926,\n",
       "  211576,\n",
       "  212227,\n",
       "  212879,\n",
       "  213532,\n",
       "  214186,\n",
       "  214841,\n",
       "  215497,\n",
       "  216154,\n",
       "  216812,\n",
       "  217471,\n",
       "  218131,\n",
       "  218792,\n",
       "  219454,\n",
       "  220117,\n",
       "  220781,\n",
       "  221446,\n",
       "  222112,\n",
       "  222779,\n",
       "  223447,\n",
       "  224116,\n",
       "  224786,\n",
       "  225457,\n",
       "  226129,\n",
       "  226802,\n",
       "  227476,\n",
       "  228151,\n",
       "  228827,\n",
       "  229504,\n",
       "  230182,\n",
       "  230861,\n",
       "  231541,\n",
       "  232222,\n",
       "  232904,\n",
       "  233587,\n",
       "  234271,\n",
       "  234956,\n",
       "  235642,\n",
       "  236329,\n",
       "  237017,\n",
       "  237706,\n",
       "  238396,\n",
       "  239087,\n",
       "  239779,\n",
       "  240472,\n",
       "  241166,\n",
       "  241861,\n",
       "  242557,\n",
       "  243254,\n",
       "  243952,\n",
       "  244651,\n",
       "  245351,\n",
       "  246052,\n",
       "  246754,\n",
       "  247457,\n",
       "  248161,\n",
       "  248866,\n",
       "  249572,\n",
       "  250279,\n",
       "  250987,\n",
       "  251696,\n",
       "  252406,\n",
       "  253117,\n",
       "  253829,\n",
       "  254542,\n",
       "  255256,\n",
       "  255971,\n",
       "  256687,\n",
       "  257404,\n",
       "  258122,\n",
       "  258841,\n",
       "  259561,\n",
       "  260282,\n",
       "  261004,\n",
       "  261727,\n",
       "  262451,\n",
       "  263176,\n",
       "  263902,\n",
       "  264629,\n",
       "  265357,\n",
       "  266086,\n",
       "  266816,\n",
       "  267547,\n",
       "  268279,\n",
       "  269012,\n",
       "  269746,\n",
       "  270481,\n",
       "  271217,\n",
       "  271954,\n",
       "  272692,\n",
       "  273431,\n",
       "  274171,\n",
       "  274912,\n",
       "  275654,\n",
       "  276397,\n",
       "  277141,\n",
       "  277886,\n",
       "  278632,\n",
       "  279379,\n",
       "  280127,\n",
       "  280876,\n",
       "  281626,\n",
       "  282377,\n",
       "  283129,\n",
       "  283882,\n",
       "  284636,\n",
       "  285391,\n",
       "  286147,\n",
       "  286904,\n",
       "  287662,\n",
       "  288421,\n",
       "  289181,\n",
       "  289942,\n",
       "  290704,\n",
       "  291467,\n",
       "  292231,\n",
       "  292996,\n",
       "  293762,\n",
       "  294529,\n",
       "  295297,\n",
       "  296066,\n",
       "  296836,\n",
       "  297607,\n",
       "  298379,\n",
       "  299152,\n",
       "  299926,\n",
       "  300701,\n",
       "  301477,\n",
       "  302254,\n",
       "  303032,\n",
       "  303811,\n",
       "  304591,\n",
       "  305372,\n",
       "  306154,\n",
       "  306937,\n",
       "  307721,\n",
       "  308506,\n",
       "  309292,\n",
       "  310079,\n",
       "  310867,\n",
       "  311656,\n",
       "  312446,\n",
       "  313237,\n",
       "  314029,\n",
       "  314822,\n",
       "  315616,\n",
       "  316411,\n",
       "  317207,\n",
       "  318004,\n",
       "  318802,\n",
       "  319601,\n",
       "  320401,\n",
       "  321202,\n",
       "  322004,\n",
       "  322807,\n",
       "  323611,\n",
       "  324416,\n",
       "  325222,\n",
       "  326029,\n",
       "  326837,\n",
       "  327646,\n",
       "  328456,\n",
       "  329267,\n",
       "  330079,\n",
       "  330892,\n",
       "  331706,\n",
       "  332521,\n",
       "  333337,\n",
       "  334154,\n",
       "  334972,\n",
       "  335791,\n",
       "  336611,\n",
       "  337432,\n",
       "  338254,\n",
       "  339077,\n",
       "  339901,\n",
       "  340726,\n",
       "  341552,\n",
       "  342379,\n",
       "  343207,\n",
       "  344036,\n",
       "  344866,\n",
       "  345697,\n",
       "  346529,\n",
       "  347362,\n",
       "  348196,\n",
       "  349031,\n",
       "  349867,\n",
       "  350704,\n",
       "  351542,\n",
       "  352381,\n",
       "  353221,\n",
       "  354062,\n",
       "  354904,\n",
       "  355747,\n",
       "  356591,\n",
       "  357436,\n",
       "  358282,\n",
       "  359129,\n",
       "  359977,\n",
       "  360826,\n",
       "  361676,\n",
       "  362527,\n",
       "  363379,\n",
       "  364232,\n",
       "  365086,\n",
       "  365941,\n",
       "  366797,\n",
       "  367654,\n",
       "  368512,\n",
       "  369371,\n",
       "  370231,\n",
       "  371092,\n",
       "  371954,\n",
       "  372817,\n",
       "  373681,\n",
       "  374546,\n",
       "  375412,\n",
       "  376279,\n",
       "  377147,\n",
       "  378016,\n",
       "  378886,\n",
       "  379757,\n",
       "  380629,\n",
       "  381502,\n",
       "  382376,\n",
       "  383251,\n",
       "  384127,\n",
       "  385004,\n",
       "  385882,\n",
       "  386761,\n",
       "  387641,\n",
       "  388522,\n",
       "  389404,\n",
       "  390287,\n",
       "  391171,\n",
       "  392056,\n",
       "  392942,\n",
       "  393829,\n",
       "  394717,\n",
       "  395606,\n",
       "  396496,\n",
       "  397387,\n",
       "  398279,\n",
       "  399172,\n",
       "  400066,\n",
       "  400961,\n",
       "  401857,\n",
       "  402754,\n",
       "  403652,\n",
       "  404551,\n",
       "  405451,\n",
       "  406352,\n",
       "  407254,\n",
       "  408157,\n",
       "  409061,\n",
       "  409966,\n",
       "  410872,\n",
       "  411779,\n",
       "  412687,\n",
       "  413596,\n",
       "  414506,\n",
       "  415417,\n",
       "  416329,\n",
       "  417242,\n",
       "  418156,\n",
       "  419071,\n",
       "  419987,\n",
       "  420904,\n",
       "  421822,\n",
       "  422741,\n",
       "  423661,\n",
       "  424582,\n",
       "  425504,\n",
       "  426427,\n",
       "  427351,\n",
       "  428276,\n",
       "  429202,\n",
       "  430129,\n",
       "  431057,\n",
       "  431986,\n",
       "  432916,\n",
       "  433847,\n",
       "  434779,\n",
       "  435712,\n",
       "  436646,\n",
       "  437581,\n",
       "  438517,\n",
       "  439454,\n",
       "  440392,\n",
       "  441331,\n",
       "  442271,\n",
       "  443212,\n",
       "  444154,\n",
       "  445097,\n",
       "  446041,\n",
       "  446986,\n",
       "  447932,\n",
       "  448879,\n",
       "  449827,\n",
       "  450776,\n",
       "  451726,\n",
       "  452677,\n",
       "  453629,\n",
       "  454582,\n",
       "  455536,\n",
       "  456491,\n",
       "  457447,\n",
       "  458404,\n",
       "  459362,\n",
       "  460321,\n",
       "  461281,\n",
       "  462242,\n",
       "  463204,\n",
       "  464167,\n",
       "  465131,\n",
       "  466096,\n",
       "  467062,\n",
       "  468029,\n",
       "  468997,\n",
       "  469966,\n",
       "  470936,\n",
       "  471907,\n",
       "  472879,\n",
       "  473852,\n",
       "  474826,\n",
       "  475801,\n",
       "  476777,\n",
       "  477754,\n",
       "  478732,\n",
       "  479711,\n",
       "  480691,\n",
       "  481672,\n",
       "  482654,\n",
       "  483637,\n",
       "  484621,\n",
       "  485606,\n",
       "  486592,\n",
       "  487579,\n",
       "  488567,\n",
       "  489556,\n",
       "  490546,\n",
       "  491537,\n",
       "  492529,\n",
       "  493522,\n",
       "  494516,\n",
       "  495511,\n",
       "  496507,\n",
       "  497504,\n",
       "  498502,\n",
       "  499501,\n",
       "  ...))"
      ]
     },
     "execution_count": 23,
     "metadata": {},
     "output_type": "execute_result"
    }
   ],
   "source": [
    "(tuple(col),) + (tuple(col),)"
   ]
  },
  {
   "cell_type": "code",
   "execution_count": 13,
   "metadata": {},
   "outputs": [
    {
     "data": {
      "text/plain": [
       "(3,)"
      ]
     },
     "execution_count": 13,
     "metadata": {},
     "output_type": "execute_result"
    }
   ],
   "source": [
    "() + (3,)"
   ]
  },
  {
   "cell_type": "code",
   "execution_count": 112,
   "metadata": {
    "collapsed": true
   },
   "outputs": [],
   "source": [
    "def answer(x, y):\n",
    "    \n",
    "##### This makes the \"prison\" nested list\n",
    "## Note: NumPy is does not support Python 2.7, which is what Google Foo Bar evaluates solutions with.\n",
    "\n",
    "# Making first column to begin building the nested list:\n",
    "    if x > y:\n",
    "        N = x\n",
    "    elif y > x:\n",
    "        N = y\n",
    "    elif y == x:\n",
    "        N = x\n",
    "\n",
    "#     N = 10000  # This is the i and j dimension of resulting nested list (similar to form of 1000x1000 square matrix)\n",
    "    num = 1\n",
    "    col = ()\n",
    "    for i in range(0, N):\n",
    "        col = col + (i + num,)\n",
    "        num = i + num\n",
    "\n",
    "    prison = (tuple(col),)\n",
    "    adder = tuple(range(2, N + 2))\n",
    "    counter = x\n",
    "\n",
    "    \n",
    "    \n",
    "    \n",
    "  # Building the other columns of the prison, then appending them.\n",
    "    loop_col = ()\n",
    "\n",
    "    loop_col = (col[x] + c[idx],)\n",
    "    #     print(loop_col)\n",
    "\n",
    "        prison = prison + (tuple(loop_col),)\n",
    "\n",
    "        counter += 1\n",
    "\n",
    "        adder = tuple(range(2+counter, N + 2 + counter))\n",
    "    \n",
    "# prison\n",
    "        # Note: This \"prison\" is \"upside-down\" compared to problem prompt, but calling the indexes\n",
    "        # will still be in the correct relative direction.\n",
    "    \n",
    "    # This comment below is for transposing \"prison\" for troubleshooting.\n",
    "    \n",
    "#     transpose = []\n",
    "\n",
    "#     col_idx = 0\n",
    "\n",
    "#     while col_idx < N :  # Piece-wise transpose of prison.\n",
    "#         cell = []\n",
    "#         for row_idx, val in enumerate(prison):\n",
    "#     #         print(row_idx)\n",
    "#             cell.append(prison[row_idx][col_idx])\n",
    "#     #     print(col_idx, cell)\n",
    "#         transpose.append(cell)\n",
    "#         col_idx += 1\n",
    "        \n",
    "    return str(prison[x-1][y-1])"
   ]
  },
  {
   "cell_type": "code",
   "execution_count": 113,
   "metadata": {},
   "outputs": [
    {
     "data": {
      "text/plain": [
       "'1'"
      ]
     },
     "execution_count": 113,
     "metadata": {},
     "output_type": "execute_result"
    }
   ],
   "source": [
    "answer(1,1)"
   ]
  },
  {
   "cell_type": "code",
   "execution_count": 114,
   "metadata": {},
   "outputs": [
    {
     "data": {
      "text/plain": [
       "'9'"
      ]
     },
     "execution_count": 114,
     "metadata": {},
     "output_type": "execute_result"
    }
   ],
   "source": [
    "answer(3,2)"
   ]
  },
  {
   "cell_type": "code",
   "execution_count": 115,
   "metadata": {},
   "outputs": [
    {
     "data": {
      "text/plain": [
       "'96'"
      ]
     },
     "execution_count": 115,
     "metadata": {},
     "output_type": "execute_result"
    }
   ],
   "source": [
    "answer(5,10)"
   ]
  },
  {
   "cell_type": "code",
   "execution_count": 116,
   "metadata": {},
   "outputs": [
    {
     "ename": "KeyboardInterrupt",
     "evalue": "",
     "output_type": "error",
     "traceback": [
      "\u001b[0;31m---------------------------------------------------------------------------\u001b[0m",
      "\u001b[0;31mKeyboardInterrupt\u001b[0m                         Traceback (most recent call last)",
      "\u001b[0;32m<ipython-input-116-0e5bbdef9e0b>\u001b[0m in \u001b[0;36m<module>\u001b[0;34m()\u001b[0m\n\u001b[0;32m----> 1\u001b[0;31m \u001b[0manswer\u001b[0m\u001b[0;34m(\u001b[0m\u001b[0;36m100000\u001b[0m\u001b[0;34m,\u001b[0m\u001b[0;36m10\u001b[0m\u001b[0;34m)\u001b[0m\u001b[0;34m\u001b[0m\u001b[0m\n\u001b[0m",
      "\u001b[0;32m<ipython-input-112-835753e9d0ad>\u001b[0m in \u001b[0;36manswer\u001b[0;34m(x, y)\u001b[0m\n\u001b[1;32m     28\u001b[0m         \u001b[0;32mfor\u001b[0m \u001b[0midx\u001b[0m\u001b[0;34m,\u001b[0m \u001b[0mval\u001b[0m \u001b[0;32min\u001b[0m \u001b[0menumerate\u001b[0m\u001b[0;34m(\u001b[0m\u001b[0mprison\u001b[0m\u001b[0;34m[\u001b[0m\u001b[0;36m0\u001b[0m \u001b[0;34m+\u001b[0m \u001b[0mcounter\u001b[0m\u001b[0;34m]\u001b[0m\u001b[0;34m)\u001b[0m\u001b[0;34m:\u001b[0m\u001b[0;34m\u001b[0m\u001b[0m\n\u001b[1;32m     29\u001b[0m     \u001b[0;31m#         print(val + adder[idx])\u001b[0m\u001b[0;34m\u001b[0m\u001b[0;34m\u001b[0m\u001b[0m\n\u001b[0;32m---> 30\u001b[0;31m             \u001b[0mloop_col\u001b[0m \u001b[0;34m=\u001b[0m \u001b[0mloop_col\u001b[0m \u001b[0;34m+\u001b[0m \u001b[0;34m(\u001b[0m\u001b[0mval\u001b[0m \u001b[0;34m+\u001b[0m \u001b[0madder\u001b[0m\u001b[0;34m[\u001b[0m\u001b[0midx\u001b[0m\u001b[0;34m]\u001b[0m\u001b[0;34m,\u001b[0m\u001b[0;34m)\u001b[0m\u001b[0;34m\u001b[0m\u001b[0m\n\u001b[0m\u001b[1;32m     31\u001b[0m     \u001b[0;31m#     print(loop_col)\u001b[0m\u001b[0;34m\u001b[0m\u001b[0;34m\u001b[0m\u001b[0m\n\u001b[1;32m     32\u001b[0m \u001b[0;34m\u001b[0m\u001b[0m\n",
      "\u001b[0;31mKeyboardInterrupt\u001b[0m: "
     ]
    }
   ],
   "source": [
    "answer(100000,10)"
   ]
  },
  {
   "cell_type": "code",
   "execution_count": 117,
   "metadata": {
    "collapsed": true
   },
   "outputs": [],
   "source": [
    "N = 100000\n",
    "col = ()\n",
    "for i in range(0, N):\n",
    "    col = col + (i + num,)\n",
    "    num = i + num"
   ]
  },
  {
   "cell_type": "code",
   "execution_count": 118,
   "metadata": {},
   "outputs": [
    {
     "data": {
      "text/plain": [
       "(5050449451,\n",
       " 5050449452,\n",
       " 5050449454,\n",
       " 5050449457,\n",
       " 5050449461,\n",
       " 5050449466,\n",
       " 5050449472,\n",
       " 5050449479,\n",
       " 5050449487,\n",
       " 5050449496,\n",
       " 5050449506,\n",
       " 5050449517,\n",
       " 5050449529,\n",
       " 5050449542,\n",
       " 5050449556,\n",
       " 5050449571,\n",
       " 5050449587,\n",
       " 5050449604,\n",
       " 5050449622,\n",
       " 5050449641,\n",
       " 5050449661,\n",
       " 5050449682,\n",
       " 5050449704,\n",
       " 5050449727,\n",
       " 5050449751,\n",
       " 5050449776,\n",
       " 5050449802,\n",
       " 5050449829,\n",
       " 5050449857,\n",
       " 5050449886,\n",
       " 5050449916,\n",
       " 5050449947,\n",
       " 5050449979,\n",
       " 5050450012,\n",
       " 5050450046,\n",
       " 5050450081,\n",
       " 5050450117,\n",
       " 5050450154,\n",
       " 5050450192,\n",
       " 5050450231,\n",
       " 5050450271,\n",
       " 5050450312,\n",
       " 5050450354,\n",
       " 5050450397,\n",
       " 5050450441,\n",
       " 5050450486,\n",
       " 5050450532,\n",
       " 5050450579,\n",
       " 5050450627,\n",
       " 5050450676,\n",
       " 5050450726,\n",
       " 5050450777,\n",
       " 5050450829,\n",
       " 5050450882,\n",
       " 5050450936,\n",
       " 5050450991,\n",
       " 5050451047,\n",
       " 5050451104,\n",
       " 5050451162,\n",
       " 5050451221,\n",
       " 5050451281,\n",
       " 5050451342,\n",
       " 5050451404,\n",
       " 5050451467,\n",
       " 5050451531,\n",
       " 5050451596,\n",
       " 5050451662,\n",
       " 5050451729,\n",
       " 5050451797,\n",
       " 5050451866,\n",
       " 5050451936,\n",
       " 5050452007,\n",
       " 5050452079,\n",
       " 5050452152,\n",
       " 5050452226,\n",
       " 5050452301,\n",
       " 5050452377,\n",
       " 5050452454,\n",
       " 5050452532,\n",
       " 5050452611,\n",
       " 5050452691,\n",
       " 5050452772,\n",
       " 5050452854,\n",
       " 5050452937,\n",
       " 5050453021,\n",
       " 5050453106,\n",
       " 5050453192,\n",
       " 5050453279,\n",
       " 5050453367,\n",
       " 5050453456,\n",
       " 5050453546,\n",
       " 5050453637,\n",
       " 5050453729,\n",
       " 5050453822,\n",
       " 5050453916,\n",
       " 5050454011,\n",
       " 5050454107,\n",
       " 5050454204,\n",
       " 5050454302,\n",
       " 5050454401,\n",
       " 5050454501,\n",
       " 5050454602,\n",
       " 5050454704,\n",
       " 5050454807,\n",
       " 5050454911,\n",
       " 5050455016,\n",
       " 5050455122,\n",
       " 5050455229,\n",
       " 5050455337,\n",
       " 5050455446,\n",
       " 5050455556,\n",
       " 5050455667,\n",
       " 5050455779,\n",
       " 5050455892,\n",
       " 5050456006,\n",
       " 5050456121,\n",
       " 5050456237,\n",
       " 5050456354,\n",
       " 5050456472,\n",
       " 5050456591,\n",
       " 5050456711,\n",
       " 5050456832,\n",
       " 5050456954,\n",
       " 5050457077,\n",
       " 5050457201,\n",
       " 5050457326,\n",
       " 5050457452,\n",
       " 5050457579,\n",
       " 5050457707,\n",
       " 5050457836,\n",
       " 5050457966,\n",
       " 5050458097,\n",
       " 5050458229,\n",
       " 5050458362,\n",
       " 5050458496,\n",
       " 5050458631,\n",
       " 5050458767,\n",
       " 5050458904,\n",
       " 5050459042,\n",
       " 5050459181,\n",
       " 5050459321,\n",
       " 5050459462,\n",
       " 5050459604,\n",
       " 5050459747,\n",
       " 5050459891,\n",
       " 5050460036,\n",
       " 5050460182,\n",
       " 5050460329,\n",
       " 5050460477,\n",
       " 5050460626,\n",
       " 5050460776,\n",
       " 5050460927,\n",
       " 5050461079,\n",
       " 5050461232,\n",
       " 5050461386,\n",
       " 5050461541,\n",
       " 5050461697,\n",
       " 5050461854,\n",
       " 5050462012,\n",
       " 5050462171,\n",
       " 5050462331,\n",
       " 5050462492,\n",
       " 5050462654,\n",
       " 5050462817,\n",
       " 5050462981,\n",
       " 5050463146,\n",
       " 5050463312,\n",
       " 5050463479,\n",
       " 5050463647,\n",
       " 5050463816,\n",
       " 5050463986,\n",
       " 5050464157,\n",
       " 5050464329,\n",
       " 5050464502,\n",
       " 5050464676,\n",
       " 5050464851,\n",
       " 5050465027,\n",
       " 5050465204,\n",
       " 5050465382,\n",
       " 5050465561,\n",
       " 5050465741,\n",
       " 5050465922,\n",
       " 5050466104,\n",
       " 5050466287,\n",
       " 5050466471,\n",
       " 5050466656,\n",
       " 5050466842,\n",
       " 5050467029,\n",
       " 5050467217,\n",
       " 5050467406,\n",
       " 5050467596,\n",
       " 5050467787,\n",
       " 5050467979,\n",
       " 5050468172,\n",
       " 5050468366,\n",
       " 5050468561,\n",
       " 5050468757,\n",
       " 5050468954,\n",
       " 5050469152,\n",
       " 5050469351,\n",
       " 5050469551,\n",
       " 5050469752,\n",
       " 5050469954,\n",
       " 5050470157,\n",
       " 5050470361,\n",
       " 5050470566,\n",
       " 5050470772,\n",
       " 5050470979,\n",
       " 5050471187,\n",
       " 5050471396,\n",
       " 5050471606,\n",
       " 5050471817,\n",
       " 5050472029,\n",
       " 5050472242,\n",
       " 5050472456,\n",
       " 5050472671,\n",
       " 5050472887,\n",
       " 5050473104,\n",
       " 5050473322,\n",
       " 5050473541,\n",
       " 5050473761,\n",
       " 5050473982,\n",
       " 5050474204,\n",
       " 5050474427,\n",
       " 5050474651,\n",
       " 5050474876,\n",
       " 5050475102,\n",
       " 5050475329,\n",
       " 5050475557,\n",
       " 5050475786,\n",
       " 5050476016,\n",
       " 5050476247,\n",
       " 5050476479,\n",
       " 5050476712,\n",
       " 5050476946,\n",
       " 5050477181,\n",
       " 5050477417,\n",
       " 5050477654,\n",
       " 5050477892,\n",
       " 5050478131,\n",
       " 5050478371,\n",
       " 5050478612,\n",
       " 5050478854,\n",
       " 5050479097,\n",
       " 5050479341,\n",
       " 5050479586,\n",
       " 5050479832,\n",
       " 5050480079,\n",
       " 5050480327,\n",
       " 5050480576,\n",
       " 5050480826,\n",
       " 5050481077,\n",
       " 5050481329,\n",
       " 5050481582,\n",
       " 5050481836,\n",
       " 5050482091,\n",
       " 5050482347,\n",
       " 5050482604,\n",
       " 5050482862,\n",
       " 5050483121,\n",
       " 5050483381,\n",
       " 5050483642,\n",
       " 5050483904,\n",
       " 5050484167,\n",
       " 5050484431,\n",
       " 5050484696,\n",
       " 5050484962,\n",
       " 5050485229,\n",
       " 5050485497,\n",
       " 5050485766,\n",
       " 5050486036,\n",
       " 5050486307,\n",
       " 5050486579,\n",
       " 5050486852,\n",
       " 5050487126,\n",
       " 5050487401,\n",
       " 5050487677,\n",
       " 5050487954,\n",
       " 5050488232,\n",
       " 5050488511,\n",
       " 5050488791,\n",
       " 5050489072,\n",
       " 5050489354,\n",
       " 5050489637,\n",
       " 5050489921,\n",
       " 5050490206,\n",
       " 5050490492,\n",
       " 5050490779,\n",
       " 5050491067,\n",
       " 5050491356,\n",
       " 5050491646,\n",
       " 5050491937,\n",
       " 5050492229,\n",
       " 5050492522,\n",
       " 5050492816,\n",
       " 5050493111,\n",
       " 5050493407,\n",
       " 5050493704,\n",
       " 5050494002,\n",
       " 5050494301,\n",
       " 5050494601,\n",
       " 5050494902,\n",
       " 5050495204,\n",
       " 5050495507,\n",
       " 5050495811,\n",
       " 5050496116,\n",
       " 5050496422,\n",
       " 5050496729,\n",
       " 5050497037,\n",
       " 5050497346,\n",
       " 5050497656,\n",
       " 5050497967,\n",
       " 5050498279,\n",
       " 5050498592,\n",
       " 5050498906,\n",
       " 5050499221,\n",
       " 5050499537,\n",
       " 5050499854,\n",
       " 5050500172,\n",
       " 5050500491,\n",
       " 5050500811,\n",
       " 5050501132,\n",
       " 5050501454,\n",
       " 5050501777,\n",
       " 5050502101,\n",
       " 5050502426,\n",
       " 5050502752,\n",
       " 5050503079,\n",
       " 5050503407,\n",
       " 5050503736,\n",
       " 5050504066,\n",
       " 5050504397,\n",
       " 5050504729,\n",
       " 5050505062,\n",
       " 5050505396,\n",
       " 5050505731,\n",
       " 5050506067,\n",
       " 5050506404,\n",
       " 5050506742,\n",
       " 5050507081,\n",
       " 5050507421,\n",
       " 5050507762,\n",
       " 5050508104,\n",
       " 5050508447,\n",
       " 5050508791,\n",
       " 5050509136,\n",
       " 5050509482,\n",
       " 5050509829,\n",
       " 5050510177,\n",
       " 5050510526,\n",
       " 5050510876,\n",
       " 5050511227,\n",
       " 5050511579,\n",
       " 5050511932,\n",
       " 5050512286,\n",
       " 5050512641,\n",
       " 5050512997,\n",
       " 5050513354,\n",
       " 5050513712,\n",
       " 5050514071,\n",
       " 5050514431,\n",
       " 5050514792,\n",
       " 5050515154,\n",
       " 5050515517,\n",
       " 5050515881,\n",
       " 5050516246,\n",
       " 5050516612,\n",
       " 5050516979,\n",
       " 5050517347,\n",
       " 5050517716,\n",
       " 5050518086,\n",
       " 5050518457,\n",
       " 5050518829,\n",
       " 5050519202,\n",
       " 5050519576,\n",
       " 5050519951,\n",
       " 5050520327,\n",
       " 5050520704,\n",
       " 5050521082,\n",
       " 5050521461,\n",
       " 5050521841,\n",
       " 5050522222,\n",
       " 5050522604,\n",
       " 5050522987,\n",
       " 5050523371,\n",
       " 5050523756,\n",
       " 5050524142,\n",
       " 5050524529,\n",
       " 5050524917,\n",
       " 5050525306,\n",
       " 5050525696,\n",
       " 5050526087,\n",
       " 5050526479,\n",
       " 5050526872,\n",
       " 5050527266,\n",
       " 5050527661,\n",
       " 5050528057,\n",
       " 5050528454,\n",
       " 5050528852,\n",
       " 5050529251,\n",
       " 5050529651,\n",
       " 5050530052,\n",
       " 5050530454,\n",
       " 5050530857,\n",
       " 5050531261,\n",
       " 5050531666,\n",
       " 5050532072,\n",
       " 5050532479,\n",
       " 5050532887,\n",
       " 5050533296,\n",
       " 5050533706,\n",
       " 5050534117,\n",
       " 5050534529,\n",
       " 5050534942,\n",
       " 5050535356,\n",
       " 5050535771,\n",
       " 5050536187,\n",
       " 5050536604,\n",
       " 5050537022,\n",
       " 5050537441,\n",
       " 5050537861,\n",
       " 5050538282,\n",
       " 5050538704,\n",
       " 5050539127,\n",
       " 5050539551,\n",
       " 5050539976,\n",
       " 5050540402,\n",
       " 5050540829,\n",
       " 5050541257,\n",
       " 5050541686,\n",
       " 5050542116,\n",
       " 5050542547,\n",
       " 5050542979,\n",
       " 5050543412,\n",
       " 5050543846,\n",
       " 5050544281,\n",
       " 5050544717,\n",
       " 5050545154,\n",
       " 5050545592,\n",
       " 5050546031,\n",
       " 5050546471,\n",
       " 5050546912,\n",
       " 5050547354,\n",
       " 5050547797,\n",
       " 5050548241,\n",
       " 5050548686,\n",
       " 5050549132,\n",
       " 5050549579,\n",
       " 5050550027,\n",
       " 5050550476,\n",
       " 5050550926,\n",
       " 5050551377,\n",
       " 5050551829,\n",
       " 5050552282,\n",
       " 5050552736,\n",
       " 5050553191,\n",
       " 5050553647,\n",
       " 5050554104,\n",
       " 5050554562,\n",
       " 5050555021,\n",
       " 5050555481,\n",
       " 5050555942,\n",
       " 5050556404,\n",
       " 5050556867,\n",
       " 5050557331,\n",
       " 5050557796,\n",
       " 5050558262,\n",
       " 5050558729,\n",
       " 5050559197,\n",
       " 5050559666,\n",
       " 5050560136,\n",
       " 5050560607,\n",
       " 5050561079,\n",
       " 5050561552,\n",
       " 5050562026,\n",
       " 5050562501,\n",
       " 5050562977,\n",
       " 5050563454,\n",
       " 5050563932,\n",
       " 5050564411,\n",
       " 5050564891,\n",
       " 5050565372,\n",
       " 5050565854,\n",
       " 5050566337,\n",
       " 5050566821,\n",
       " 5050567306,\n",
       " 5050567792,\n",
       " 5050568279,\n",
       " 5050568767,\n",
       " 5050569256,\n",
       " 5050569746,\n",
       " 5050570237,\n",
       " 5050570729,\n",
       " 5050571222,\n",
       " 5050571716,\n",
       " 5050572211,\n",
       " 5050572707,\n",
       " 5050573204,\n",
       " 5050573702,\n",
       " 5050574201,\n",
       " 5050574701,\n",
       " 5050575202,\n",
       " 5050575704,\n",
       " 5050576207,\n",
       " 5050576711,\n",
       " 5050577216,\n",
       " 5050577722,\n",
       " 5050578229,\n",
       " 5050578737,\n",
       " 5050579246,\n",
       " 5050579756,\n",
       " 5050580267,\n",
       " 5050580779,\n",
       " 5050581292,\n",
       " 5050581806,\n",
       " 5050582321,\n",
       " 5050582837,\n",
       " 5050583354,\n",
       " 5050583872,\n",
       " 5050584391,\n",
       " 5050584911,\n",
       " 5050585432,\n",
       " 5050585954,\n",
       " 5050586477,\n",
       " 5050587001,\n",
       " 5050587526,\n",
       " 5050588052,\n",
       " 5050588579,\n",
       " 5050589107,\n",
       " 5050589636,\n",
       " 5050590166,\n",
       " 5050590697,\n",
       " 5050591229,\n",
       " 5050591762,\n",
       " 5050592296,\n",
       " 5050592831,\n",
       " 5050593367,\n",
       " 5050593904,\n",
       " 5050594442,\n",
       " 5050594981,\n",
       " 5050595521,\n",
       " 5050596062,\n",
       " 5050596604,\n",
       " 5050597147,\n",
       " 5050597691,\n",
       " 5050598236,\n",
       " 5050598782,\n",
       " 5050599329,\n",
       " 5050599877,\n",
       " 5050600426,\n",
       " 5050600976,\n",
       " 5050601527,\n",
       " 5050602079,\n",
       " 5050602632,\n",
       " 5050603186,\n",
       " 5050603741,\n",
       " 5050604297,\n",
       " 5050604854,\n",
       " 5050605412,\n",
       " 5050605971,\n",
       " 5050606531,\n",
       " 5050607092,\n",
       " 5050607654,\n",
       " 5050608217,\n",
       " 5050608781,\n",
       " 5050609346,\n",
       " 5050609912,\n",
       " 5050610479,\n",
       " 5050611047,\n",
       " 5050611616,\n",
       " 5050612186,\n",
       " 5050612757,\n",
       " 5050613329,\n",
       " 5050613902,\n",
       " 5050614476,\n",
       " 5050615051,\n",
       " 5050615627,\n",
       " 5050616204,\n",
       " 5050616782,\n",
       " 5050617361,\n",
       " 5050617941,\n",
       " 5050618522,\n",
       " 5050619104,\n",
       " 5050619687,\n",
       " 5050620271,\n",
       " 5050620856,\n",
       " 5050621442,\n",
       " 5050622029,\n",
       " 5050622617,\n",
       " 5050623206,\n",
       " 5050623796,\n",
       " 5050624387,\n",
       " 5050624979,\n",
       " 5050625572,\n",
       " 5050626166,\n",
       " 5050626761,\n",
       " 5050627357,\n",
       " 5050627954,\n",
       " 5050628552,\n",
       " 5050629151,\n",
       " 5050629751,\n",
       " 5050630352,\n",
       " 5050630954,\n",
       " 5050631557,\n",
       " 5050632161,\n",
       " 5050632766,\n",
       " 5050633372,\n",
       " 5050633979,\n",
       " 5050634587,\n",
       " 5050635196,\n",
       " 5050635806,\n",
       " 5050636417,\n",
       " 5050637029,\n",
       " 5050637642,\n",
       " 5050638256,\n",
       " 5050638871,\n",
       " 5050639487,\n",
       " 5050640104,\n",
       " 5050640722,\n",
       " 5050641341,\n",
       " 5050641961,\n",
       " 5050642582,\n",
       " 5050643204,\n",
       " 5050643827,\n",
       " 5050644451,\n",
       " 5050645076,\n",
       " 5050645702,\n",
       " 5050646329,\n",
       " 5050646957,\n",
       " 5050647586,\n",
       " 5050648216,\n",
       " 5050648847,\n",
       " 5050649479,\n",
       " 5050650112,\n",
       " 5050650746,\n",
       " 5050651381,\n",
       " 5050652017,\n",
       " 5050652654,\n",
       " 5050653292,\n",
       " 5050653931,\n",
       " 5050654571,\n",
       " 5050655212,\n",
       " 5050655854,\n",
       " 5050656497,\n",
       " 5050657141,\n",
       " 5050657786,\n",
       " 5050658432,\n",
       " 5050659079,\n",
       " 5050659727,\n",
       " 5050660376,\n",
       " 5050661026,\n",
       " 5050661677,\n",
       " 5050662329,\n",
       " 5050662982,\n",
       " 5050663636,\n",
       " 5050664291,\n",
       " 5050664947,\n",
       " 5050665604,\n",
       " 5050666262,\n",
       " 5050666921,\n",
       " 5050667581,\n",
       " 5050668242,\n",
       " 5050668904,\n",
       " 5050669567,\n",
       " 5050670231,\n",
       " 5050670896,\n",
       " 5050671562,\n",
       " 5050672229,\n",
       " 5050672897,\n",
       " 5050673566,\n",
       " 5050674236,\n",
       " 5050674907,\n",
       " 5050675579,\n",
       " 5050676252,\n",
       " 5050676926,\n",
       " 5050677601,\n",
       " 5050678277,\n",
       " 5050678954,\n",
       " 5050679632,\n",
       " 5050680311,\n",
       " 5050680991,\n",
       " 5050681672,\n",
       " 5050682354,\n",
       " 5050683037,\n",
       " 5050683721,\n",
       " 5050684406,\n",
       " 5050685092,\n",
       " 5050685779,\n",
       " 5050686467,\n",
       " 5050687156,\n",
       " 5050687846,\n",
       " 5050688537,\n",
       " 5050689229,\n",
       " 5050689922,\n",
       " 5050690616,\n",
       " 5050691311,\n",
       " 5050692007,\n",
       " 5050692704,\n",
       " 5050693402,\n",
       " 5050694101,\n",
       " 5050694801,\n",
       " 5050695502,\n",
       " 5050696204,\n",
       " 5050696907,\n",
       " 5050697611,\n",
       " 5050698316,\n",
       " 5050699022,\n",
       " 5050699729,\n",
       " 5050700437,\n",
       " 5050701146,\n",
       " 5050701856,\n",
       " 5050702567,\n",
       " 5050703279,\n",
       " 5050703992,\n",
       " 5050704706,\n",
       " 5050705421,\n",
       " 5050706137,\n",
       " 5050706854,\n",
       " 5050707572,\n",
       " 5050708291,\n",
       " 5050709011,\n",
       " 5050709732,\n",
       " 5050710454,\n",
       " 5050711177,\n",
       " 5050711901,\n",
       " 5050712626,\n",
       " 5050713352,\n",
       " 5050714079,\n",
       " 5050714807,\n",
       " 5050715536,\n",
       " 5050716266,\n",
       " 5050716997,\n",
       " 5050717729,\n",
       " 5050718462,\n",
       " 5050719196,\n",
       " 5050719931,\n",
       " 5050720667,\n",
       " 5050721404,\n",
       " 5050722142,\n",
       " 5050722881,\n",
       " 5050723621,\n",
       " 5050724362,\n",
       " 5050725104,\n",
       " 5050725847,\n",
       " 5050726591,\n",
       " 5050727336,\n",
       " 5050728082,\n",
       " 5050728829,\n",
       " 5050729577,\n",
       " 5050730326,\n",
       " 5050731076,\n",
       " 5050731827,\n",
       " 5050732579,\n",
       " 5050733332,\n",
       " 5050734086,\n",
       " 5050734841,\n",
       " 5050735597,\n",
       " 5050736354,\n",
       " 5050737112,\n",
       " 5050737871,\n",
       " 5050738631,\n",
       " 5050739392,\n",
       " 5050740154,\n",
       " 5050740917,\n",
       " 5050741681,\n",
       " 5050742446,\n",
       " 5050743212,\n",
       " 5050743979,\n",
       " 5050744747,\n",
       " 5050745516,\n",
       " 5050746286,\n",
       " 5050747057,\n",
       " 5050747829,\n",
       " 5050748602,\n",
       " 5050749376,\n",
       " 5050750151,\n",
       " 5050750927,\n",
       " 5050751704,\n",
       " 5050752482,\n",
       " 5050753261,\n",
       " 5050754041,\n",
       " 5050754822,\n",
       " 5050755604,\n",
       " 5050756387,\n",
       " 5050757171,\n",
       " 5050757956,\n",
       " 5050758742,\n",
       " 5050759529,\n",
       " 5050760317,\n",
       " 5050761106,\n",
       " 5050761896,\n",
       " 5050762687,\n",
       " 5050763479,\n",
       " 5050764272,\n",
       " 5050765066,\n",
       " 5050765861,\n",
       " 5050766657,\n",
       " 5050767454,\n",
       " 5050768252,\n",
       " 5050769051,\n",
       " 5050769851,\n",
       " 5050770652,\n",
       " 5050771454,\n",
       " 5050772257,\n",
       " 5050773061,\n",
       " 5050773866,\n",
       " 5050774672,\n",
       " 5050775479,\n",
       " 5050776287,\n",
       " 5050777096,\n",
       " 5050777906,\n",
       " 5050778717,\n",
       " 5050779529,\n",
       " 5050780342,\n",
       " 5050781156,\n",
       " 5050781971,\n",
       " 5050782787,\n",
       " 5050783604,\n",
       " 5050784422,\n",
       " 5050785241,\n",
       " 5050786061,\n",
       " 5050786882,\n",
       " 5050787704,\n",
       " 5050788527,\n",
       " 5050789351,\n",
       " 5050790176,\n",
       " 5050791002,\n",
       " 5050791829,\n",
       " 5050792657,\n",
       " 5050793486,\n",
       " 5050794316,\n",
       " 5050795147,\n",
       " 5050795979,\n",
       " 5050796812,\n",
       " 5050797646,\n",
       " 5050798481,\n",
       " 5050799317,\n",
       " 5050800154,\n",
       " 5050800992,\n",
       " 5050801831,\n",
       " 5050802671,\n",
       " 5050803512,\n",
       " 5050804354,\n",
       " 5050805197,\n",
       " 5050806041,\n",
       " 5050806886,\n",
       " 5050807732,\n",
       " 5050808579,\n",
       " 5050809427,\n",
       " 5050810276,\n",
       " 5050811126,\n",
       " 5050811977,\n",
       " 5050812829,\n",
       " 5050813682,\n",
       " 5050814536,\n",
       " 5050815391,\n",
       " 5050816247,\n",
       " 5050817104,\n",
       " 5050817962,\n",
       " 5050818821,\n",
       " 5050819681,\n",
       " 5050820542,\n",
       " 5050821404,\n",
       " 5050822267,\n",
       " 5050823131,\n",
       " 5050823996,\n",
       " 5050824862,\n",
       " 5050825729,\n",
       " 5050826597,\n",
       " 5050827466,\n",
       " 5050828336,\n",
       " 5050829207,\n",
       " 5050830079,\n",
       " 5050830952,\n",
       " 5050831826,\n",
       " 5050832701,\n",
       " 5050833577,\n",
       " 5050834454,\n",
       " 5050835332,\n",
       " 5050836211,\n",
       " 5050837091,\n",
       " 5050837972,\n",
       " 5050838854,\n",
       " 5050839737,\n",
       " 5050840621,\n",
       " 5050841506,\n",
       " 5050842392,\n",
       " 5050843279,\n",
       " 5050844167,\n",
       " 5050845056,\n",
       " 5050845946,\n",
       " 5050846837,\n",
       " 5050847729,\n",
       " 5050848622,\n",
       " 5050849516,\n",
       " 5050850411,\n",
       " 5050851307,\n",
       " 5050852204,\n",
       " 5050853102,\n",
       " 5050854001,\n",
       " 5050854901,\n",
       " 5050855802,\n",
       " 5050856704,\n",
       " 5050857607,\n",
       " 5050858511,\n",
       " 5050859416,\n",
       " 5050860322,\n",
       " 5050861229,\n",
       " 5050862137,\n",
       " 5050863046,\n",
       " 5050863956,\n",
       " 5050864867,\n",
       " 5050865779,\n",
       " 5050866692,\n",
       " 5050867606,\n",
       " 5050868521,\n",
       " 5050869437,\n",
       " 5050870354,\n",
       " 5050871272,\n",
       " 5050872191,\n",
       " 5050873111,\n",
       " 5050874032,\n",
       " 5050874954,\n",
       " 5050875877,\n",
       " 5050876801,\n",
       " 5050877726,\n",
       " 5050878652,\n",
       " 5050879579,\n",
       " 5050880507,\n",
       " 5050881436,\n",
       " 5050882366,\n",
       " 5050883297,\n",
       " 5050884229,\n",
       " 5050885162,\n",
       " 5050886096,\n",
       " 5050887031,\n",
       " 5050887967,\n",
       " 5050888904,\n",
       " 5050889842,\n",
       " 5050890781,\n",
       " 5050891721,\n",
       " 5050892662,\n",
       " 5050893604,\n",
       " 5050894547,\n",
       " 5050895491,\n",
       " 5050896436,\n",
       " 5050897382,\n",
       " 5050898329,\n",
       " 5050899277,\n",
       " 5050900226,\n",
       " 5050901176,\n",
       " 5050902127,\n",
       " 5050903079,\n",
       " 5050904032,\n",
       " 5050904986,\n",
       " 5050905941,\n",
       " 5050906897,\n",
       " 5050907854,\n",
       " 5050908812,\n",
       " 5050909771,\n",
       " 5050910731,\n",
       " 5050911692,\n",
       " 5050912654,\n",
       " 5050913617,\n",
       " 5050914581,\n",
       " 5050915546,\n",
       " 5050916512,\n",
       " 5050917479,\n",
       " 5050918447,\n",
       " 5050919416,\n",
       " 5050920386,\n",
       " 5050921357,\n",
       " 5050922329,\n",
       " 5050923302,\n",
       " 5050924276,\n",
       " 5050925251,\n",
       " 5050926227,\n",
       " 5050927204,\n",
       " 5050928182,\n",
       " 5050929161,\n",
       " 5050930141,\n",
       " 5050931122,\n",
       " 5050932104,\n",
       " 5050933087,\n",
       " 5050934071,\n",
       " 5050935056,\n",
       " 5050936042,\n",
       " 5050937029,\n",
       " 5050938017,\n",
       " 5050939006,\n",
       " 5050939996,\n",
       " 5050940987,\n",
       " 5050941979,\n",
       " 5050942972,\n",
       " 5050943966,\n",
       " 5050944961,\n",
       " 5050945957,\n",
       " 5050946954,\n",
       " 5050947952,\n",
       " 5050948951,\n",
       " ...)"
      ]
     },
     "execution_count": 118,
     "metadata": {},
     "output_type": "execute_result"
    }
   ],
   "source": [
    "col"
   ]
  },
  {
   "cell_type": "code",
   "execution_count": 91,
   "metadata": {},
   "outputs": [
    {
     "ename": "TypeError",
     "evalue": "can only concatenate tuple (not \"int\") to tuple",
     "output_type": "error",
     "traceback": [
      "\u001b[0;31m---------------------------------------------------------------------------\u001b[0m",
      "\u001b[0;31mTypeError\u001b[0m                                 Traceback (most recent call last)",
      "\u001b[0;32m<ipython-input-91-ebef818cfa6b>\u001b[0m in \u001b[0;36m<module>\u001b[0;34m()\u001b[0m\n\u001b[0;32m----> 1\u001b[0;31m \u001b[0mmap\u001b[0m\u001b[0;34m(\u001b[0m\u001b[0mcol\u001b[0m\u001b[0;34m,\u001b[0m \u001b[0mcol\u001b[0m \u001b[0;34m+\u001b[0m \u001b[0;34m(\u001b[0m\u001b[0;36m1\u001b[0m\u001b[0;34m)\u001b[0m\u001b[0;34m,\u001b[0m\u001b[0;34m)\u001b[0m\u001b[0;34m\u001b[0m\u001b[0m\n\u001b[0m",
      "\u001b[0;31mTypeError\u001b[0m: can only concatenate tuple (not \"int\") to tuple"
     ]
    }
   ],
   "source": [
    "map(col, )"
   ]
  },
  {
   "cell_type": "code",
   "execution_count": 121,
   "metadata": {},
   "outputs": [],
   "source": [
    "N = 10\n",
    "col = []\n",
    "num = 1\n",
    "for i in range(0, N):\n",
    "    col.append(i + num)\n",
    "    num = i + num"
   ]
  },
  {
   "cell_type": "code",
   "execution_count": 122,
   "metadata": {},
   "outputs": [
    {
     "data": {
      "text/plain": [
       "[1, 2, 4, 7, 11, 16, 22, 29, 37, 46]"
      ]
     },
     "execution_count": 122,
     "metadata": {},
     "output_type": "execute_result"
    }
   ],
   "source": [
    "col"
   ]
  },
  {
   "cell_type": "code",
   "execution_count": 123,
   "metadata": {},
   "outputs": [
    {
     "data": {
      "text/plain": [
       "[1, 2, 4, 7, 11, 16, 22, 29, 37, 46]"
      ]
     },
     "execution_count": 123,
     "metadata": {},
     "output_type": "execute_result"
    }
   ],
   "source": [
    "col"
   ]
  },
  {
   "cell_type": "code",
   "execution_count": 171,
   "metadata": {},
   "outputs": [],
   "source": [
    "counter = 0\n",
    "adder = tuple(range(2 + counter, N + 2 + counter))"
   ]
  },
  {
   "cell_type": "code",
   "execution_count": 172,
   "metadata": {},
   "outputs": [
    {
     "data": {
      "text/plain": [
       "(2, 3, 4, 5, 6, 7, 8, 9, 10, 11)"
      ]
     },
     "execution_count": 172,
     "metadata": {},
     "output_type": "execute_result"
    }
   ],
   "source": [
    "adder"
   ]
  },
  {
   "cell_type": "code",
   "execution_count": 176,
   "metadata": {},
   "outputs": [
    {
     "data": {
      "text/plain": [
       "4"
      ]
     },
     "execution_count": 176,
     "metadata": {},
     "output_type": "execute_result"
    }
   ],
   "source": [
    "range(4,N)[0]"
   ]
  },
  {
   "cell_type": "code",
   "execution_count": 183,
   "metadata": {
    "scrolled": true
   },
   "outputs": [
    {
     "data": {
      "text/plain": [
       "13"
      ]
     },
     "execution_count": 183,
     "metadata": {},
     "output_type": "execute_result"
    }
   ],
   "source": [
    "col[2] + range(4,N)[0] + range(4,N)[1]  # can I just calculate only the number i want to look up?"
   ]
  },
  {
   "cell_type": "code",
   "execution_count": 196,
   "metadata": {},
   "outputs": [
    {
     "data": {
      "text/plain": [
       "11"
      ]
     },
     "execution_count": 196,
     "metadata": {},
     "output_type": "execute_result"
    }
   ],
   "source": [
    "col[3] + sum(range(col[2],5))"
   ]
  },
  {
   "cell_type": "code",
   "execution_count": 225,
   "metadata": {},
   "outputs": [],
   "source": [
    "col = []\n",
    "for n in range(1,100000):\n",
    "    col.append(int(n*(n+1)/2 + 1))"
   ]
  },
  {
   "cell_type": "code",
   "execution_count": null,
   "metadata": {
    "collapsed": true
   },
   "outputs": [],
   "source": [
    "[[1, 3, 6, 10, 15, 21, 28, 36, 45, 55],\n",
    " [2, 5, 9, 14, 20, 27, 35, 44, 54, 65],\n",
    " [4, 8, 13, 19, 26, 34, 43, 53, 64, 76],\n",
    " [7, 12, 18, 25, 33, 42, 52, 63, 75, 88],\n",
    " [11, 17, 24, 32, 41, 51, 62, 74, 87, 101],\n",
    " [16, 23, 31, 40, 50, 61, 73, 86, 100, 115],\n",
    " [22, 30, 39, 49, 60, 72, 85, 99, 114, 130],\n",
    " [29, 38, 48, 59, 71, 84, 98, 113, 129, 146],\n",
    " [37, 47, 58, 70, 83, 97, 112, 128, 145, 163],\n",
    " [46, 57, 69, 82, 96, 111, 127, 144, 162, 181]]"
   ]
  },
  {
   "cell_type": "code",
   "execution_count": null,
   "metadata": {
    "collapsed": true
   },
   "outputs": [],
   "source": [
    "# num = 1\n",
    "# col = ()\n",
    "# for i in range(0, N):\n",
    "#     col = col + (i + num,)\n",
    "#     num = i + num\n",
    "\n",
    "prison = [col]\n",
    "\n",
    "# print(prison)\n",
    "\n"
   ]
  },
  {
   "cell_type": "code",
   "execution_count": 230,
   "metadata": {
    "collapsed": true
   },
   "outputs": [],
   "source": [
    "def answer(x, y):\n",
    "    \n",
    "##### This makes the \"prison\" nested list\n",
    "## Note: NumPy is does not support Python 2.7, which is what Google Foo Bar evaluates solutions with.\n",
    "\n",
    "# Making first column to begin building the nested list:\n",
    "    N = 100000\n",
    "    col = []\n",
    "    for n in range(1,N):\n",
    "        col.append(int(n*(n+1)/2 + 1))\n",
    "\n",
    "    prison = [col]  \n",
    "    adder = list(range(2, N + 2))\n",
    "    counter = 0\n",
    "\n",
    "    for k in range(0, N - 1):   # Building the other columns of the prison, then appending them.\n",
    "        loop_col = []\n",
    "\n",
    "        for idx, val in enumerate(prison[0 + counter]):\n",
    "            loop_col.append(val + adder[idx])\n",
    "\n",
    "\n",
    "        for idx, val in enumerate(adder):\n",
    "            adder[idx] = adder[idx] + 1\n",
    "\n",
    "        counter += 1\n",
    "\n",
    "        prison.append(loop_col)\n",
    "        # Note: This \"prison\" is \"upside-down\" compared to problem prompt, but calling the indexes\n",
    "        # will still be in the correct relative direction.\n",
    "    \n",
    "    # This comment below is for transposing \"prison\" for troubleshooting.\n",
    "    \n",
    "#     transpose = []\n",
    "\n",
    "#     col_idx = 0\n",
    "\n",
    "#     while col_idx < N :  # Piece-wise transpose of prison.\n",
    "#         cell = []\n",
    "#         for row_idx, val in enumerate(prison):\n",
    "#     #         print(row_idx)\n",
    "#             cell.append(prison[row_idx][col_idx])\n",
    "#     #     print(col_idx, cell)\n",
    "#         transpose.append(cell)\n",
    "#         col_idx += 1\n",
    "        \n",
    "    return str(prison[x-1][y-1]), len(prison), len(prison[0]), prison[-1][-1]"
   ]
  },
  {
   "cell_type": "code",
   "execution_count": 231,
   "metadata": {
    "scrolled": true
   },
   "outputs": [
    {
     "ename": "KeyboardInterrupt",
     "evalue": "",
     "output_type": "error",
     "traceback": [
      "\u001b[0;31m---------------------------------------------------------------------------\u001b[0m",
      "\u001b[0;31mKeyboardInterrupt\u001b[0m                         Traceback (most recent call last)",
      "\u001b[0;32m<ipython-input-231-0bebbfcb159b>\u001b[0m in \u001b[0;36m<module>\u001b[0;34m()\u001b[0m\n\u001b[0;32m----> 1\u001b[0;31m \u001b[0manswer\u001b[0m\u001b[0;34m(\u001b[0m\u001b[0;36m1\u001b[0m\u001b[0;34m,\u001b[0m\u001b[0;36m1\u001b[0m\u001b[0;34m)\u001b[0m\u001b[0;34m\u001b[0m\u001b[0m\n\u001b[0m",
      "\u001b[0;32m<ipython-input-230-f1481fee7e8f>\u001b[0m in \u001b[0;36manswer\u001b[0;34m(x, y)\u001b[0m\n\u001b[1;32m     18\u001b[0m \u001b[0;34m\u001b[0m\u001b[0m\n\u001b[1;32m     19\u001b[0m         \u001b[0;32mfor\u001b[0m \u001b[0midx\u001b[0m\u001b[0;34m,\u001b[0m \u001b[0mval\u001b[0m \u001b[0;32min\u001b[0m \u001b[0menumerate\u001b[0m\u001b[0;34m(\u001b[0m\u001b[0mprison\u001b[0m\u001b[0;34m[\u001b[0m\u001b[0;36m0\u001b[0m \u001b[0;34m+\u001b[0m \u001b[0mcounter\u001b[0m\u001b[0;34m]\u001b[0m\u001b[0;34m)\u001b[0m\u001b[0;34m:\u001b[0m\u001b[0;34m\u001b[0m\u001b[0m\n\u001b[0;32m---> 20\u001b[0;31m             \u001b[0mloop_col\u001b[0m\u001b[0;34m.\u001b[0m\u001b[0mappend\u001b[0m\u001b[0;34m(\u001b[0m\u001b[0mval\u001b[0m \u001b[0;34m+\u001b[0m \u001b[0madder\u001b[0m\u001b[0;34m[\u001b[0m\u001b[0midx\u001b[0m\u001b[0;34m]\u001b[0m\u001b[0;34m)\u001b[0m\u001b[0;34m\u001b[0m\u001b[0m\n\u001b[0m\u001b[1;32m     21\u001b[0m \u001b[0;34m\u001b[0m\u001b[0m\n\u001b[1;32m     22\u001b[0m \u001b[0;34m\u001b[0m\u001b[0m\n",
      "\u001b[0;31mKeyboardInterrupt\u001b[0m: "
     ]
    }
   ],
   "source": [
    "answer(1,1)"
   ]
  },
  {
   "cell_type": "code",
   "execution_count": 275,
   "metadata": {
    "scrolled": true
   },
   "outputs": [
    {
     "data": {
      "text/plain": [
       "[1, 3, 6, 10, 15, 21, 28, 36, 45, 55]"
      ]
     },
     "execution_count": 275,
     "metadata": {},
     "output_type": "execute_result"
    }
   ],
   "source": [
    "col = []\n",
    "for n in range(1,11):\n",
    "    col.append(int(n*(n+1)/2))\n",
    "col"
   ]
  },
  {
   "cell_type": "code",
   "execution_count": 251,
   "metadata": {},
   "outputs": [
    {
     "data": {
      "text/plain": [
       "[2, 5, 9, 14, 20, 27, 35, 44, 54, 65]"
      ]
     },
     "execution_count": 251,
     "metadata": {},
     "output_type": "execute_result"
    }
   ],
   "source": [
    "col = []\n",
    "for n in range(2,12):\n",
    "    col.append(int(n*(n+1)/2) - 1)\n",
    "col"
   ]
  },
  {
   "cell_type": "code",
   "execution_count": 253,
   "metadata": {},
   "outputs": [
    {
     "data": {
      "text/plain": [
       "[4, 8, 13, 19, 26, 34, 43, 53, 64, 76]"
      ]
     },
     "execution_count": 253,
     "metadata": {},
     "output_type": "execute_result"
    }
   ],
   "source": [
    "col = []\n",
    "for n in range(3,13):\n",
    "    col.append(int(n*(n+1)/2) - 2)\n",
    "col"
   ]
  },
  {
   "cell_type": "code",
   "execution_count": 254,
   "metadata": {},
   "outputs": [
    {
     "data": {
      "text/plain": [
       "[7, 12, 18, 25, 33, 42, 52, 63, 75, 88]"
      ]
     },
     "execution_count": 254,
     "metadata": {},
     "output_type": "execute_result"
    }
   ],
   "source": [
    "col = []\n",
    "for n in range(4,14):\n",
    "    col.append(int(n*(n+1)/2) - 3)\n",
    "col"
   ]
  },
  {
   "cell_type": "code",
   "execution_count": 312,
   "metadata": {},
   "outputs": [
    {
     "data": {
      "text/plain": [
       "[11, 17, 24, 32, 41, 51, 62, 74, 87]"
      ]
     },
     "execution_count": 312,
     "metadata": {},
     "output_type": "execute_result"
    }
   ],
   "source": [
    "col = []\n",
    "for n in range(5,14):\n",
    "    col.append(int(n*(n+1)/2) - 4)\n",
    "col"
   ]
  },
  {
   "cell_type": "code",
   "execution_count": null,
   "metadata": {
    "collapsed": true
   },
   "outputs": [],
   "source": []
  },
  {
   "cell_type": "code",
   "execution_count": 337,
   "metadata": {},
   "outputs": [
    {
     "data": {
      "text/plain": [
       "[1, 2, 4, 7, 11, 16, 22, 29, 37, 46]"
      ]
     },
     "execution_count": 337,
     "metadata": {},
     "output_type": "execute_result"
    }
   ],
   "source": [
    "col = []\n",
    "for n in range(0,10):\n",
    "    col.append(int(n*(n+1)/2) + 1)\n",
    "col"
   ]
  },
  {
   "cell_type": "code",
   "execution_count": 344,
   "metadata": {},
   "outputs": [
    {
     "data": {
      "text/plain": [
       "[3, 5, 8, 12, 17, 23, 30, 38, 47, 57]"
      ]
     },
     "execution_count": 344,
     "metadata": {},
     "output_type": "execute_result"
    }
   ],
   "source": [
    "col = []\n",
    "for n in range(1,11):\n",
    "    col.append(int(n*(n+1)/2) + 2)\n",
    "col"
   ]
  },
  {
   "cell_type": "code",
   "execution_count": 345,
   "metadata": {},
   "outputs": [
    {
     "data": {
      "text/plain": [
       "[6, 9, 13, 18, 24, 31, 39, 48, 58, 69]"
      ]
     },
     "execution_count": 345,
     "metadata": {},
     "output_type": "execute_result"
    }
   ],
   "source": [
    "col = []\n",
    "for n in range(2,12):\n",
    "    col.append(int(n*(n+1)/2) + 3)\n",
    "col"
   ]
  },
  {
   "cell_type": "code",
   "execution_count": 330,
   "metadata": {},
   "outputs": [
    {
     "data": {
      "text/plain": [
       "[4, 7, 11, 16, 22, 29, 37, 46, 56, 67]"
      ]
     },
     "execution_count": 330,
     "metadata": {},
     "output_type": "execute_result"
    }
   ],
   "source": [
    "x = 3\n",
    "y = 2\n",
    "\n",
    "print()"
   ]
  },
  {
   "cell_type": "code",
   "execution_count": 348,
   "metadata": {
    "collapsed": true
   },
   "outputs": [],
   "source": [
    "y_col = [(int(n*(n+1)/2) + 1) for n in range(0,10)]"
   ]
  },
  {
   "cell_type": "code",
   "execution_count": 349,
   "metadata": {},
   "outputs": [
    {
     "data": {
      "text/plain": [
       "[1, 2, 4, 7, 11, 16, 22, 29, 37, 46]"
      ]
     },
     "execution_count": 349,
     "metadata": {},
     "output_type": "execute_result"
    }
   ],
   "source": [
    "y_col"
   ]
  },
  {
   "cell_type": "code",
   "execution_count": 352,
   "metadata": {},
   "outputs": [
    {
     "data": {
      "text/plain": [
       "2"
      ]
     },
     "execution_count": 352,
     "metadata": {},
     "output_type": "execute_result"
    }
   ],
   "source": [
    "x_start = y_col[y-1]\n",
    "\n",
    "x_start"
   ]
  },
  {
   "cell_type": "code",
   "execution_count": 372,
   "metadata": {},
   "outputs": [
    {
     "data": {
      "text/plain": [
       "[2, 5, 9, 14, 20, 27, 35, 44, 54]"
      ]
     },
     "execution_count": 372,
     "metadata": {},
     "output_type": "execute_result"
    }
   ],
   "source": [
    "col = []\n",
    "for n in range(x_start,10 + x_start - 1):\n",
    "    col.append(int(n*(n+1)/2) - 1)\n",
    "col"
   ]
  },
  {
   "cell_type": "code",
   "execution_count": 371,
   "metadata": {},
   "outputs": [
    {
     "data": {
      "text/plain": [
       "[2, 5, 9, 14, 20, 27, 35, 44, 54]"
      ]
     },
     "execution_count": 371,
     "metadata": {},
     "output_type": "execute_result"
    }
   ],
   "source": [
    "[(int(n*(n+1)/2) - 1) for n in range(x_start,10 + x_start - 1)]"
   ]
  },
  {
   "cell_type": "code",
   "execution_count": 369,
   "metadata": {},
   "outputs": [
    {
     "data": {
      "text/plain": [
       "9"
      ]
     },
     "execution_count": 369,
     "metadata": {},
     "output_type": "execute_result"
    }
   ],
   "source": [
    "col[x - 1]"
   ]
  },
  {
   "cell_type": "code",
   "execution_count": 394,
   "metadata": {},
   "outputs": [
    {
     "name": "stdout",
     "output_type": "stream",
     "text": [
      "2\n",
      "[2, 5, 9, 14, 20, 27, 35, 44, 54]\n",
      "9\n"
     ]
    }
   ],
   "source": [
    "x = 3\n",
    "y = 2\n",
    "\n",
    "y_col = [(int(n*(n+1)/2) + 1) for n in range(0,10)]\n",
    "\n",
    "x_start = y_col[y-1]\n",
    "\n",
    "look_up = [(int(n*(n+1)/2) - 1) for n in range(x_start,10 + x_start - 1)]\n",
    "\n",
    "print(x_start)\n",
    "print(look_up)\n",
    "print(look_up[x-1])"
   ]
  },
  {
   "cell_type": "code",
   "execution_count": 468,
   "metadata": {
    "scrolled": true
   },
   "outputs": [
    {
     "name": "stdout",
     "output_type": "stream",
     "text": [
      "[1, 2, 4, 7, 11, 16, 22, 29, 37, 46]\n",
      "[4, 8, 13, 19, 26, 34, 43, 53]\n",
      "8\n"
     ]
    }
   ],
   "source": [
    "x = 2\n",
    "y = 3\n",
    "\n",
    "y_col = [(int(n*(n+1)/2) + 1) for n in range(0,10)]\n",
    "\n",
    "# x_start = y_col[y-1]\n",
    "\n",
    "look_up = [int(n*(n+1)/2 - (y-1)) for n in range(y,11)]\n",
    "\n",
    "print(y_col)\n",
    "# print(x_start)\n",
    "print(look_up)\n",
    "print(look_up[x-1])"
   ]
  },
  {
   "cell_type": "code",
   "execution_count": 464,
   "metadata": {},
   "outputs": [
    {
     "data": {
      "text/plain": [
       "2"
      ]
     },
     "execution_count": 464,
     "metadata": {},
     "output_type": "execute_result"
    }
   ],
   "source": [
    "y -1"
   ]
  },
  {
   "cell_type": "code",
   "execution_count": 422,
   "metadata": {},
   "outputs": [
    {
     "data": {
      "text/plain": [
       "[1, 3, 6, 10, 15, 21, 28, 36, 45]"
      ]
     },
     "execution_count": 422,
     "metadata": {},
     "output_type": "execute_result"
    }
   ],
   "source": [
    "col = []\n",
    "for n in range(1,10):\n",
    "    col.append(int(n*(n+1)/2))\n",
    "col"
   ]
  },
  {
   "cell_type": "code",
   "execution_count": 429,
   "metadata": {},
   "outputs": [
    {
     "data": {
      "text/plain": [
       "[2, 5, 9, 14, 20, 27, 35, 44]"
      ]
     },
     "execution_count": 429,
     "metadata": {},
     "output_type": "execute_result"
    }
   ],
   "source": [
    "col = []\n",
    "for n in range(2,10):\n",
    "    col.append(int(n*(n+1)/2) - 1)\n",
    "col"
   ]
  },
  {
   "cell_type": "code",
   "execution_count": 431,
   "metadata": {},
   "outputs": [
    {
     "data": {
      "text/plain": [
       "[4, 8, 13, 19, 26, 34, 43, 53, 64, 76]"
      ]
     },
     "execution_count": 431,
     "metadata": {},
     "output_type": "execute_result"
    }
   ],
   "source": [
    "col = []\n",
    "for n in range(3,13):\n",
    "    col.append(int(n*(n+1)/2) - 2)\n",
    "col"
   ]
  },
  {
   "cell_type": "code",
   "execution_count": 433,
   "metadata": {},
   "outputs": [
    {
     "data": {
      "text/plain": [
       "[1, 3, 6, 10, 15, 21, 28, 36, 45]"
      ]
     },
     "execution_count": 433,
     "metadata": {},
     "output_type": "execute_result"
    }
   ],
   "source": [
    "[int(n*(n+1)/2) for n in range(1,10)]"
   ]
  },
  {
   "cell_type": "code",
   "execution_count": 434,
   "metadata": {},
   "outputs": [
    {
     "data": {
      "text/plain": [
       "[2, 5, 9, 14, 20, 27, 35, 44, 54]"
      ]
     },
     "execution_count": 434,
     "metadata": {},
     "output_type": "execute_result"
    }
   ],
   "source": [
    "[int(n*(n+1)/2 - 1) for n in range(1 + 1,10 + 1)]"
   ]
  },
  {
   "cell_type": "code",
   "execution_count": 435,
   "metadata": {},
   "outputs": [
    {
     "data": {
      "text/plain": [
       "[4, 8, 13, 19, 26, 34, 43, 53, 64]"
      ]
     },
     "execution_count": 435,
     "metadata": {},
     "output_type": "execute_result"
    }
   ],
   "source": [
    "[int(n*(n+1)/2 - 2) for n in range(1 + 2,10 + 2)]"
   ]
  },
  {
   "cell_type": "code",
   "execution_count": 475,
   "metadata": {},
   "outputs": [
    {
     "name": "stdout",
     "output_type": "stream",
     "text": [
      "96\n"
     ]
    }
   ],
   "source": [
    "x = 5\n",
    "y = 10\n",
    "\n",
    "y_col = [(int(n*(n+1)/2) + 1) for n in range(0,100)]\n",
    "\n",
    "# x_start = y_col[y-1]\n",
    "\n",
    "look_up = [int(n*(n+1)/2 - (y-1)) for n in range(y,101)]\n",
    "\n",
    "# print(y_col)\n",
    "# # print(x_start)\n",
    "# print(look_up)\n",
    "print(look_up[x-1])"
   ]
  },
  {
   "cell_type": "code",
   "execution_count": 491,
   "metadata": {},
   "outputs": [
    {
     "name": "stdout",
     "output_type": "stream",
     "text": [
      "101\n"
     ]
    }
   ],
   "source": [
    "x = 10\n",
    "y = 5\n",
    "\n",
    "y_col = [(int(n*(n+1)/2) + 1) for n in range(0,100001)]\n",
    "\n",
    "# x_start = y_col[y-1]\n",
    "\n",
    "look_up = [int(n*(n+1)/2 - (y-1)) for n in range(y, y + 100000)]\n",
    "\n",
    "# print(y_col)\n",
    "# # print(x_start)\n",
    "# print(look_up)\n",
    "print(look_up[x-1])"
   ]
  },
  {
   "cell_type": "code",
   "execution_count": 483,
   "metadata": {},
   "outputs": [
    {
     "data": {
      "text/plain": [
       "[4999950001]"
      ]
     },
     "execution_count": 483,
     "metadata": {},
     "output_type": "execute_result"
    }
   ],
   "source": [
    "look_up"
   ]
  },
  {
   "cell_type": "code",
   "execution_count": 499,
   "metadata": {
    "collapsed": true
   },
   "outputs": [],
   "source": [
    "def answer(x, y):\n",
    "    \n",
    "    # Checking vertical column of prison first:\n",
    "    y_col = [(int(n*(n+1)/2) + 1) for n in range(0,100001)]\n",
    "    \n",
    "    # Checking horizontal column of prison second:\n",
    "    look_up = [int(n*(n+1)/2 - (y-1)) for n in range(y, y + 100000)]\n",
    "\n",
    "    return(str(look_up[x-1]))"
   ]
  },
  {
   "cell_type": "code",
   "execution_count": 500,
   "metadata": {},
   "outputs": [
    {
     "data": {
      "text/plain": [
       "'1'"
      ]
     },
     "execution_count": 500,
     "metadata": {},
     "output_type": "execute_result"
    }
   ],
   "source": [
    "# # Test Cases:\n",
    "# answer(1,1)\n",
    "\n",
    "# answer(2,3)\n",
    "\n",
    "# answer(3,2)\n",
    "\n",
    "# answer(5,10)\n",
    "\n",
    "# answer(10,5)\n",
    "\n",
    "# answer(100000, 100000)"
   ]
  },
  {
   "cell_type": "code",
   "execution_count": null,
   "metadata": {
    "collapsed": true
   },
   "outputs": [],
   "source": []
  }
 ],
 "metadata": {
  "kernelspec": {
   "display_name": "Python 3",
   "language": "python",
   "name": "python3"
  },
  "language_info": {
   "codemirror_mode": {
    "name": "ipython",
    "version": 3
   },
   "file_extension": ".py",
   "mimetype": "text/x-python",
   "name": "python",
   "nbconvert_exporter": "python",
   "pygments_lexer": "ipython3",
   "version": "3.6.3"
  }
 },
 "nbformat": 4,
 "nbformat_minor": 2
}
